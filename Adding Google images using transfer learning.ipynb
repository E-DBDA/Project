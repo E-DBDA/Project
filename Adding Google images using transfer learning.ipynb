{
 "cells": [
  {
   "cell_type": "markdown",
   "metadata": {},
   "source": [
    "## @author - Pardeep\n",
    "## transfer learning model using MobileNetV2 which is already trained over dataset images\n",
    "### reference :- https://keras.io/api/applications/mobilenet/#mobilenetv2-function"
   ]
  },
  {
   "cell_type": "markdown",
   "metadata": {},
   "source": [
    "# Data Preprocessing"
   ]
  },
  {
   "cell_type": "code",
   "execution_count": 1,
   "metadata": {},
   "outputs": [],
   "source": [
    "from keras.preprocessing.image import ImageDataGenerator"
   ]
  },
  {
   "cell_type": "markdown",
   "metadata": {},
   "source": [
    "### Preprocessing the Training set"
   ]
  },
  {
   "cell_type": "code",
   "execution_count": 2,
   "metadata": {},
   "outputs": [
    {
     "name": "stdout",
     "output_type": "stream",
     "text": [
      "Found 122 images belonging to 30 classes.\n"
     ]
    }
   ],
   "source": [
    "train_datagen = ImageDataGenerator(rescale = 1./255,\n",
    "                                   shear_range = 0.2,\n",
    "                                   zoom_range = 0.2,\n",
    "                                   horizontal_flip = True,\n",
    "                                   featurewise_center=False,\n",
    "                                   rotation_range=0.2,\n",
    "                                   width_shift_range=0.2,\n",
    "                                   height_shift_range=0.2,\n",
    "                                   brightness_range=(0.2,1.0),\n",
    "                                   channel_shift_range=0.2,\n",
    "                                   fill_mode=\"nearest\",\n",
    "                                   vertical_flip=True,)\n",
    "training_set = train_datagen.flow_from_directory(r'C:\\Users\\parde\\Downloads\\Mixed Images\\Google images only\\Segmented Medicinal Leaf Images',\n",
    "                                                 target_size = (224, 224),\n",
    "                                                 batch_size = 32,\n",
    "                                                 class_mode = 'categorical')"
   ]
  },
  {
   "cell_type": "markdown",
   "metadata": {},
   "source": [
    "### Preprocessing the Test set (contains random images only)"
   ]
  },
  {
   "cell_type": "code",
   "execution_count": 3,
   "metadata": {},
   "outputs": [
    {
     "name": "stdout",
     "output_type": "stream",
     "text": [
      "Found 122 images belonging to 30 classes.\n"
     ]
    }
   ],
   "source": [
    "test_datagen = ImageDataGenerator(rescale = 1./255)\n",
    "test_set = test_datagen.flow_from_directory(r'C:\\Users\\parde\\Downloads\\Mixed Images\\5 images from dataset and other from google/Data\\Google images only',\n",
    "                                            target_size = (224, 224),\n",
    "                                            batch_size = 32,\n",
    "                                            class_mode = 'categorical')"
   ]
  },
  {
   "cell_type": "markdown",
   "metadata": {},
   "source": [
    "### Preprocessing the test set (contains dataset images only)"
   ]
  },
  {
   "cell_type": "code",
   "execution_count": 4,
   "metadata": {},
   "outputs": [
    {
     "name": "stdout",
     "output_type": "stream",
     "text": [
      "Found 150 images belonging to 30 classes.\n"
     ]
    }
   ],
   "source": [
    "test_datagen = ImageDataGenerator(rescale = 1./255)\n",
    "val_set = test_datagen.flow_from_directory(r'C:\\Users\\parde\\Downloads\\Mixed Images\\5 images from dataset and other from google\\Data\\Dataset images only',\n",
    "                                            target_size = (224, 224),\n",
    "                                            batch_size = 32,\n",
    "                                            class_mode = 'categorical')"
   ]
  },
  {
   "cell_type": "markdown",
   "metadata": {},
   "source": [
    "# importing transfer learning model"
   ]
  },
  {
   "cell_type": "code",
   "execution_count": 5,
   "metadata": {},
   "outputs": [],
   "source": [
    "import tensorflow as tf\n",
    "from keras.models import load_model"
   ]
  },
  {
   "cell_type": "code",
   "execution_count": 6,
   "metadata": {},
   "outputs": [],
   "source": [
    "model = tf.keras.models.load_model(\"mobilenetv2.h5\")"
   ]
  },
  {
   "cell_type": "markdown",
   "metadata": {},
   "source": [
    "# preprocessing pre trained model"
   ]
  },
  {
   "cell_type": "code",
   "execution_count": 7,
   "metadata": {},
   "outputs": [],
   "source": [
    "for layer in model.layers:\n",
    "    layer.trainable = False"
   ]
  },
  {
   "cell_type": "raw",
   "metadata": {},
   "source": [
    "model.summary()"
   ]
  },
  {
   "cell_type": "markdown",
   "metadata": {},
   "source": [
    "# Training the transfer learning model"
   ]
  },
  {
   "cell_type": "markdown",
   "metadata": {},
   "source": [
    "### Compiling the CNN"
   ]
  },
  {
   "cell_type": "code",
   "execution_count": 8,
   "metadata": {},
   "outputs": [],
   "source": [
    "model.compile(optimizer = 'adam', loss = 'CategoricalCrossentropy', metrics = ['accuracy'])"
   ]
  },
  {
   "cell_type": "markdown",
   "metadata": {},
   "source": [
    "### To avoid model to overfitting "
   ]
  },
  {
   "cell_type": "code",
   "execution_count": 9,
   "metadata": {},
   "outputs": [],
   "source": [
    "from keras.callbacks import EarlyStopping"
   ]
  },
  {
   "cell_type": "code",
   "execution_count": 10,
   "metadata": {},
   "outputs": [],
   "source": [
    "earlystop = EarlyStopping(monitor='accuracy', patience=3, verbose=2)"
   ]
  },
  {
   "cell_type": "markdown",
   "metadata": {},
   "source": [
    "### Training the CNN on the Training set and evaluating it on the Test set"
   ]
  },
  {
   "cell_type": "code",
   "execution_count": 11,
   "metadata": {},
   "outputs": [],
   "source": [
    "STEP_SIZE_TRAIN=training_set.n//training_set.batch_size"
   ]
  },
  {
   "cell_type": "code",
   "execution_count": 12,
   "metadata": {},
   "outputs": [
    {
     "name": "stdout",
     "output_type": "stream",
     "text": [
      "Epoch 1/50\n",
      "3/3 [==============================] - 5s 741ms/step - loss: 36.3628 - accuracy: 0.1235\n",
      "Epoch 2/50\n",
      "3/3 [==============================] - 3s 820ms/step - loss: 35.1047 - accuracy: 0.1055\n",
      "Epoch 3/50\n",
      "3/3 [==============================] - 2s 726ms/step - loss: 35.6765 - accuracy: 0.1109\n",
      "Epoch 4/50\n",
      "3/3 [==============================] - 3s 1s/step - loss: 37.6197 - accuracy: 0.0846\n",
      "Epoch 00004: early stopping\n"
     ]
    }
   ],
   "source": [
    "a= model.fit(training_set, steps_per_epoch=STEP_SIZE_TRAIN, callbacks= earlystop,epochs = 50)"
   ]
  },
  {
   "cell_type": "markdown",
   "metadata": {},
   "source": [
    "### accuracy and losses"
   ]
  },
  {
   "cell_type": "markdown",
   "metadata": {},
   "source": [
    "### Accuracy Over Random google images"
   ]
  },
  {
   "cell_type": "code",
   "execution_count": 13,
   "metadata": {},
   "outputs": [
    {
     "name": "stdout",
     "output_type": "stream",
     "text": [
      "4/4 [==============================] - 3s 615ms/step - loss: 32.1839 - accuracy: 0.1393\n",
      "Accuracy on google images:  0.13934426009655\n"
     ]
    }
   ],
   "source": [
    "test_loss, test_acc =model.evaluate(test_set)\n",
    "print(\"Accuracy on google images: \",test_acc)"
   ]
  },
  {
   "cell_type": "markdown",
   "metadata": {},
   "source": [
    "### Accuracy Over Dataset Images"
   ]
  },
  {
   "cell_type": "code",
   "execution_count": 14,
   "metadata": {},
   "outputs": [
    {
     "name": "stdout",
     "output_type": "stream",
     "text": [
      "loss on google images:  32.18390655517578\n"
     ]
    }
   ],
   "source": [
    "print(\"loss on google images: \",test_loss)"
   ]
  },
  {
   "cell_type": "code",
   "execution_count": 15,
   "metadata": {},
   "outputs": [
    {
     "name": "stdout",
     "output_type": "stream",
     "text": [
      "5/5 [==============================] - 4s 771ms/step - loss: 0.1029 - accuracy: 0.9667\n",
      "Accuracy on Dataset images:  0.9666666388511658\n"
     ]
    }
   ],
   "source": [
    "test_loss, test_acc =model.evaluate(val_set)\n",
    "print(\"Accuracy on Dataset images: \",test_acc)"
   ]
  },
  {
   "cell_type": "code",
   "execution_count": 16,
   "metadata": {},
   "outputs": [
    {
     "name": "stdout",
     "output_type": "stream",
     "text": [
      "loss on Dataset images:  0.10294465720653534\n"
     ]
    }
   ],
   "source": [
    "print(\"loss on Dataset images: \",test_loss)"
   ]
  },
  {
   "cell_type": "code",
   "execution_count": 17,
   "metadata": {},
   "outputs": [],
   "source": [
    "import matplotlib.pyplot as plt"
   ]
  },
  {
   "cell_type": "code",
   "execution_count": 18,
   "metadata": {},
   "outputs": [
    {
     "data": {
      "image/png": "[encoded data removed]",
      "text/plain": [
       "<Figure size 432x288 with 1 Axes>"
      ]
     },
     "metadata": {
      "needs_background": "light"
     },
     "output_type": "display_data"
    },
    {
     "data": {
      "image/png": "[encoded data removed]",
      "text/plain": [
       "<Figure size 432x288 with 1 Axes>"
      ]
     },
     "metadata": {
      "needs_background": "light"
     },
     "output_type": "display_data"
    }
   ],
   "source": [
    "# plot the loss\n",
    "plt.plot(a.history['loss'], label='train loss')\n",
    "plt.legend()\n",
    "plt.show()\n",
    "#plt.savefig('LossVal_loss')\n",
    "\n",
    "# plot the accuracy\n",
    "plt.plot(a.history['accuracy'], label='train acc')\n",
    "plt.legend()\n",
    "plt.show()\n",
    "#plt.savefig('AccVal_acc')"
   ]
  },
  {
   "cell_type": "markdown",
   "metadata": {},
   "source": [
    "## saving a model"
   ]
  },
  {
   "cell_type": "code",
   "execution_count": 19,
   "metadata": {},
   "outputs": [],
   "source": [
    "import tensorflow as tf\n",
    "\n",
    "from keras.models import load_model\n",
    "\n",
    "model.save('4limiteddatamobilenetv2.h5')"
   ]
  },
  {
   "cell_type": "markdown",
   "metadata": {},
   "source": [
    "# Added google images to model which is already trained over Dataset"
   ]
  },
  {
   "cell_type": "markdown",
   "metadata": {},
   "source": [
    "# Single Prediction"
   ]
  },
  {
   "cell_type": "code",
   "execution_count": 20,
   "metadata": {},
   "outputs": [],
   "source": [
    "from tensorflow import keras\n",
    "import tensorflow as tf"
   ]
  },
  {
   "cell_type": "code",
   "execution_count": 21,
   "metadata": {},
   "outputs": [],
   "source": [
    "img = keras.preprocessing.image.load_img(\n",
    "    r\"C:\\Users\\parde\\Downloads\\Project Workspace\\Segmented Medicinal Leaf Images\\Brassica Juncea (Indian Mustard)\\BJ-S-029.jpg\", target_size=(224,224,3)\n",
    ")\n",
    "img_array = keras.preprocessing.image.img_to_array(img)/255\n",
    "img_array = tf.expand_dims(img_array, 0)  # Create batch axis\n",
    "\n",
    "predictions = model.predict(img_array)\n",
    "result = predictions[0]"
   ]
  },
  {
   "cell_type": "code",
   "execution_count": 22,
   "metadata": {},
   "outputs": [],
   "source": [
    "\n",
    "if result[0] == result.max():\n",
    "  prediction = 'Alpinia Galanga (Rasna)'\n",
    "elif result[1] == result.max():\n",
    "    prediction = 'Amaranthus Viridis (Arive-Dantu)'\n",
    "elif result[2] == result.max():\n",
    "    prediction = 'Artocarpus Heterophyllus (Jackfruit)'\n",
    "elif result[3] == result.max():\n",
    "    prediction = 'Azadirachta Indica (Neem)'\n",
    "elif result[4] == result.max():\n",
    "    prediction = 'Basella Alba (Basale)'\n",
    "elif result[5] == result.max():\n",
    "    prediction = 'Brassica Juncea (Indian Mustard)'\n",
    "elif result[6] == result.max():\n",
    "    prediction = 'Carissa Carandas (Karanda)'\n",
    "elif result[7] == result.max():\n",
    "    prediction = 'Citrus Limon (Lemon)'\n",
    "elif result[8] == result.max():\n",
    "    prediction = 'Ficus Auriculata (Roxburgh fig)'\n",
    "elif result[9] == result.max():\n",
    "    prediction = 'Ficus Religiosa (Peepal Tree)'\n",
    "elif result[10] == result.max():\n",
    "    prediction = 'Hibiscus Rosa-sinensis'\n",
    "elif result[11] == result.max():\n",
    "    prediction = 'Jasminum (Jasmine)'\n",
    "elif result[12] == result.max():\n",
    "    prediction = 'Mangifera Indica (Mango)'\n",
    "elif result[12] == result.max():\n",
    "    prediction = 'Mentha (Mint)'\n",
    "elif result[14] == result.max():\n",
    "    prediction = 'Moringa Oleifera (Drumstick)'\n",
    "elif result[15] == result.max():\n",
    "    prediction = 'Muntingia Calabura (Jamaica Cherry-Gasagase)'\n",
    "elif result[16] == result.max():\n",
    "    prediction = 'Murraya Koenigii (Curry)'\n",
    "elif result[17] == result.max():\n",
    "    prediction = 'Nerium Oleander (Oleander)'\n",
    "elif result[18] == result.max():\n",
    "    prediction = 'Nyctanthes Arbor-tristis (Parijata)'\n",
    "elif result[19] == result.max():\n",
    "    prediction = 'Ocimum Tenuiflorum (Tulsi)'\n",
    "elif result[20] == result.max():\n",
    "    prediction = 'Piper Betle (Betel)'\n",
    "elif result[21] == result.max():\n",
    "    prediction = 'Plectranthus Amboinicus (Mexican Mint)'\n",
    "elif result[22] == result.max():\n",
    "    prediction = 'Pongamia Pinnata (Indian Beech)'\n",
    "elif result[23] == result.max():\n",
    "    prediction = 'Psidium Guajava (Guava)'\n",
    "elif result[24] == result.max():\n",
    "    prediction = 'Punica Granatum (Pomegranate)'\n",
    "elif result[25] == result.max():\n",
    "    prediction = 'Santalum Album (Sandalwood)'\n",
    "elif result[26] == result.max():\n",
    "    prediction = 'Syzygium Cumini (Jamun)'\n",
    "elif result[27] == result.max():\n",
    "    prediction = 'Syzygium Jambos (Rose Apple)'\n",
    "elif result[28] == result.max():\n",
    "    prediction = 'Tabernaemontana Divaricata (Crape Jasmine)'\n",
    "else:\n",
    "    prediction = 'Trigonella Foenum-graecum (Fenugreek)'"
   ]
  },
  {
   "cell_type": "code",
   "execution_count": 23,
   "metadata": {},
   "outputs": [
    {
     "name": "stdout",
     "output_type": "stream",
     "text": [
      "Brassica Juncea (Indian Mustard)\n"
     ]
    }
   ],
   "source": [
    "print(prediction)\n"
   ]
  }
 ],
 "metadata": {
  "kernelspec": {
   "display_name": "Python 3",
   "language": "python",
   "name": "python3"
  },
  "language_info": {
   "codemirror_mode": {
    "name": "ipython",
    "version": 3
   },
   "file_extension": ".py",
   "mimetype": "text/x-python",
   "name": "python",
   "nbconvert_exporter": "python",
   "pygments_lexer": "ipython3",
   "version": "3.8.5"
  }
 },
 "nbformat": 4,
 "nbformat_minor": 4
}
