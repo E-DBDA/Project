{
 "cells": [
  {
   "cell_type": "code",
   "execution_count": 1,
   "metadata": {
    "colab": {
     "base_uri": "https://localhost:8080/"
    },
    "executionInfo": {
     "elapsed": 28958,
     "status": "ok",
     "timestamp": 1615313144555,
     "user": {
      "displayName": "Hitakshi Tripathi",
      "photoUrl": "",
      "userId": "15137861675447163555"
     },
     "user_tz": -330
    },
    "id": "tAb77yZ9fzMG",
    "outputId": "07f82d2d-9156-4fa8-d687-b48c67299d57"
   },
   "outputs": [
    {
     "name": "stdout",
     "output_type": "stream",
     "text": [
      "Mounted at /content/drive\n"
     ]
    }
   ],
   "source": [
    "from google.colab import drive\n",
    "drive.mount('/content/drive')"
   ]
  },
  {
   "cell_type": "code",
   "execution_count": 2,
   "metadata": {},
   "outputs": [
    {
     "data": {
      "text/plain": [
       "'Author : Hitakshi Tripathi'"
      ]
     },
     "execution_count": 2,
     "metadata": {},
     "output_type": "execute_result"
    }
   ],
   "source": [
    "\"Author : Hitakshi Tripathi\"\n",
    "#This model gives 89% accuracy and was trained on pre computed Resnet 101 model\n",
    "#data is splited in 90-10 ratio i.e only 4 image to train and rest for testing\n",
    "#Challenge in this model is it requres more RAM and also takes time to execute for some cell\n"
   ]
  },
  {
   "cell_type": "code",
   "execution_count": 2,
   "metadata": {
    "colab": {
     "base_uri": "https://localhost:8080/"
    },
    "executionInfo": {
     "elapsed": 5914,
     "status": "ok",
     "timestamp": 1615313165859,
     "user": {
      "displayName": "Hitakshi Tripathi",
      "photoUrl": "",
      "userId": "15137861675447163555"
     },
     "user_tz": -330
    },
    "id": "pafL7Li0jyXW",
    "outputId": "cb144431-b103-4d9f-ea5b-7778b92d0c94"
   },
   "outputs": [
    {
     "name": "stdout",
     "output_type": "stream",
     "text": [
      "Collecting pyDOE\n",
      "  Downloading https://files.pythonhosted.org/packages/bc/ac/91fe4c039e2744466621343d3b8af4a485193ed0aab53af5b1db03be0989/pyDOE-0.3.8.zip\n",
      "Requirement already satisfied: numpy in /usr/local/lib/python3.7/dist-packages (from pyDOE) (1.19.5)\n",
      "Requirement already satisfied: scipy in /usr/local/lib/python3.7/dist-packages (from pyDOE) (1.4.1)\n",
      "Building wheels for collected packages: pyDOE\n",
      "  Building wheel for pyDOE (setup.py) ... \u001b[?25l\u001b[?25hdone\n",
      "  Created wheel for pyDOE: filename=pyDOE-0.3.8-cp37-none-any.whl size=18178 sha256=fb4c6cbe32cad417b282390bd8eba9db0fc2703dd45a77a44e986597d1709020\n",
      "  Stored in directory: /root/.cache/pip/wheels/7c/c8/58/a6493bd415e8ba5735082b5e0c096d7c1f2933077a8ce34544\n",
      "Successfully built pyDOE\n",
      "Installing collected packages: pyDOE\n",
      "Successfully installed pyDOE-0.3.8\n"
     ]
    }
   ],
   "source": [
    "!pip install pyDOE"
   ]
  },
  {
   "cell_type": "code",
   "execution_count": 3,
   "metadata": {
    "executionInfo": {
     "elapsed": 3212,
     "status": "ok",
     "timestamp": 1615313173577,
     "user": {
      "displayName": "Hitakshi Tripathi",
      "photoUrl": "",
      "userId": "15137861675447163555"
     },
     "user_tz": -330
    },
    "id": "7J0W8d1FKsa1"
   },
   "outputs": [],
   "source": [
    "import os\n",
    "import random\n",
    "import math\n",
    "\n",
    "import tensorflow as tf\n",
    "from tensorflow.keras.preprocessing.image import load_img, img_to_array\n",
    "import tensorflow.keras.layers as L\n",
    "from tensorflow.keras.utils import to_categorical\n",
    "from tensorflow.keras.regularizers import l2\n",
    "from tensorflow.keras.optimizers import Adam\n",
    "from tensorflow.keras.optimizers.schedules import ExponentialDecay\n",
    "import tensorflow_hub as hub\n",
    "import numpy as np\n",
    "from sklearn.model_selection import train_test_split, RepeatedStratifiedKFold\n",
    "from sklearn.utils import shuffle\n",
    "from sklearn.metrics import accuracy_score\n",
    "from tqdm import tqdm\n",
    "from tabulate import tabulate\n",
    "from pyDOE import lhs\n",
    "import matplotlib.pyplot as plt\n",
    "from keras.preprocessing.image import ImageDataGenerator"
   ]
  },
  {
   "cell_type": "code",
   "execution_count": 4,
   "metadata": {
    "colab": {
     "base_uri": "https://localhost:8080/"
    },
    "executionInfo": {
     "elapsed": 691570,
     "status": "ok",
     "timestamp": 1615313888167,
     "user": {
      "displayName": "Hitakshi Tripathi",
      "photoUrl": "",
      "userId": "15137861675447163555"
     },
     "user_tz": -330
    },
    "id": "FwBH_n8sKu-A",
    "outputId": "a526d273-4ab7-4d93-bc06-2f8e5c1a00e8"
   },
   "outputs": [
    {
     "name": "stdout",
     "output_type": "stream",
     "text": [
      "(120, 224, 224, 3) (120, 30)\n"
     ]
    }
   ],
   "source": [
    "class Dataset:\n",
    "    def __init__(self, data_root: str, *, test_size: float, img_size: int, seed: int = 0) -> None:\n",
    "        self.label2index = {}\n",
    "        self.index2label = {}\n",
    "        \n",
    "        # Discover the class label names.\n",
    "        class_labels = os.listdir(data_root)\n",
    "        self.nclasses = len(class_labels)\n",
    "        X, y = [], []\n",
    "        \n",
    "        for label_index, label in enumerate(class_labels):\n",
    "            # Load the images for this class label.\n",
    "            self.label2index[label_index] = label\n",
    "            self.index2label[label] = label_index\n",
    "            \n",
    "            img_names = os.listdir(os.path.join(data_root, label))\n",
    "            for img_name in img_names:\n",
    "                img_path = os.path.join(data_root, label, img_name)\n",
    "                img = load_img(img_path, target_size=(img_size, img_size, 3))\n",
    "                X.append(img_to_array(img))\n",
    "                y.append(label_index)\n",
    "        \n",
    "        X = np.array(X)\n",
    "        y = np.array(y)\n",
    "        one_hot_y = to_categorical(y, num_classes=self.nclasses)\n",
    "        \n",
    "        # Make a stratified split.\n",
    "        self.X, self.X_test, self.labels, self.labels_test, self.y, self.y_test = train_test_split(\n",
    "            X, y, one_hot_y, test_size=test_size, stratify=y )\n",
    "\n",
    "        \n",
    "data = Dataset(\"/content/drive/MyDrive/Dataset\", test_size=0.9, img_size=224)\n",
    "print(data.X.shape,data.y.shape)\n"
   ]
  },
  {
   "cell_type": "code",
   "execution_count": 5,
   "metadata": {
    "colab": {
     "base_uri": "https://localhost:8080/"
    },
    "executionInfo": {
     "elapsed": 82948,
     "status": "ok",
     "timestamp": 1615314025807,
     "user": {
      "displayName": "Hitakshi Tripathi",
      "photoUrl": "",
      "userId": "15137861675447163555"
     },
     "user_tz": -330
    },
    "id": "SZdBrauxK1Xc",
    "outputId": "47f65c6f-1f7c-4ae4-8721-8dc385c045cd"
   },
   "outputs": [
    {
     "name": "stdout",
     "output_type": "stream",
     "text": [
      "(120, 2048) (1085, 2048)\n"
     ]
    }
   ],
   "source": [
    "embed = hub.KerasLayer(\"https://tfhub.dev/google/bit/m-r101x1/1\", trainable=False)\n",
    "X_embedding = embed(data.X)\n",
    "X_test_embedding = embed(data.X_test)\n",
    "print(X_embedding.shape, X_test_embedding.shape)"
   ]
  },
  {
   "cell_type": "code",
   "execution_count": 6,
   "metadata": {
    "executionInfo": {
     "elapsed": 1382,
     "status": "ok",
     "timestamp": 1615314039738,
     "user": {
      "displayName": "Hitakshi Tripathi",
      "photoUrl": "",
      "userId": "15137861675447163555"
     },
     "user_tz": -330
    },
    "id": "kzYO1x2xK7as"
   },
   "outputs": [],
   "source": [
    "def make_model(\n",
    "    nclasses: int, *, dropout_rate: float, nhiddenunits: int, l2_regularization: float\n",
    ") -> tf.keras.Model:\n",
    "    model = tf.keras.Sequential()\n",
    "    # One fully connected hidden layer\n",
    "    model.add(L.Dense(nhiddenunits, activation=\"relu\", kernel_regularizer=l2(l2_regularization)))\n",
    "    model.add(L.Dropout(dropout_rate))\n",
    "    # Output layer\n",
    "    model.add(L.Dense(nclasses, activation=\"softmax\", kernel_regularizer=l2(l2_regularization)))\n",
    "    return model"
   ]
  },
  {
   "cell_type": "code",
   "execution_count": 7,
   "metadata": {
    "executionInfo": {
     "elapsed": 1278,
     "status": "ok",
     "timestamp": 1615314094475,
     "user": {
      "displayName": "Hitakshi Tripathi",
      "photoUrl": "",
      "userId": "15137861675447163555"
     },
     "user_tz": -330
    },
    "id": "vhHpAEiLOC3x"
   },
   "outputs": [],
   "source": [
    "def evaluate_model(\n",
    "    nclasses, X, y, X_dev, y_dev, *,\n",
    "    epochs: int, batch_size: int, learning_rate: float,\n",
    "    model_maker = make_model, **model_params\n",
    ") -> tuple:\n",
    "    \n",
    "    # Math to compute the learning rate schedule. We will divide our\n",
    "    # learning rate by a factor of 10 every 30% of the optimizer's\n",
    "    # total steps.\n",
    "    steps_per_epoch = math.ceil(len(X) / batch_size)\n",
    "    third_of_total_steps = math.floor(epochs * steps_per_epoch / 3)\n",
    "    \n",
    "    # Make and compile the model.\n",
    "    model = model_maker(nclasses, **model_params)\n",
    "    model.compile(\n",
    "        optimizer=Adam(\n",
    "            learning_rate=ExponentialDecay(\n",
    "                learning_rate,\n",
    "                decay_steps=third_of_total_steps,\n",
    "                decay_rate=0.1,\n",
    "                staircase=True\n",
    "            )\n",
    "        ),\n",
    "        loss=\"categorical_crossentropy\",\n",
    "        metrics=[\"accuracy\"]\n",
    "    )\n",
    "    \n",
    "    # Train the model on the training set and evaluate it on the dev set.\n",
    "    model.fit(X, y, batch_size=batch_size, epochs=epochs, verbose=0)\n",
    "    _, train_acc = model.evaluate(X, y, batch_size=batch_size, verbose=0)\n",
    "    _, dev_acc = model.evaluate(X_dev, y_dev, batch_size=batch_size, verbose=0)\n",
    "    return model, train_acc, dev_acc"
   ]
  },
  {
   "cell_type": "code",
   "execution_count": 8,
   "metadata": {
    "executionInfo": {
     "elapsed": 1943,
     "status": "ok",
     "timestamp": 1615314103456,
     "user": {
      "displayName": "Hitakshi Tripathi",
      "photoUrl": "",
      "userId": "15137861675447163555"
     },
     "user_tz": -330
    },
    "id": "EZ-VoE4VOQRc"
   },
   "outputs": [],
   "source": [
    "def cv_evaluate_model(\n",
    "    X, y, labels, *, nfolds: int, nrepeats: int, epochs: int, batch_size: int,\n",
    "    learning_rate: float, model_maker, verbose: bool = True, seed: int = 0,\n",
    "    **model_params\n",
    ") -> dict:\n",
    "    \"\"\"\n",
    "    Performs `nfolds` cross-validated training and evaluation of a\n",
    "    model hyperparameter configuration. Returns a dictionary of\n",
    "    statistics about the outcome of the cross-validated experiment.\n",
    "    \"\"\"\n",
    "    _, nclasses = y.shape\n",
    "    train_accs, dev_accs = [], []\n",
    "    \n",
    "    # Train and evaluate the model for each fold.\n",
    "    for train_index, dev_index in tqdm(\n",
    "        RepeatedStratifiedKFold(\n",
    "            n_splits=nfolds, n_repeats=nrepeats, random_state=seed\n",
    "        ).split(X, labels),\n",
    "        total=nfolds*nrepeats, disable=not verbose\n",
    "    ):\n",
    "        \n",
    "        # Select the data for this fold.\n",
    "        X_train_fold = tf.gather(X, train_index) \n",
    "        y_train_fold = tf.gather(y, train_index)\n",
    "        X_dev_fold = tf.gather(X, dev_index)\n",
    "        y_dev_fold = tf.gather(y, dev_index)\n",
    "        \n",
    "        # Train and evaluate the model.\n",
    "        _, train_acc, dev_acc = evaluate_model(\n",
    "            nclasses,\n",
    "            X_train_fold,\n",
    "            y_train_fold,\n",
    "            X_dev_fold,\n",
    "            y_dev_fold,\n",
    "            epochs=epochs,\n",
    "            batch_size=batch_size,\n",
    "            learning_rate=learning_rate,\n",
    "            model_maker=model_maker,\n",
    "            **model_params\n",
    "        )\n",
    "        train_accs.append(train_acc)\n",
    "        dev_accs.append(dev_acc)\n",
    "    \n",
    "    # Aggregate.\n",
    "    results = {\n",
    "        \"train_mean\": np.mean(train_accs),\n",
    "        \"train_std\": np.std(train_accs),\n",
    "        \"dev_mean\": np.mean(dev_accs),\n",
    "        \"dev_std\": np.std(dev_accs)\n",
    "    }\n",
    "    \n",
    "    # Report.\n",
    "    if verbose:\n",
    "        print(\n",
    "            tabulate(\n",
    "                [\n",
    "                    [\"Train\", results[\"train_mean\"], results[\"train_std\"]],\n",
    "                    [\"Dev\", results[\"dev_mean\"], results[\"dev_std\"]]\n",
    "                ],\n",
    "                headers=[\"Set\", \"Mean\", \"Std. Dev.\"]\n",
    "            )\n",
    "        )\n",
    "    \n",
    "    return results"
   ]
  },
  {
   "cell_type": "code",
   "execution_count": 9,
   "metadata": {
    "colab": {
     "base_uri": "https://localhost:8080/"
    },
    "executionInfo": {
     "elapsed": 5330,
     "status": "ok",
     "timestamp": 1615314116384,
     "user": {
      "displayName": "Hitakshi Tripathi",
      "photoUrl": "",
      "userId": "15137861675447163555"
     },
     "user_tz": -330
    },
    "id": "W9vUtEy9OSTP",
    "outputId": "e5698a65-dab8-4b19-fe01-e7f735ef29d3"
   },
   "outputs": [
    {
     "name": "stderr",
     "output_type": "stream",
     "text": [
      "100%|██████████| 6/6 [00:03<00:00,  1.52it/s]"
     ]
    },
    {
     "name": "stdout",
     "output_type": "stream",
     "text": [
      "Set        Mean    Std. Dev.\n",
      "-----  --------  -----------\n",
      "Train  0.161111    0.0864242\n",
      "Dev    0.105556    0.0404451\n"
     ]
    },
    {
     "name": "stderr",
     "output_type": "stream",
     "text": [
      "\n"
     ]
    }
   ],
   "source": [
    "# We'll refer to these values throughout the notebook.\n",
    "default_cv_evaluate_params = {\n",
    "    \"X\": X_embedding,\n",
    "    \"y\": data.y,\n",
    "    \"labels\": data.labels,\n",
    "    \"nfolds\": 2,\n",
    "    \"nrepeats\": 3,\n",
    "    \"model_maker\": make_model,\n",
    "    \"epochs\": 10,\n",
    "    \"batch_size\": 16,\n",
    "    \"verbose\": False,\n",
    "    \"learning_rate\": 3e-3,\n",
    "    \"dropout_rate\": 0.3,\n",
    "    \"nhiddenunits\": 64,\n",
    "    \"l2_regularization\": 1e-6\n",
    "}\n",
    "\n",
    "_ = cv_evaluate_model(\n",
    "    **{\n",
    "        **default_cv_evaluate_params,\n",
    "        \"verbose\": True\n",
    "    }\n",
    ")"
   ]
  },
  {
   "cell_type": "code",
   "execution_count": 10,
   "metadata": {
    "executionInfo": {
     "elapsed": 1286,
     "status": "ok",
     "timestamp": 1615314133747,
     "user": {
      "displayName": "Hitakshi Tripathi",
      "photoUrl": "",
      "userId": "15137861675447163555"
     },
     "user_tz": -330
    },
    "id": "OqbkNOWrOUoQ"
   },
   "outputs": [],
   "source": [
    "nsamples = 20\n",
    "# `lhs` will yield a `nsamples`x2 matrix, with all values following\n",
    "# the uniform distribution in [0,1]\n",
    "np.random.seed()\n",
    "x = lhs(n=2, samples=nsamples)\n",
    "# Scale dropout samples to be in [0,0.6]\n",
    "dropout_rates = (x[:, 0]*.6)\n",
    "# Scale l2 samples to be in [-8, -1]\n",
    "l2_rates = (x[:, 1]*-7 - 1)\n",
    "# Now scale l2 samples to follow the\n",
    "# log scale in the range [10**-8,10**-1]\n",
    "l2_rates = 10**l2_rates"
   ]
  },
  {
   "cell_type": "code",
   "execution_count": 11,
   "metadata": {
    "colab": {
     "base_uri": "https://localhost:8080/"
    },
    "executionInfo": {
     "elapsed": 76866,
     "status": "ok",
     "timestamp": 1615314218585,
     "user": {
      "displayName": "Hitakshi Tripathi",
      "photoUrl": "",
      "userId": "15137861675447163555"
     },
     "user_tz": -330
    },
    "id": "zMmE5z6DOZ2p",
    "outputId": "eb8bfee1-cd86-41ef-dd05-1cfbc4602104"
   },
   "outputs": [
    {
     "name": "stderr",
     "output_type": "stream",
     "text": [
      "100%|██████████| 20/20 [01:15<00:00,  3.77s/it]\n"
     ]
    }
   ],
   "source": [
    "dev_means = np.zeros((nsamples, 1))\n",
    "dev_stds = np.zeros((nsamples, 1))\n",
    "for i in tqdm(range(nsamples)):\n",
    "    results = cv_evaluate_model(\n",
    "        **{\n",
    "            **default_cv_evaluate_params,\n",
    "            \"dropout_rate\": dropout_rates[i],\n",
    "            \"l2_regularization\": l2_rates[i]\n",
    "        }\n",
    "    )\n",
    "    dev_means[i] = results[\"dev_mean\"]\n",
    "    dev_stds[i] = results[\"dev_std\"]"
   ]
  },
  {
   "cell_type": "code",
   "execution_count": 12,
   "metadata": {
    "colab": {
     "base_uri": "https://localhost:8080/",
     "height": 313
    },
    "executionInfo": {
     "elapsed": 1908,
     "status": "ok",
     "timestamp": 1615314245549,
     "user": {
      "displayName": "Hitakshi Tripathi",
      "photoUrl": "",
      "userId": "15137861675447163555"
     },
     "user_tz": -330
    },
    "id": "dqGz4hRrOcHU",
    "outputId": "1ea695d9-e2de-4ad2-a789-1d906a44455a"
   },
   "outputs": [
    {
     "name": "stdout",
     "output_type": "stream",
     "text": [
      "Best l2_rate:\t0.0013057036691788918\n",
      "Best dropout:\t0.044981642756667724\n"
     ]
    },
    {
     "data": {
      "image/png": "[encoded data removed]",
      "text/plain": [
       "<Figure size 432x288 with 2 Axes>"
      ]
     },
     "metadata": {
      "needs_background": "light",
      "tags": []
     },
     "output_type": "display_data"
    }
   ],
   "source": [
    "best_i = np.argmax(dev_means)\n",
    "best_l2 = l2_rates[best_i]\n",
    "print(f\"Best l2_rate:\\t{best_l2}\")\n",
    "best_dropout = dropout_rates[best_i]\n",
    "print(f\"Best dropout:\\t{best_dropout}\")\n",
    "\n",
    "plt.scatter(dropout_rates, l2_rates, c=dev_means, cmap=plt.cm.coolwarm)\n",
    "plt.xlabel(\"Dropout Rate\")\n",
    "plt.ylabel(\"L2 Rate\")\n",
    "plt.yscale(\"log\")\n",
    "plt.colorbar()\n",
    "plt.show()"
   ]
  },
  {
   "cell_type": "code",
   "execution_count": 13,
   "metadata": {
    "executionInfo": {
     "elapsed": 1419,
     "status": "ok",
     "timestamp": 1615314253047,
     "user": {
      "displayName": "Hitakshi Tripathi",
      "photoUrl": "",
      "userId": "15137861675447163555"
     },
     "user_tz": -330
    },
    "id": "ulVuH41KOjWh"
   },
   "outputs": [],
   "source": [
    "default_cv_evaluate_params[\"dropout_rate\"] = best_dropout\n",
    "default_cv_evaluate_params[\"l2_regularization\"] = best_l2"
   ]
  },
  {
   "cell_type": "code",
   "execution_count": 14,
   "metadata": {
    "executionInfo": {
     "elapsed": 1229,
     "status": "ok",
     "timestamp": 1615314256278,
     "user": {
      "displayName": "Hitakshi Tripathi",
      "photoUrl": "",
      "userId": "15137861675447163555"
     },
     "user_tz": -330
    },
    "id": "PjJADVHOOmjm"
   },
   "outputs": [],
   "source": [
    "def search_hyperparam(\n",
    "    param_name: str, lower: int, upper: int, nsamples: int,\n",
    "    scale: str = \"float\", **cv_evaluate_params\n",
    ") -> float:\n",
    "    \"\"\"\n",
    "    Cross validates a model along an evenly spaced range of `nsamples`\n",
    "    values for a single hyperparameter (identified by `param_name`. The\n",
    "    values are evenly spaced in the range `[lower,upper]`, and scaled\n",
    "    according to `scale`.\n",
    "    \"\"\"\n",
    "    # Sample the hyperparameter values to try.\n",
    "    param_values = np.linspace(lower, upper, nsamples)\n",
    "    if scale == \"log\":\n",
    "        param_values = 10**param_values\n",
    "    elif scale == \"int\":\n",
    "        param_values = param_values.astype(int)\n",
    "    \n",
    "    # Evaluate the model at each of the values.\n",
    "    dev_means = np.zeros((nsamples, 1))\n",
    "    dev_stds = np.zeros((nsamples, 1))\n",
    "    for i in tqdm(range(nsamples)):\n",
    "        results = cv_evaluate_model(\n",
    "            **{\n",
    "                **cv_evaluate_params,\n",
    "                param_name: param_values[i]\n",
    "            }\n",
    "        )\n",
    "        dev_means[i] = results[\"dev_mean\"]\n",
    "        dev_stds[i] = results[\"dev_std\"]\n",
    "    \n",
    "    # Find the best value.\n",
    "    best_param_value = param_values[np.argmax(dev_means)]\n",
    "    print(f\"Best {param_name} value: {best_param_value}\")\n",
    "    \n",
    "    # Plot scores achieved for all values.\n",
    "    plt.plot(param_values, dev_means)\n",
    "    plt.xlabel(param_name)\n",
    "    plt.ylabel(\"Mean Dev Set Accuracy\")\n",
    "    if scale == \"log\":\n",
    "        plt.xscale(\"log\")\n",
    "    plt.show()\n",
    "    \n",
    "    return best_param_value"
   ]
  },
  {
   "cell_type": "code",
   "execution_count": 15,
   "metadata": {
    "colab": {
     "base_uri": "https://localhost:8080/",
     "height": 313
    },
    "executionInfo": {
     "elapsed": 154562,
     "status": "ok",
     "timestamp": 1615314414735,
     "user": {
      "displayName": "Hitakshi Tripathi",
      "photoUrl": "",
      "userId": "15137861675447163555"
     },
     "user_tz": -330
    },
    "id": "2M1YDv3lOp44",
    "outputId": "165cf4c2-3018-4c64-cd60-b44c146851c0"
   },
   "outputs": [
    {
     "name": "stderr",
     "output_type": "stream",
     "text": [
      "100%|██████████| 10/10 [02:32<00:00, 15.28s/it]"
     ]
    },
    {
     "name": "stdout",
     "output_type": "stream",
     "text": [
      "Best epochs value: 100\n"
     ]
    },
    {
     "name": "stderr",
     "output_type": "stream",
     "text": [
      "\n"
     ]
    },
    {
     "data": {
      "image/png": "[encoded data removed]",
      "text/plain": [
       "<Figure size 432x288 with 1 Axes>"
      ]
     },
     "metadata": {
      "needs_background": "light",
      "tags": []
     },
     "output_type": "display_data"
    }
   ],
   "source": [
    "best_epochs = search_hyperparam(\"epochs\", 50, 500, 10, scale=\"int\", **default_cv_evaluate_params)"
   ]
  },
  {
   "cell_type": "code",
   "execution_count": 16,
   "metadata": {
    "colab": {
     "base_uri": "https://localhost:8080/",
     "height": 313
    },
    "executionInfo": {
     "elapsed": 265316,
     "status": "ok",
     "timestamp": 1615314687020,
     "user": {
      "displayName": "Hitakshi Tripathi",
      "photoUrl": "",
      "userId": "15137861675447163555"
     },
     "user_tz": -330
    },
    "id": "eSvKK0KKOuDm",
    "outputId": "7b216cac-76a7-49d6-fae3-f42a4b88681c"
   },
   "outputs": [
    {
     "name": "stderr",
     "output_type": "stream",
     "text": [
      "100%|██████████| 9/9 [04:23<00:00, 29.31s/it]"
     ]
    },
    {
     "name": "stdout",
     "output_type": "stream",
     "text": [
      "Best epochs value: 750\n"
     ]
    },
    {
     "name": "stderr",
     "output_type": "stream",
     "text": [
      "\n"
     ]
    },
    {
     "data": {
      "image/png": "[encoded data removed]",
      "text/plain": [
       "<Figure size 432x288 with 1 Axes>"
      ]
     },
     "metadata": {
      "needs_background": "light",
      "tags": []
     },
     "output_type": "display_data"
    }
   ],
   "source": [
    "best_epochs2 = search_hyperparam(\"epochs\", 400, 800, 9, scale=\"int\", **default_cv_evaluate_params)"
   ]
  },
  {
   "cell_type": "code",
   "execution_count": 17,
   "metadata": {
    "executionInfo": {
     "elapsed": 1549,
     "status": "ok",
     "timestamp": 1615314695835,
     "user": {
      "displayName": "Hitakshi Tripathi",
      "photoUrl": "",
      "userId": "15137861675447163555"
     },
     "user_tz": -330
    },
    "id": "RlyW3KPvOwR5"
   },
   "outputs": [],
   "source": [
    "default_cv_evaluate_params[\"epochs\"] = best_epochs2"
   ]
  },
  {
   "cell_type": "code",
   "execution_count": 18,
   "metadata": {
    "colab": {
     "base_uri": "https://localhost:8080/"
    },
    "executionInfo": {
     "elapsed": 11920,
     "status": "ok",
     "timestamp": 1615314710654,
     "user": {
      "displayName": "Hitakshi Tripathi",
      "photoUrl": "",
      "userId": "15137861675447163555"
     },
     "user_tz": -330
    },
    "id": "7Ir8qBS0Oy07",
    "outputId": "b0f9a5ed-d46d-4f46-f264-a58dfc563e51"
   },
   "outputs": [
    {
     "name": "stdout",
     "output_type": "stream",
     "text": [
      "Final test set accuracy:\t0.899539\n"
     ]
    }
   ],
   "source": [
    "def evaluate_final(params: dict) -> float:\n",
    "    \n",
    "    steps_per_epoch = math.ceil(len(X_embedding) / params[\"batch_size\"])\n",
    "    third_of_total_steps = math.floor(params[\"epochs\"] * steps_per_epoch / 3)\n",
    "\n",
    "    # Make and compile the model.\n",
    "    model = make_model(\n",
    "        data.nclasses,\n",
    "        dropout_rate=params[\"dropout_rate\"],\n",
    "        nhiddenunits=params[\"nhiddenunits\"],\n",
    "        l2_regularization=params[\"l2_regularization\"]\n",
    "    )\n",
    "    model.compile(\n",
    "        optimizer=Adam(\n",
    "            learning_rate=ExponentialDecay(\n",
    "                params[\"learning_rate\"],\n",
    "                decay_steps=third_of_total_steps,\n",
    "                decay_rate=0.1,\n",
    "                staircase=True\n",
    "            )\n",
    "        ),\n",
    "        loss=\"categorical_crossentropy\",\n",
    "        metrics=[\"accuracy\"]\n",
    "    )\n",
    "\n",
    "    # Train the model on the full training set (no development set)\n",
    "    model.fit(\n",
    "        X_embedding,\n",
    "        tf.convert_to_tensor(data.y),\n",
    "        batch_size=params[\"batch_size\"],\n",
    "        epochs=params[\"epochs\"],\n",
    "        verbose=0\n",
    "    )\n",
    "\n",
    "    # Evaluate the fitted model on the test set.\n",
    "    _, test_acc = model.evaluate(\n",
    "        X_test_embedding,\n",
    "        data.y_test,\n",
    "        verbose=0\n",
    "    )\n",
    "    return test_acc\n",
    "\n",
    "test_acc = evaluate_final(default_cv_evaluate_params)\n",
    "print(f\"Final test set accuracy:\\t{test_acc:.6f}\")"
   ]
  },
  {
   "cell_type": "code",
   "execution_count": 19,
   "metadata": {
    "colab": {
     "base_uri": "https://localhost:8080/"
    },
    "executionInfo": {
     "elapsed": 310333,
     "status": "ok",
     "timestamp": 1615315052049,
     "user": {
      "displayName": "Hitakshi Tripathi",
      "photoUrl": "",
      "userId": "15137861675447163555"
     },
     "user_tz": -330
    },
    "id": "FmB8eQidPMPg",
    "outputId": "22d60e0e-a3e0-4b41-ce4a-a6a46cdf884d"
   },
   "outputs": [
    {
     "name": "stderr",
     "output_type": "stream",
     "text": [
      "100%|██████████| 30/30 [05:09<00:00, 10.31s/it]\n"
     ]
    }
   ],
   "source": [
    "import warnings\n",
    "warnings.filterwarnings(\"ignore\")\n",
    "\n",
    "test_accs = []\n",
    "for _ in tqdm(range(30)):\n",
    "    test_accs.append(evaluate_final(default_cv_evaluate_params))"
   ]
  },
  {
   "cell_type": "code",
   "execution_count": 20,
   "metadata": {
    "colab": {
     "base_uri": "https://localhost:8080/",
     "height": 279
    },
    "executionInfo": {
     "elapsed": 1138,
     "status": "ok",
     "timestamp": 1615315074866,
     "user": {
      "displayName": "Hitakshi Tripathi",
      "photoUrl": "",
      "userId": "15137861675447163555"
     },
     "user_tz": -330
    },
    "id": "TytMIIdzPO7z",
    "outputId": "4d2f997f-17a4-47a2-a220-7506e09a5cac"
   },
   "outputs": [
    {
     "data": {
      "image/png": "[encoded data removed]",
      "text/plain": [
       "<Figure size 432x288 with 1 Axes>"
      ]
     },
     "metadata": {
      "needs_background": "light",
      "tags": []
     },
     "output_type": "display_data"
    }
   ],
   "source": [
    "plt.hist(test_accs)\n",
    "plt.xlabel(\"Test Set Accuracy\")\n",
    "plt.ylabel(\"Model Count\")\n",
    "plt.show()"
   ]
  },
  {
   "cell_type": "code",
   "execution_count": null,
   "metadata": {
    "id": "SKThMZ3KR_pl"
   },
   "outputs": [],
   "source": []
  }
 ],
 "metadata": {
  "accelerator": "GPU",
  "colab": {
   "collapsed_sections": [],
   "machine_shape": "hm",
   "name": "Copy of HACKANONS COLAB 25GB RAM.ipynb",
   "provenance": [
    {
     "file_id": "1GqZu6zmCy2vMNMZqO78DDuHvwv_9vJcp",
     "timestamp": 1615313063195
    },
    {
     "file_id": "1IzPbxNFQmmSYk9s14L4YjBfUgACn9mW2",
     "timestamp": 1593978024316
    },
    {
     "file_id": "1G7NKeneJNyRtcRxLVbbF9jYtRyuTOa-R",
     "timestamp": 1592749700622
    },
    {
     "file_id": "https://github.com/satyajitghana/TSAI-DeepVision-EVA4.0/blob/master/Utils/Colab_25GBRAM_GPU.ipynb",
     "timestamp": 1592043804148
    }
   ],
   "toc_visible": true
  },
  "kernelspec": {
   "display_name": "Python 3",
   "language": "python",
   "name": "python3"
  },
  "language_info": {
   "codemirror_mode": {
    "name": "ipython",
    "version": 3
   },
   "file_extension": ".py",
   "mimetype": "text/x-python",
   "name": "python",
   "nbconvert_exporter": "python",
   "pygments_lexer": "ipython3",
   "version": "3.6.12"
  }
 },
 "nbformat": 4,
 "nbformat_minor": 1
}
