{
 "cells": [
  {
   "cell_type": "code",
   "execution_count": 1,
   "metadata": {
    "colab": {
     "base_uri": "https://localhost:8080/"
    },
    "executionInfo": {
     "elapsed": 162996,
     "status": "ok",
     "timestamp": 1615731006750,
     "user": {
      "displayName": "Hitakshi Tripathi",
      "photoUrl": "",
      "userId": "15137861675447163555"
     },
     "user_tz": -330
    },
    "id": "tAb77yZ9fzMG",
    "outputId": "7b73b547-33a6-4517-d049-18a43461cf3e"
   },
   "outputs": [
    {
     "name": "stdout",
     "output_type": "stream",
     "text": [
      "Mounted at /content/drive\n"
     ]
    }
   ],
   "source": [
    "from google.colab import drive\n",
    "drive.mount('/content/drive')"
   ]
  },
  {
   "cell_type": "markdown",
   "metadata": {
    "id": "uVpreKyl01Ah",
    "outputId": "2c017fb9-3caf-44a3-a8e1-e98e030bc638"
   },
   "source": [
    "Author @Hitakshi Tripathi\n",
    "\n",
    "Few shot learning technique without LSH sampleing method\n",
    "\n",
    "this gives 59% accuracy when split in 90-10 split pattern i.e 4 images for training and rest for testing purpose\n",
    "\n",
    "Kindly Note: (Requires 25GB of Google colab will crash for 12 GB)"
   ]
  },
  {
   "cell_type": "code",
   "execution_count": 2,
   "metadata": {
    "colab": {
     "base_uri": "https://localhost:8080/"
    },
    "executionInfo": {
     "elapsed": 5050,
     "status": "ok",
     "timestamp": 1615731019655,
     "user": {
      "displayName": "Hitakshi Tripathi",
      "photoUrl": "",
      "userId": "15137861675447163555"
     },
     "user_tz": -330
    },
    "id": "pafL7Li0jyXW",
    "outputId": "7e8ebb2b-3f04-4290-afa6-c03ffacd0e22"
   },
   "outputs": [
    {
     "name": "stdout",
     "output_type": "stream",
     "text": [
      "Collecting pyDOE\n",
      "  Downloading https://files.pythonhosted.org/packages/bc/ac/91fe4c039e2744466621343d3b8af4a485193ed0aab53af5b1db03be0989/pyDOE-0.3.8.zip\n",
      "Requirement already satisfied: numpy in /usr/local/lib/python3.7/dist-packages (from pyDOE) (1.19.5)\n",
      "Requirement already satisfied: scipy in /usr/local/lib/python3.7/dist-packages (from pyDOE) (1.4.1)\n",
      "Building wheels for collected packages: pyDOE\n",
      "  Building wheel for pyDOE (setup.py) ... \u001b[?25l\u001b[?25hdone\n",
      "  Created wheel for pyDOE: filename=pyDOE-0.3.8-cp37-none-any.whl size=18178 sha256=0e00032f8738dc03a5cd43bc96e313d39370d42546a4ff83a55e4a242befa314\n",
      "  Stored in directory: /root/.cache/pip/wheels/7c/c8/58/a6493bd415e8ba5735082b5e0c096d7c1f2933077a8ce34544\n",
      "Successfully built pyDOE\n",
      "Installing collected packages: pyDOE\n",
      "Successfully installed pyDOE-0.3.8\n"
     ]
    }
   ],
   "source": [
    "!pip install pyDOE"
   ]
  },
  {
   "cell_type": "code",
   "execution_count": 3,
   "metadata": {
    "executionInfo": {
     "elapsed": 3237,
     "status": "ok",
     "timestamp": 1615731025594,
     "user": {
      "displayName": "Hitakshi Tripathi",
      "photoUrl": "",
      "userId": "15137861675447163555"
     },
     "user_tz": -330
    },
    "id": "7J0W8d1FKsa1"
   },
   "outputs": [],
   "source": [
    "import os\n",
    "import random\n",
    "import math\n",
    "\n",
    "import tensorflow as tf\n",
    "from tensorflow.keras.preprocessing.image import load_img, img_to_array\n",
    "import tensorflow.keras.layers as L\n",
    "from tensorflow.keras.utils import to_categorical\n",
    "from tensorflow.keras.regularizers import l2\n",
    "from tensorflow.keras.optimizers import Adam\n",
    "from tensorflow.keras.optimizers.schedules import ExponentialDecay\n",
    "import tensorflow_hub as hub\n",
    "import numpy as np\n",
    "from sklearn.model_selection import train_test_split, RepeatedStratifiedKFold\n",
    "from sklearn.utils import shuffle\n",
    "from sklearn.metrics import accuracy_score\n",
    "from tqdm import tqdm\n",
    "from tabulate import tabulate\n",
    "from pyDOE import lhs\n",
    "import matplotlib.pyplot as plt\n",
    "from keras.preprocessing.image import ImageDataGenerator"
   ]
  },
  {
   "cell_type": "markdown",
   "metadata": {
    "id": "7skJsCM7btYZ"
   },
   "source": [
    "First, we'll load the images and their labels into two stratified train and test set numpy arrays. In order to accurately estimate the final generalizability of our model, we need to set aside the test set, and not look at it for the entire model analysis. "
   ]
  },
  {
   "cell_type": "code",
   "execution_count": 4,
   "metadata": {
    "colab": {
     "base_uri": "https://localhost:8080/"
    },
    "executionInfo": {
     "elapsed": 402873,
     "status": "ok",
     "timestamp": 1615731432745,
     "user": {
      "displayName": "Hitakshi Tripathi",
      "photoUrl": "",
      "userId": "15137861675447163555"
     },
     "user_tz": -330
    },
    "id": "FwBH_n8sKu-A",
    "outputId": "4fbbab1c-657f-4f7f-8f9b-6d26145e8512"
   },
   "outputs": [
    {
     "name": "stdout",
     "output_type": "stream",
     "text": [
      "(120, 224, 224, 3) (120, 30)\n"
     ]
    }
   ],
   "source": [
    "class Dataset:\n",
    "    def __init__(self, data_root: str, *, test_size: float, img_size: int, seed: int = 0) -> None:\n",
    "        self.label2index = {}\n",
    "        self.index2label = {}\n",
    "        \n",
    "        # Discover the class label names.\n",
    "        class_labels = os.listdir(data_root)\n",
    "        self.nclasses = len(class_labels)\n",
    "        X, y = [], []\n",
    "        \n",
    "        for label_index, label in enumerate(class_labels):\n",
    "            # Load the images for this class label.\n",
    "            self.label2index[label_index] = label\n",
    "            self.index2label[label] = label_index\n",
    "            \n",
    "            img_names = os.listdir(os.path.join(data_root, label))\n",
    "            for img_name in img_names:\n",
    "                img_path = os.path.join(data_root, label, img_name)\n",
    "                img = load_img(img_path, target_size=(img_size, img_size, 3))\n",
    "                X.append(img_to_array(img))\n",
    "                y.append(label_index)\n",
    "        \n",
    "        X = np.array(X)\n",
    "        y = np.array(y)\n",
    "        one_hot_y = to_categorical(y, num_classes=self.nclasses)\n",
    "        \n",
    "        # Make a stratified split.\n",
    "        self.X, self.X_test, self.labels, self.labels_test, self.y, self.y_test = train_test_split(\n",
    "            X, y, one_hot_y, test_size=test_size, stratify=y )\n",
    "\n",
    "        \n",
    "data = Dataset(\"/content/drive/MyDrive/Dataset\", test_size=0.9, img_size=224)\n",
    "print(data.X.shape,data.y.shape)\n"
   ]
  },
  {
   "cell_type": "markdown",
   "metadata": {
    "id": "EUPT-xupa6RD"
   },
   "source": [
    " We will use Kolesnikov et al's BiT-M R101x1 model to compute our embeddings. \n",
    "It is a 101 layer ResNet (He et al. 2016) pretrained on the full ImageNet dataset.\n",
    "\n",
    "Here 120 samples in Train (ie 4 each catogrey)\n",
    "and remaining in test "
   ]
  },
  {
   "cell_type": "code",
   "execution_count": 5,
   "metadata": {
    "colab": {
     "base_uri": "https://localhost:8080/"
    },
    "executionInfo": {
     "elapsed": 82214,
     "status": "ok",
     "timestamp": 1615731622180,
     "user": {
      "displayName": "Hitakshi Tripathi",
      "photoUrl": "",
      "userId": "15137861675447163555"
     },
     "user_tz": -330
    },
    "id": "SZdBrauxK1Xc",
    "outputId": "9c6a80f2-551f-49fa-b2a9-12ef9b5923a0"
   },
   "outputs": [
    {
     "name": "stdout",
     "output_type": "stream",
     "text": [
      "(120, 2048) (1085, 2048)\n"
     ]
    }
   ],
   "source": [
    "embed = hub.KerasLayer(\"https://tfhub.dev/google/bit/m-r101x1/1\", trainable=False)\n",
    "X_embedding = embed(data.X)\n",
    "X_test_embedding = embed(data.X_test)\n",
    "print(X_embedding.shape, X_test_embedding.shape)\n"
   ]
  },
  {
   "cell_type": "code",
   "execution_count": 6,
   "metadata": {
    "executionInfo": {
     "elapsed": 1025,
     "status": "ok",
     "timestamp": 1615731653799,
     "user": {
      "displayName": "Hitakshi Tripathi",
      "photoUrl": "",
      "userId": "15137861675447163555"
     },
     "user_tz": -330
    },
    "id": "kzYO1x2xK7as"
   },
   "outputs": [],
   "source": [
    "def make_model(\n",
    "    nclasses: int, *, dropout_rate: float, nhiddenunits: int, l2_regularization: float\n",
    ") -> tf.keras.Model:\n",
    "    model = tf.keras.Sequential()\n",
    "    #model = Sequential()\n",
    "    # One fully connected hidden layer\n",
    "    model.add(L.Dense(nhiddenunits, activation=\"relu\", kernel_regularizer=l2(l2_regularization)))\n",
    "    model.add(L.Dropout(dropout_rate))\n",
    "    # Output layer\n",
    "    model.add(L.Dense(nclasses, activation=\"softmax\", kernel_regularizer=l2(l2_regularization)))\n",
    "    return model\n"
   ]
  },
  {
   "cell_type": "code",
   "execution_count": 7,
   "metadata": {
    "executionInfo": {
     "elapsed": 1170,
     "status": "ok",
     "timestamp": 1615731659133,
     "user": {
      "displayName": "Hitakshi Tripathi",
      "photoUrl": "",
      "userId": "15137861675447163555"
     },
     "user_tz": -330
    },
    "id": "vhHpAEiLOC3x"
   },
   "outputs": [],
   "source": [
    "def evaluate_model(\n",
    "    nclasses, X, y, X_dev, y_dev, *,\n",
    "    epochs: int, batch_size: int, learning_rate: float,\n",
    "    model_maker = make_model, **model_params\n",
    ") -> tuple:\n",
    "    \n",
    "    # Math to compute the learning rate schedule. We will divide our\n",
    "    # learning rate by a factor of 10 every 30% of the optimizer's\n",
    "    # total steps.\n",
    "    steps_per_epoch = math.ceil(len(X) / batch_size)\n",
    "    third_of_total_steps = math.floor(epochs * steps_per_epoch / 3)\n",
    "    \n",
    "    # Make and compile the model.\n",
    "    model = model_maker(nclasses, **model_params)\n",
    "    model.compile(\n",
    "        optimizer=Adam(\n",
    "            learning_rate=ExponentialDecay(\n",
    "                learning_rate,\n",
    "                decay_steps=third_of_total_steps,\n",
    "                decay_rate=0.1,\n",
    "                staircase=True\n",
    "            )\n",
    "        ),\n",
    "        loss=\"categorical_crossentropy\",\n",
    "        metrics=[\"accuracy\"]\n",
    "    )\n",
    "    \n",
    "    # Train the model on the training set and evaluate it on the dev set.\n",
    "    model.fit(X, y, batch_size=batch_size, epochs=epochs, verbose=0)\n",
    "    _, train_acc = model.evaluate(X, y, batch_size=batch_size, verbose=0)\n",
    "    _, dev_acc = model.evaluate(X_dev, y_dev, batch_size=batch_size, verbose=0)\n",
    "    return model, train_acc, dev_acc"
   ]
  },
  {
   "cell_type": "markdown",
   "metadata": {
    "id": "XR_KyGEucx3_"
   },
   "source": [
    "With a dataset this small, we'll need to conduct repeated k-fold cross validation in order to get a real sense of the generalization performance of any given model\n",
    "\n",
    "define a method for evaluating a model configuration using repeated k-fold cross validation"
   ]
  },
  {
   "cell_type": "code",
   "execution_count": 8,
   "metadata": {
    "executionInfo": {
     "elapsed": 1056,
     "status": "ok",
     "timestamp": 1615731668755,
     "user": {
      "displayName": "Hitakshi Tripathi",
      "photoUrl": "",
      "userId": "15137861675447163555"
     },
     "user_tz": -330
    },
    "id": "EZ-VoE4VOQRc"
   },
   "outputs": [],
   "source": [
    "def cv_evaluate_model(\n",
    "    X, y, labels, *, nfolds: int, nrepeats: int, epochs: int, batch_size: int,\n",
    "    learning_rate: float, model_maker, verbose: bool = True, seed: int = 0,\n",
    "    **model_params\n",
    ") -> dict:\n",
    "    \"\"\"\n",
    "    Performs `nfolds` cross-validated training and evaluation of a\n",
    "    model hyperparameter configuration. Returns a dictionary of\n",
    "    statistics about the outcome of the cross-validated experiment.\n",
    "    \"\"\"\n",
    "    _, nclasses = y.shape\n",
    "    train_accs, dev_accs = [], []\n",
    "    \n",
    "    # Train and evaluate the model for each fold.\n",
    "    for train_index, dev_index in tqdm(\n",
    "        RepeatedStratifiedKFold(\n",
    "            n_splits=nfolds, n_repeats=nrepeats, random_state=seed\n",
    "        ).split(X, labels),\n",
    "        total=nfolds*nrepeats, disable=not verbose\n",
    "    ):\n",
    "        \n",
    "        # Select the data for this fold.\n",
    "        X_train_fold = tf.gather(X, train_index) \n",
    "        y_train_fold = tf.gather(y, train_index)\n",
    "        X_dev_fold = tf.gather(X, dev_index)\n",
    "        y_dev_fold = tf.gather(y, dev_index)\n",
    "        \n",
    "        # Train and evaluate the model.\n",
    "        _, train_acc, dev_acc = evaluate_model(\n",
    "            nclasses,\n",
    "            X_train_fold,\n",
    "            y_train_fold,\n",
    "            X_dev_fold,\n",
    "            y_dev_fold,\n",
    "            epochs=epochs,\n",
    "            batch_size=batch_size,\n",
    "            learning_rate=learning_rate,\n",
    "            model_maker=model_maker,\n",
    "            **model_params\n",
    "        )\n",
    "        train_accs.append(train_acc)\n",
    "        dev_accs.append(dev_acc)\n",
    "    \n",
    "    # Aggregate.\n",
    "    results = {\n",
    "        \"train_mean\": np.mean(train_accs),\n",
    "        \"train_std\": np.std(train_accs),\n",
    "        \"dev_mean\": np.mean(dev_accs),\n",
    "        \"dev_std\": np.std(dev_accs)\n",
    "    }\n",
    "    \n",
    "    # Report.\n",
    "    if verbose:\n",
    "        print(\n",
    "            tabulate(\n",
    "                [\n",
    "                    [\"Train\", results[\"train_mean\"], results[\"train_std\"]],\n",
    "                    [\"Dev\", results[\"dev_mean\"], results[\"dev_std\"]]\n",
    "                ],\n",
    "                headers=[\"Set\", \"Mean\", \"Std. Dev.\"]\n",
    "            )\n",
    "        )\n",
    "    \n",
    "    return results"
   ]
  },
  {
   "cell_type": "markdown",
   "metadata": {
    "id": "yk4tfUA3dCYa"
   },
   "source": [
    "This is where we perform the actual cross validation of the model. We'll use 3 folds, repeated 4 times. Because the model is small, it will execute relatively quickly."
   ]
  },
  {
   "cell_type": "code",
   "execution_count": 9,
   "metadata": {
    "colab": {
     "base_uri": "https://localhost:8080/"
    },
    "executionInfo": {
     "elapsed": 9731,
     "status": "ok",
     "timestamp": 1615731682303,
     "user": {
      "displayName": "Hitakshi Tripathi",
      "photoUrl": "",
      "userId": "15137861675447163555"
     },
     "user_tz": -330
    },
    "id": "W9vUtEy9OSTP",
    "outputId": "1f53a5e7-1417-4550-cfd4-a2d13ca31a76"
   },
   "outputs": [
    {
     "name": "stderr",
     "output_type": "stream",
     "text": [
      "100%|██████████| 12/12 [00:08<00:00,  1.38it/s]"
     ]
    },
    {
     "name": "stdout",
     "output_type": "stream",
     "text": [
      "Set        Mean    Std. Dev.\n",
      "-----  --------  -----------\n",
      "Train  0.197917    0.112249\n",
      "Dev    0.114583    0.0766882\n"
     ]
    },
    {
     "name": "stderr",
     "output_type": "stream",
     "text": [
      "\n"
     ]
    }
   ],
   "source": [
    "# We'll refer to these values throughout the notebook.\n",
    "default_cv_evaluate_params = {\n",
    "    \"X\": X_embedding,\n",
    "    \"y\": data.y,\n",
    "    \"labels\": data.labels,\n",
    "    \"nfolds\": 3,\n",
    "    \"nrepeats\": 4,\n",
    "    \"model_maker\": make_model,\n",
    "    \"epochs\": 10,\n",
    "    \"batch_size\": 16,\n",
    "    \"verbose\": False,\n",
    "    \"learning_rate\": 3e-3,\n",
    "    \"dropout_rate\": 0.3,\n",
    "    \"nhiddenunits\": 64,\n",
    "    \"l2_regularization\": 1e-6\n",
    "}\n",
    "\n",
    "_ = cv_evaluate_model(\n",
    "    **{\n",
    "        **default_cv_evaluate_params,\n",
    "        \"verbose\": True\n",
    "    }\n",
    ")"
   ]
  },
  {
   "cell_type": "code",
   "execution_count": 10,
   "metadata": {
    "executionInfo": {
     "elapsed": 1062,
     "status": "ok",
     "timestamp": 1615731751291,
     "user": {
      "displayName": "Hitakshi Tripathi",
      "photoUrl": "",
      "userId": "15137861675447163555"
     },
     "user_tz": -330
    },
    "id": "PjJADVHOOmjm"
   },
   "outputs": [],
   "source": [
    "def search_hyperparam(\n",
    "    param_name: str, lower: int, upper: int, nsamples: int,\n",
    "    scale: str = \"float\", **cv_evaluate_params\n",
    ") -> float:\n",
    "    \"\"\"\n",
    "    Cross validates a model along an evenly spaced range of `nsamples`\n",
    "    values for a single hyperparameter (identified by `param_name`. The\n",
    "    values are evenly spaced in the range `[lower,upper]`, and scaled\n",
    "    according to `scale`.\n",
    "    \"\"\"\n",
    "    # Sample the hyperparameter values to try.\n",
    "    param_values = np.linspace(lower, upper, nsamples)\n",
    "    if scale == \"log\":\n",
    "        param_values = 10**param_values\n",
    "    elif scale == \"int\":\n",
    "        param_values = param_values.astype(int)\n",
    "    \n",
    "    # Evaluate the model at each of the values.\n",
    "    dev_means = np.zeros((nsamples, 1))\n",
    "    dev_stds = np.zeros((nsamples, 1))\n",
    "    for i in tqdm(range(nsamples)):\n",
    "        results = cv_evaluate_model(\n",
    "            **{\n",
    "                **cv_evaluate_params,\n",
    "                param_name: param_values[i]\n",
    "            }\n",
    "        )\n",
    "        dev_means[i] = results[\"dev_mean\"]\n",
    "        dev_stds[i] = results[\"dev_std\"]\n",
    "    \n",
    "    # Find the best value.\n",
    "    best_param_value = param_values[np.argmax(dev_means)]\n",
    "    print(f\"Best {param_name} value: {best_param_value}\")\n",
    "    \n",
    "    # Plot scores achieved for all values.\n",
    "    plt.plot(param_values, dev_means)\n",
    "    plt.xlabel(param_name)\n",
    "    plt.ylabel(\"Mean Dev Set Accuracy\")\n",
    "    if scale == \"log\":\n",
    "        plt.xscale(\"log\")\n",
    "    plt.show()\n",
    "    \n",
    "    return best_param_value"
   ]
  },
  {
   "cell_type": "code",
   "execution_count": 11,
   "metadata": {
    "colab": {
     "base_uri": "https://localhost:8080/",
     "height": 313
    },
    "executionInfo": {
     "elapsed": 323977,
     "status": "ok",
     "timestamp": 1615732077594,
     "user": {
      "displayName": "Hitakshi Tripathi",
      "photoUrl": "",
      "userId": "15137861675447163555"
     },
     "user_tz": -330
    },
    "id": "2M1YDv3lOp44",
    "outputId": "bf64e65f-b397-4ae5-d71c-c8f2ad04a073"
   },
   "outputs": [
    {
     "name": "stderr",
     "output_type": "stream",
     "text": [
      "100%|██████████| 10/10 [05:22<00:00, 32.30s/it]"
     ]
    },
    {
     "name": "stdout",
     "output_type": "stream",
     "text": [
      "Best epochs value: 500\n"
     ]
    },
    {
     "name": "stderr",
     "output_type": "stream",
     "text": [
      "\n"
     ]
    },
    {
     "data": {
      "image/png": "[encoded data removed]",
      "text/plain": [
       "<Figure size 432x288 with 1 Axes>"
      ]
     },
     "metadata": {
      "needs_background": "light",
      "tags": []
     },
     "output_type": "display_data"
    }
   ],
   "source": [
    "best_epochs = search_hyperparam(\"epochs\", 50, 500, 10, scale=\"int\", **default_cv_evaluate_params)"
   ]
  },
  {
   "cell_type": "code",
   "execution_count": 12,
   "metadata": {
    "colab": {
     "base_uri": "https://localhost:8080/",
     "height": 313
    },
    "executionInfo": {
     "elapsed": 540537,
     "status": "ok",
     "timestamp": 1615732780639,
     "user": {
      "displayName": "Hitakshi Tripathi",
      "photoUrl": "",
      "userId": "15137861675447163555"
     },
     "user_tz": -330
    },
    "id": "eSvKK0KKOuDm",
    "outputId": "4a1501b6-baa3-4bde-c937-99b60d31f00d"
   },
   "outputs": [
    {
     "name": "stderr",
     "output_type": "stream",
     "text": [
      "100%|██████████| 9/9 [08:59<00:00, 59.93s/it]"
     ]
    },
    {
     "name": "stdout",
     "output_type": "stream",
     "text": [
      "Best epochs value: 500\n"
     ]
    },
    {
     "name": "stderr",
     "output_type": "stream",
     "text": [
      "\n"
     ]
    },
    {
     "data": {
      "image/png": "[encoded data removed]",
      "text/plain": [
       "<Figure size 432x288 with 1 Axes>"
      ]
     },
     "metadata": {
      "needs_background": "light",
      "tags": []
     },
     "output_type": "display_data"
    }
   ],
   "source": [
    "best_epochs2 = search_hyperparam(\"epochs\", 400, 800, 9, scale=\"int\", **default_cv_evaluate_params)"
   ]
  },
  {
   "cell_type": "code",
   "execution_count": 14,
   "metadata": {
    "executionInfo": {
     "elapsed": 1088,
     "status": "ok",
     "timestamp": 1615733062439,
     "user": {
      "displayName": "Hitakshi Tripathi",
      "photoUrl": "",
      "userId": "15137861675447163555"
     },
     "user_tz": -330
    },
    "id": "RlyW3KPvOwR5"
   },
   "outputs": [],
   "source": [
    "default_cv_evaluate_params[\"epochs\"] = best_epochs2"
   ]
  },
  {
   "cell_type": "code",
   "execution_count": 15,
   "metadata": {
    "colab": {
     "base_uri": "https://localhost:8080/"
    },
    "executionInfo": {
     "elapsed": 8430,
     "status": "ok",
     "timestamp": 1615733073602,
     "user": {
      "displayName": "Hitakshi Tripathi",
      "photoUrl": "",
      "userId": "15137861675447163555"
     },
     "user_tz": -330
    },
    "id": "7Ir8qBS0Oy07",
    "outputId": "622827cc-3d83-4fd6-99b7-8395af9aafad"
   },
   "outputs": [
    {
     "name": "stdout",
     "output_type": "stream",
     "text": [
      "Final test set accuracy:\t0.592627\n"
     ]
    }
   ],
   "source": [
    "def evaluate_final(params: dict) -> float:\n",
    "    \n",
    "    steps_per_epoch = math.ceil(len(X_embedding) / params[\"batch_size\"])\n",
    "    third_of_total_steps = math.floor(params[\"epochs\"] * steps_per_epoch / 3)\n",
    "\n",
    "    # Make and compile the model.\n",
    "    model = make_model(\n",
    "        data.nclasses,\n",
    "        dropout_rate=params[\"dropout_rate\"],\n",
    "        nhiddenunits=params[\"nhiddenunits\"],\n",
    "        l2_regularization=params[\"l2_regularization\"]\n",
    "    )\n",
    "\n",
    "\n",
    "    model.compile(\n",
    "        optimizer=Adam(\n",
    "            learning_rate=ExponentialDecay(\n",
    "                params[\"learning_rate\"],\n",
    "                decay_steps=third_of_total_steps,\n",
    "                decay_rate=0.1,\n",
    "                staircase=True\n",
    "            )\n",
    "        ),\n",
    "        loss=\"categorical_crossentropy\",\n",
    "        metrics=[\"accuracy\"]\n",
    "    )\n",
    "\n",
    "    # Train the model on the full training set (no development set)\n",
    "    model.fit(\n",
    "        X_embedding,\n",
    "        tf.convert_to_tensor(data.y),\n",
    "        batch_size=params[\"batch_size\"],\n",
    "        epochs=params[\"epochs\"],\n",
    "        verbose=0\n",
    "    )\n",
    "\n",
    "    # Evaluate the fitted model on the test set.\n",
    "    _, test_acc = model.evaluate(\n",
    "        X_test_embedding,\n",
    "        data.y_test,\n",
    "        verbose=0\n",
    "    )\n",
    "    return test_acc\n",
    "test_acc = evaluate_final(default_cv_evaluate_params)\n",
    "print(f\"Final test set accuracy:\\t{test_acc:.6f}\")"
   ]
  },
  {
   "cell_type": "code",
   "execution_count": 16,
   "metadata": {
    "colab": {
     "base_uri": "https://localhost:8080/"
    },
    "executionInfo": {
     "elapsed": 217254,
     "status": "ok",
     "timestamp": 1615733341587,
     "user": {
      "displayName": "Hitakshi Tripathi",
      "photoUrl": "",
      "userId": "15137861675447163555"
     },
     "user_tz": -330
    },
    "id": "FmB8eQidPMPg",
    "outputId": "9c23ce5e-c23e-4e12-fc36-7930424644ae"
   },
   "outputs": [
    {
     "name": "stderr",
     "output_type": "stream",
     "text": [
      "100%|██████████| 30/30 [03:36<00:00,  7.21s/it]\n"
     ]
    }
   ],
   "source": [
    "import warnings\n",
    "warnings.filterwarnings(\"ignore\")\n",
    "\n",
    "test_accs = []\n",
    "for _ in tqdm(range(30)):\n",
    "    test_accs.append(evaluate_final(default_cv_evaluate_params))"
   ]
  },
  {
   "cell_type": "code",
   "execution_count": 17,
   "metadata": {
    "colab": {
     "base_uri": "https://localhost:8080/",
     "height": 279
    },
    "executionInfo": {
     "elapsed": 1048,
     "status": "ok",
     "timestamp": 1615733349906,
     "user": {
      "displayName": "Hitakshi Tripathi",
      "photoUrl": "",
      "userId": "15137861675447163555"
     },
     "user_tz": -330
    },
    "id": "TytMIIdzPO7z",
    "outputId": "12eebc53-ebfb-46d9-938d-f493279f3a8d"
   },
   "outputs": [
    {
     "data": {
      "image/png": "[encoded data removed]",
      "text/plain": [
       "<Figure size 432x288 with 1 Axes>"
      ]
     },
     "metadata": {
      "needs_background": "light",
      "tags": []
     },
     "output_type": "display_data"
    }
   ],
   "source": [
    "plt.hist(test_accs)\n",
    "plt.xlabel(\"Test Set Accuracy\")\n",
    "plt.ylabel(\"Model Count\")\n",
    "plt.show()"
   ]
  },
  {
   "cell_type": "code",
   "execution_count": null,
   "metadata": {
    "id": "SKThMZ3KR_pl"
   },
   "outputs": [],
   "source": []
  }
 ],
 "metadata": {
  "accelerator": "GPU",
  "colab": {
   "collapsed_sections": [],
   "machine_shape": "hm",
   "name": "Few_Shot on pre-trained model.ipynb",
   "provenance": [
    {
     "file_id": "1GqZu6zmCy2vMNMZqO78DDuHvwv_9vJcp",
     "timestamp": 1615313063195
    },
    {
     "file_id": "1IzPbxNFQmmSYk9s14L4YjBfUgACn9mW2",
     "timestamp": 1593978024316
    },
    {
     "file_id": "1G7NKeneJNyRtcRxLVbbF9jYtRyuTOa-R",
     "timestamp": 1592749700622
    },
    {
     "file_id": "https://github.com/satyajitghana/TSAI-DeepVision-EVA4.0/blob/master/Utils/Colab_25GBRAM_GPU.ipynb",
     "timestamp": 1592043804148
    }
   ],
   "toc_visible": true
  },
  "kernelspec": {
   "display_name": "Python 3",
   "language": "python",
   "name": "python3"
  },
  "language_info": {
   "codemirror_mode": {
    "name": "ipython",
    "version": 3
   },
   "file_extension": ".py",
   "mimetype": "text/x-python",
   "name": "python",
   "nbconvert_exporter": "python",
   "pygments_lexer": "ipython3",
   "version": "3.8.5"
  }
 },
 "nbformat": 4,
 "nbformat_minor": 1
}
