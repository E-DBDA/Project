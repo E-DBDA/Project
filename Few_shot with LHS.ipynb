{
 "cells": [
  {
   "cell_type": "markdown",
   "metadata": {
    "id": "qQ39SldlSSrN"
   },
   "source": [
    "Author @Hitakshi Tripathi\n",
    "\n",
    "Few shot learning technique with LSH sampleing method\n",
    "\n",
    "this gives 92% accuracy when split in 90-10 split pattern\n",
    "i.e 4 images for training and rest for testing purpose \n",
    "\n",
    "Kindly Note:\n",
    "(Requires 25GB of Google colab\n",
    "will crash for 12 GB)\n"
   ]
  },
  {
   "cell_type": "code",
   "execution_count": null,
   "metadata": {
    "colab": {
     "base_uri": "https://localhost:8080/"
    },
    "executionInfo": {
     "elapsed": 29425,
     "status": "ok",
     "timestamp": 1615708925745,
     "user": {
      "displayName": "Hitakshi Tripathi",
      "photoUrl": "",
      "userId": "15137861675447163555"
     },
     "user_tz": -330
    },
    "id": "VVRwGwcTwLKY",
    "outputId": "28026ad8-1be8-4407-c03c-e1defb479599"
   },
   "outputs": [
    {
     "name": "stdout",
     "output_type": "stream",
     "text": [
      "Mounted at /content/drive\n"
     ]
    }
   ],
   "source": [
    "from google.colab import drive\n",
    "drive.mount('/content/drive')"
   ]
  },
  {
   "cell_type": "markdown",
   "metadata": {
    "id": "lH7xA5ULPdoG"
   },
   "source": [
    "The goal of this notebook is to learn to classify leaf given a small dataset of labeled images of  leafs. A few techniques this notebook explores:\n",
    "\n",
    "Few shot learning\n",
    "\n",
    "Using pre-computed embeddings for rapid model training\n",
    "\n",
    "Latin Hypercube Sampling (LHS)\n",
    "\n",
    "Hyperparameter search"
   ]
  },
  {
   "cell_type": "code",
   "execution_count": null,
   "metadata": {
    "colab": {
     "base_uri": "https://localhost:8080/"
    },
    "executionInfo": {
     "elapsed": 5432,
     "status": "ok",
     "timestamp": 1615708940051,
     "user": {
      "displayName": "Hitakshi Tripathi",
      "photoUrl": "",
      "userId": "15137861675447163555"
     },
     "user_tz": -330
    },
    "id": "tAb77yZ9fzMG",
    "outputId": "86d4e878-bb08-4590-ea50-c269e16795aa"
   },
   "outputs": [
    {
     "name": "stdout",
     "output_type": "stream",
     "text": [
      "Collecting pyDOE\n",
      "  Downloading https://files.pythonhosted.org/packages/bc/ac/91fe4c039e2744466621343d3b8af4a485193ed0aab53af5b1db03be0989/pyDOE-0.3.8.zip\n",
      "Requirement already satisfied: numpy in /usr/local/lib/python3.7/dist-packages (from pyDOE) (1.19.5)\n",
      "Requirement already satisfied: scipy in /usr/local/lib/python3.7/dist-packages (from pyDOE) (1.4.1)\n",
      "Building wheels for collected packages: pyDOE\n",
      "  Building wheel for pyDOE (setup.py) ... \u001b[?25l\u001b[?25hdone\n",
      "  Created wheel for pyDOE: filename=pyDOE-0.3.8-cp37-none-any.whl size=18178 sha256=4a5fa21257702de9a2b81d474b87f67cfdc5730df98af2cac0c9be3eb88b61d6\n",
      "  Stored in directory: /root/.cache/pip/wheels/7c/c8/58/a6493bd415e8ba5735082b5e0c096d7c1f2933077a8ce34544\n",
      "Successfully built pyDOE\n",
      "Installing collected packages: pyDOE\n",
      "Successfully installed pyDOE-0.3.8\n"
     ]
    }
   ],
   "source": [
    "!pip install pyDOE"
   ]
  },
  {
   "cell_type": "code",
   "execution_count": null,
   "metadata": {
    "id": "pafL7Li0jyXW"
   },
   "outputs": [],
   "source": [
    "import os\n",
    "import random\n",
    "import math\n",
    "\n",
    "import tensorflow as tf\n",
    "from tensorflow.keras.preprocessing.image import load_img, img_to_array\n",
    "import tensorflow.keras.layers as L\n",
    "from tensorflow.keras.utils import to_categorical\n",
    "from tensorflow.keras.regularizers import l2\n",
    "from tensorflow.keras.optimizers import Adam\n",
    "from tensorflow.keras.optimizers.schedules import ExponentialDecay\n",
    "import tensorflow_hub as hub\n",
    "import numpy as np\n",
    "from sklearn.model_selection import train_test_split, RepeatedStratifiedKFold\n",
    "from sklearn.utils import shuffle\n",
    "from sklearn.metrics import accuracy_score\n",
    "from tqdm import tqdm\n",
    "from tabulate import tabulate\n",
    "from pyDOE import lhs\n",
    "import matplotlib.pyplot as plt\n",
    "from keras.preprocessing.image import ImageDataGenerator"
   ]
  },
  {
   "cell_type": "markdown",
   "metadata": {
    "id": "rsSxr-RfPsTS"
   },
   "source": []
  },
  {
   "cell_type": "markdown",
   "metadata": {
    "id": "AKr4Hl8FPsWV"
   },
   "source": [
    "Since the dataset is very small, let's use a pretrained image classification model. First, we'll load the images and their labels into two stratified train and test set numpy arrays. In order to accurately estimate the final generalizability of our model, we need to set aside the test set, and not look at it for the entire model analysis. That allows it to remain a truly independent sample."
   ]
  },
  {
   "cell_type": "code",
   "execution_count": null,
   "metadata": {
    "colab": {
     "base_uri": "https://localhost:8080/"
    },
    "executionInfo": {
     "elapsed": 697993,
     "status": "ok",
     "timestamp": 1615709661470,
     "user": {
      "displayName": "Hitakshi Tripathi",
      "photoUrl": "",
      "userId": "15137861675447163555"
     },
     "user_tz": -330
    },
    "id": "W2UMkRqmwg0Z",
    "outputId": "f97d6883-b5b4-435f-f30b-0f33c50a2746"
   },
   "outputs": [
    {
     "name": "stdout",
     "output_type": "stream",
     "text": [
      "(120, 224, 224, 3) (120, 30)\n"
     ]
    }
   ],
   "source": [
    "class Dataset:\n",
    "    def __init__(self, data_root: str, *, test_size: float, img_size: int, seed: int = 0) -> None:\n",
    "        self.label2index = {}\n",
    "        self.index2label = {}\n",
    "        \n",
    "        # Discover the class label names.\n",
    "        class_labels = os.listdir(data_root)\n",
    "        self.nclasses = len(class_labels)\n",
    "        X, y = [], []\n",
    "        \n",
    "        for label_index, label in enumerate(class_labels):\n",
    "            # Load the images for this class label.\n",
    "            self.label2index[label_index] = label\n",
    "            self.index2label[label] = label_index\n",
    "            \n",
    "            img_names = os.listdir(os.path.join(data_root, label))\n",
    "            for img_name in img_names:\n",
    "                img_path = os.path.join(data_root, label, img_name)\n",
    "                img = load_img(img_path, target_size=(img_size, img_size, 3))\n",
    "                X.append(img_to_array(img))\n",
    "                y.append(label_index)\n",
    "        \n",
    "        X = np.array(X)\n",
    "        y = np.array(y)\n",
    "        one_hot_y = to_categorical(y, num_classes=self.nclasses)\n",
    "        \n",
    "        # Make a stratified split.\n",
    "        self.X, self.X_test, self.labels, self.labels_test, self.y, self.y_test = train_test_split(\n",
    "            X, y, one_hot_y, test_size=test_size, stratify=y )\n",
    "\n",
    "        \n",
    "data = Dataset(\"/content/drive/MyDrive/Dataset\", test_size=0.9, img_size=224)\n",
    "print(data.X.shape,data.y.shape)\n"
   ]
  },
  {
   "cell_type": "markdown",
   "metadata": {
    "id": "PLo67liBQAD5"
   },
   "source": [
    "it is not necessary to fine tune a pretrained model. It is better to freeze the weights of the pretrained model and just train a small model on top of it. We'll use a pretrained BiT model by Kolesnikov et al. (2020) to first create embeddings for each image, then train a very small model to learn to map those embeddings to the correct labels. This accomplishes the same thing as training a new head on top of a pretrained model, but without the need to execute forward propagation through the potentially large pretrained model on each training step. By computing the embeddings first, we only need to conduct forward propagation through the pretrained model once.\n",
    "\n",
    "We will use Kolesnikov et al's BiT-M R101x1 model to compute our embeddings. It is a 101 layer ResNet (He et al. 2016) pretrained on the full ImageNet dataset."
   ]
  },
  {
   "cell_type": "code",
   "execution_count": null,
   "metadata": {
    "colab": {
     "base_uri": "https://localhost:8080/"
    },
    "executionInfo": {
     "elapsed": 84294,
     "status": "ok",
     "timestamp": 1615709855058,
     "user": {
      "displayName": "Hitakshi Tripathi",
      "photoUrl": "",
      "userId": "15137861675447163555"
     },
     "user_tz": -330
    },
    "id": "Bg87wkVHwkJl",
    "outputId": "f57de549-f113-4a4d-af02-e9aa00bc966e"
   },
   "outputs": [
    {
     "name": "stdout",
     "output_type": "stream",
     "text": [
      "(120, 2048) (1085, 2048)\n"
     ]
    }
   ],
   "source": [
    "embed = hub.KerasLayer(\"https://tfhub.dev/google/bit/m-r101x1/1\", trainable=False)\n",
    "X_embedding = embed(data.X)\n",
    "X_test_embedding = embed(data.X_test)\n",
    "print(X_embedding.shape, X_test_embedding.shape)\n"
   ]
  },
  {
   "cell_type": "markdown",
   "metadata": {
    "id": "WndlnJwWQNrf"
   },
   "source": [
    "Evaluating a Model's Performance\n",
    "\n",
    "We have our embeddings. Now let's define a way to make a model which can learn the mappings from the image embedding space to the class labels."
   ]
  },
  {
   "cell_type": "code",
   "execution_count": null,
   "metadata": {
    "id": "KUDT8tb5zpPX"
   },
   "outputs": [],
   "source": [
    "def make_model(\n",
    "    nclasses: int, *, dropout_rate: float, nhiddenunits: int, l2_regularization: float\n",
    ") -> tf.keras.Model:\n",
    "    model = tf.keras.Sequential()\n",
    "    #model = Sequential()\n",
    "    # One fully connected hidden layer\n",
    "    model.add(L.Dense(nhiddenunits, activation=\"relu\", kernel_regularizer=l2(l2_regularization)))\n",
    "    model.add(L.Dropout(dropout_rate))\n",
    "    # Output layer\n",
    "    model.add(L.Dense(nclasses, activation=\"softmax\", kernel_regularizer=l2(l2_regularization)))\n",
    "    #model.summary()\n",
    "    return model\n"
   ]
  },
  {
   "cell_type": "markdown",
   "metadata": {
    "id": "94bTsXOeQcWk"
   },
   "source": [
    "With a dataset this small, we'll need to conduct repeated k-fold cross validation in order to get a real sense of the generalization performance of any given model, and to compare it effectively against models trained under other hyperparameter configurations. The reason for this is that because of the small size of the dataset, the performance of any given model will vary depending on the random seed it was trained under.\n",
    "\n",
    "Let's define a method for evaluating a model configuration using repeated k-fold cross validation."
   ]
  },
  {
   "cell_type": "code",
   "execution_count": null,
   "metadata": {
    "id": "DlbrCjlc0KMW"
   },
   "outputs": [],
   "source": [
    "def evaluate_model(\n",
    "    nclasses, X, y, X_dev, y_dev, *,\n",
    "    epochs: int, batch_size: int, learning_rate: float,\n",
    "    model_maker = make_model, **model_params\n",
    ") -> tuple:\n",
    "    \n",
    "    # Math to compute the learning rate schedule. We will divide our\n",
    "    # learning rate by a factor of 10 every 30% of the optimizer's\n",
    "    # total steps.\n",
    "    steps_per_epoch = math.ceil(len(X) / batch_size)\n",
    "    third_of_total_steps = math.floor(epochs * steps_per_epoch / 3)\n",
    "    \n",
    "    # Make and compile the model.\n",
    "    model = model_maker(nclasses, **model_params)\n",
    "    model.compile(\n",
    "        optimizer=Adam(\n",
    "            learning_rate=ExponentialDecay(\n",
    "                learning_rate,\n",
    "                decay_steps=third_of_total_steps,\n",
    "                decay_rate=0.1,\n",
    "                staircase=True\n",
    "            )\n",
    "        ),\n",
    "        loss=\"categorical_crossentropy\",\n",
    "        metrics=[\"accuracy\"]\n",
    "    )\n",
    "    \n",
    "    # Train the model on the training set and evaluate it on the dev set.\n",
    "    model.fit(X, y, batch_size=batch_size, epochs=epochs, verbose=0)\n",
    "    _, train_acc = model.evaluate(X, y, batch_size=batch_size, verbose=0)\n",
    "    _, dev_acc = model.evaluate(X_dev, y_dev, batch_size=batch_size, verbose=0)\n",
    "    return model, train_acc, dev_acc"
   ]
  },
  {
   "cell_type": "code",
   "execution_count": null,
   "metadata": {
    "id": "-oIIUdy00aZu"
   },
   "outputs": [],
   "source": [
    "def cv_evaluate_model(\n",
    "    X, y, labels, *, nfolds: int, nrepeats: int, epochs: int, batch_size: int,\n",
    "    learning_rate: float, model_maker, verbose: bool = True, seed: int = 0,\n",
    "    **model_params\n",
    ") -> dict:\n",
    "    \"\"\"\n",
    "    Performs `nfolds` cross-validated training and evaluation of a\n",
    "    model hyperparameter configuration. Returns a dictionary of\n",
    "    statistics about the outcome of the cross-validated experiment.\n",
    "    \"\"\"\n",
    "    _, nclasses = y.shape\n",
    "    train_accs, dev_accs = [], []\n",
    "    \n",
    "    # Train and evaluate the model for each fold.\n",
    "    for train_index, dev_index in tqdm(\n",
    "        RepeatedStratifiedKFold(\n",
    "            n_splits=nfolds, n_repeats=nrepeats, random_state=seed\n",
    "        ).split(X, labels),\n",
    "        total=nfolds*nrepeats, disable=not verbose\n",
    "    ):\n",
    "        \n",
    "        # Select the data for this fold.\n",
    "        X_train_fold = tf.gather(X, train_index) \n",
    "        y_train_fold = tf.gather(y, train_index)\n",
    "        X_dev_fold = tf.gather(X, dev_index)\n",
    "        y_dev_fold = tf.gather(y, dev_index)\n",
    "        \n",
    "        # Train and evaluate the model.\n",
    "        _, train_acc, dev_acc = evaluate_model(\n",
    "            nclasses,\n",
    "            X_train_fold,\n",
    "            y_train_fold,\n",
    "            X_dev_fold,\n",
    "            y_dev_fold,\n",
    "            epochs=epochs,\n",
    "            batch_size=batch_size,\n",
    "            learning_rate=learning_rate,\n",
    "            model_maker=model_maker,\n",
    "            **model_params\n",
    "        )\n",
    "        train_accs.append(train_acc)\n",
    "        dev_accs.append(dev_acc)\n",
    "    \n",
    "    # Aggregate.\n",
    "    results = {\n",
    "        \"train_mean\": np.mean(train_accs),\n",
    "        \"train_std\": np.std(train_accs),\n",
    "        \"dev_mean\": np.mean(dev_accs),\n",
    "        \"dev_std\": np.std(dev_accs)\n",
    "    }\n",
    "    \n",
    "    # Report.\n",
    "    if verbose:\n",
    "        print(\n",
    "            tabulate(\n",
    "                [\n",
    "                    [\"Train\", results[\"train_mean\"], results[\"train_std\"]],\n",
    "                    [\"Dev\", results[\"dev_mean\"], results[\"dev_std\"]]\n",
    "                ],\n",
    "                headers=[\"Set\", \"Mean\", \"Std. Dev.\"]\n",
    "            )\n",
    "        )\n",
    "    \n",
    "    return results"
   ]
  },
  {
   "cell_type": "markdown",
   "metadata": {
    "id": "KX9pJRW2Qtt_"
   },
   "source": [
    "This is where we perform the actual cross validation of the model. We'll use 3 folds, repeated 4 times. Because the model is small, it will execute relatively quickly.\n",
    "\n"
   ]
  },
  {
   "cell_type": "code",
   "execution_count": null,
   "metadata": {
    "colab": {
     "base_uri": "https://localhost:8080/"
    },
    "executionInfo": {
     "elapsed": 9951,
     "status": "ok",
     "timestamp": 1615710119994,
     "user": {
      "displayName": "Hitakshi Tripathi",
      "photoUrl": "",
      "userId": "15137861675447163555"
     },
     "user_tz": -330
    },
    "id": "R-5KhXrX0de0",
    "outputId": "f14e9fd4-e62d-4fc7-cf12-e2d254684c19"
   },
   "outputs": [
    {
     "name": "stderr",
     "output_type": "stream",
     "text": [
      "100%|██████████| 12/12 [00:08<00:00,  1.38it/s]"
     ]
    },
    {
     "name": "stdout",
     "output_type": "stream",
     "text": [
      "Set        Mean    Std. Dev.\n",
      "-----  --------  -----------\n",
      "Train  0.188542    0.0524053\n",
      "Dev    0.141667    0.0437004\n"
     ]
    },
    {
     "name": "stderr",
     "output_type": "stream",
     "text": [
      "\n"
     ]
    }
   ],
   "source": [
    "# We'll refer to these values throughout the notebook.\n",
    "default_cv_evaluate_params = {\n",
    "    \"X\": X_embedding,\n",
    "    \"y\": data.y,\n",
    "    \"labels\": data.labels,\n",
    "    \"nfolds\": 3,\n",
    "    \"nrepeats\": 4,\n",
    "    \"model_maker\": make_model,\n",
    "    \"epochs\": 10,\n",
    "    \"batch_size\": 16,\n",
    "    \"verbose\": False,\n",
    "    \"learning_rate\": 3e-3,\n",
    "    \"dropout_rate\": 0.3,\n",
    "    \"nhiddenunits\": 64,\n",
    "    \"l2_regularization\": 1e-6\n",
    "}\n",
    "\n",
    "_ = cv_evaluate_model(\n",
    "    **{\n",
    "        **default_cv_evaluate_params,\n",
    "        \"verbose\": True\n",
    "    }\n",
    ")"
   ]
  },
  {
   "cell_type": "markdown",
   "metadata": {
    "id": "UH3fmO0CQsRw"
   },
   "source": [
    "Latin Hypercube Sampling and Tuning the Regularization\n",
    "\n",
    "Since the model evaluates fairly quickly, let's search over a 2D sampling of L2 regularization and dropout rate hyperparameter values to find a good regularization scheme for this architecture and dataset. We'll do a random search over a sensible square of the 2D hyperparameter space, with the samples being produced by latin hypercube sampling (LHS). LHS improves the quality of the coverage over the sample space by optimizing the spread of the samples, with the constraint that they still follow the sampling distribution.\n",
    "\n",
    "We sample the L2 regularization values from a log scale ([ 10−8,10−1] ), and the dropout rate values from a uniform scale ( [0.0,0.6] ). We'll keep the other hyperparameter values the same as before."
   ]
  },
  {
   "cell_type": "code",
   "execution_count": null,
   "metadata": {
    "id": "natdHDyj0tMa"
   },
   "outputs": [],
   "source": [
    "nsamples = 20\n",
    "# `lhs` will yield a `nsamples`x2 matrix, with all values following\n",
    "# the uniform distribution in [0,1]\n",
    "np.random.seed()\n",
    "x = lhs(n=2, samples=nsamples)\n",
    "# Scale dropout samples to be in [0,0.6]\n",
    "dropout_rates = (x[:, 0]*.6)\n",
    "# Scale l2 samples to be in [-8, -1]\n",
    "l2_rates = (x[:, 1]*-7 - 1)\n",
    "# Now scale l2 samples to follow the\n",
    "# log scale in the range [10**-8,10**-1]\n",
    "l2_rates = 10**l2_rates"
   ]
  },
  {
   "cell_type": "markdown",
   "metadata": {
    "id": "5oz0GQ6aRHEP"
   },
   "source": [
    "Next we cross validate a model on each hyperparameter sample, storing the dev set performance statistics for each run."
   ]
  },
  {
   "cell_type": "code",
   "execution_count": null,
   "metadata": {
    "colab": {
     "base_uri": "https://localhost:8080/"
    },
    "executionInfo": {
     "elapsed": 175752,
     "status": "ok",
     "timestamp": 1615710364023,
     "user": {
      "displayName": "Hitakshi Tripathi",
      "photoUrl": "",
      "userId": "15137861675447163555"
     },
     "user_tz": -330
    },
    "id": "8r5qHYFA0gJ7",
    "outputId": "d08bb056-44af-40c1-9662-da7b3b68ff22"
   },
   "outputs": [
    {
     "name": "stderr",
     "output_type": "stream",
     "text": [
      "100%|██████████| 20/20 [02:54<00:00,  8.73s/it]\n"
     ]
    }
   ],
   "source": [
    "dev_means = np.zeros((nsamples, 1))\n",
    "dev_stds = np.zeros((nsamples, 1))\n",
    "for i in tqdm(range(nsamples)):\n",
    "    results = cv_evaluate_model(\n",
    "        **{\n",
    "            **default_cv_evaluate_params,\n",
    "            \"dropout_rate\": dropout_rates[i],\n",
    "            \"l2_regularization\": l2_rates[i]\n",
    "        }\n",
    "    )\n",
    "    dev_means[i] = results[\"dev_mean\"]\n",
    "    dev_stds[i] = results[\"dev_std\"]"
   ]
  },
  {
   "cell_type": "markdown",
   "metadata": {
    "id": "Ii25mSi8RN0g"
   },
   "source": [
    "Now we can visualize the results over the hyperparameter space, to hopefully learn about the interplay between l2 regularization and the dropout rate for this model."
   ]
  },
  {
   "cell_type": "code",
   "execution_count": null,
   "metadata": {
    "colab": {
     "base_uri": "https://localhost:8080/",
     "height": 313
    },
    "executionInfo": {
     "elapsed": 2190,
     "status": "ok",
     "timestamp": 1615710443549,
     "user": {
      "displayName": "Hitakshi Tripathi",
      "photoUrl": "",
      "userId": "15137861675447163555"
     },
     "user_tz": -330
    },
    "id": "8P-CPkK12L2b",
    "outputId": "1b441e8c-94da-41b7-b9ae-4d209ea1eccc"
   },
   "outputs": [
    {
     "name": "stdout",
     "output_type": "stream",
     "text": [
      "Best l2_rate:\t0.07718277389167241\n",
      "Best dropout:\t0.02247904653973933\n"
     ]
    },
    {
     "data": {
      "image/png": "[encoded data removed]",
      "text/plain": [
       "<Figure size 432x288 with 2 Axes>"
      ]
     },
     "metadata": {
      "needs_background": "light",
      "tags": []
     },
     "output_type": "display_data"
    }
   ],
   "source": [
    "best_i = np.argmax(dev_means)\n",
    "best_l2 = l2_rates[best_i]\n",
    "print(f\"Best l2_rate:\\t{best_l2}\")\n",
    "best_dropout = dropout_rates[best_i]\n",
    "print(f\"Best dropout:\\t{best_dropout}\")\n",
    "\n",
    "plt.scatter(dropout_rates, l2_rates, c=dev_means, cmap=plt.cm.coolwarm)\n",
    "plt.xlabel(\"Dropout Rate\")\n",
    "plt.ylabel(\"L2 Rate\")\n",
    "plt.yscale(\"log\")\n",
    "plt.colorbar()\n",
    "plt.show()"
   ]
  },
  {
   "cell_type": "code",
   "execution_count": null,
   "metadata": {
    "id": "JAKuQ0Zy1PKx"
   },
   "outputs": [],
   "source": [
    "default_cv_evaluate_params[\"dropout_rate\"] = best_dropout\n",
    "default_cv_evaluate_params[\"l2_regularization\"] = best_l2"
   ]
  },
  {
   "cell_type": "markdown",
   "metadata": {
    "id": "CTtwo6qRRbWP"
   },
   "source": [
    "Let's move on with tuning the number of epochs we train for, which Kolesnikov et al. found to be an important hyperparameter to tune when training their pretrained BiT models on transfer tasks. First, let's define a method we can use to search across an individual hyperparameter"
   ]
  },
  {
   "cell_type": "code",
   "execution_count": null,
   "metadata": {
    "id": "YymLaE631Uid"
   },
   "outputs": [],
   "source": [
    "\n",
    "def search_hyperparam(\n",
    "    param_name: str, lower: int, upper: int, nsamples: int,\n",
    "    scale: str = \"float\", **cv_evaluate_params\n",
    ") -> float:\n",
    "    \"\"\"\n",
    "    Cross validates a model along an evenly spaced range of `nsamples`\n",
    "    values for a single hyperparameter (identified by `param_name`. The\n",
    "    values are evenly spaced in the range `[lower,upper]`, and scaled\n",
    "    according to `scale`.\n",
    "    \"\"\"\n",
    "    # Sample the hyperparameter values to try.\n",
    "    param_values = np.linspace(lower, upper, nsamples)\n",
    "    if scale == \"log\":\n",
    "        param_values = 10**param_values\n",
    "    elif scale == \"int\":\n",
    "        param_values = param_values.astype(int)\n",
    "    \n",
    "    # Evaluate the model at each of the values.\n",
    "    dev_means = np.zeros((nsamples, 1))\n",
    "    dev_stds = np.zeros((nsamples, 1))\n",
    "    for i in tqdm(range(nsamples)):\n",
    "        results = cv_evaluate_model(\n",
    "            **{\n",
    "                **cv_evaluate_params,\n",
    "                param_name: param_values[i]\n",
    "            }\n",
    "        )\n",
    "        dev_means[i] = results[\"dev_mean\"]\n",
    "        dev_stds[i] = results[\"dev_std\"]\n",
    "    \n",
    "    # Find the best value.\n",
    "    best_param_value = param_values[np.argmax(dev_means)]\n",
    "    print(f\"Best {param_name} value: {best_param_value}\")\n",
    "    \n",
    "    # Plot scores achieved for all values.\n",
    "    plt.plot(param_values, dev_means)\n",
    "    plt.xlabel(param_name)\n",
    "    plt.ylabel(\"Mean Dev Set Accuracy\")\n",
    "    if scale == \"log\":\n",
    "        plt.xscale(\"log\")\n",
    "    plt.show()\n",
    "    \n",
    "    return best_param_value"
   ]
  },
  {
   "cell_type": "markdown",
   "metadata": {
    "id": "KVGPCCLWRqaF"
   },
   "source": [
    "For all experiments we use the learning rate Kolesnikov et al. used of 3e-3, and the learning rate reduction schedule of reducing the learning rate by a factor of 10 at each of 30%, 60%, and 90% of the total training steps.\n",
    "\n",
    "Let's now search over the number of epochs. We will search in steps of 50 in the range  [50,500] ."
   ]
  },
  {
   "cell_type": "code",
   "execution_count": null,
   "metadata": {
    "colab": {
     "base_uri": "https://localhost:8080/",
     "height": 313
    },
    "executionInfo": {
     "elapsed": 327395,
     "status": "ok",
     "timestamp": 1615710782078,
     "user": {
      "displayName": "Hitakshi Tripathi",
      "photoUrl": "",
      "userId": "15137861675447163555"
     },
     "user_tz": -330
    },
    "id": "6uovDMsS1a2f",
    "outputId": "39ae17a7-1953-4b09-b49d-e71293b326c0"
   },
   "outputs": [
    {
     "name": "stderr",
     "output_type": "stream",
     "text": [
      "100%|██████████| 10/10 [05:26<00:00, 32.61s/it]"
     ]
    },
    {
     "name": "stdout",
     "output_type": "stream",
     "text": [
      "Best epochs value: 500\n"
     ]
    },
    {
     "name": "stderr",
     "output_type": "stream",
     "text": [
      "\n"
     ]
    },
    {
     "data": {
      "image/png": "[encoded data removed]",
      "text/plain": [
       "<Figure size 432x288 with 1 Axes>"
      ]
     },
     "metadata": {
      "needs_background": "light",
      "tags": []
     },
     "output_type": "display_data"
    }
   ],
   "source": [
    "best_epochs = search_hyperparam(\"epochs\", 50, 500, 10, scale=\"int\", **default_cv_evaluate_params)"
   ]
  },
  {
   "cell_type": "markdown",
   "metadata": {
    "id": "4F67br9fRySy"
   },
   "source": [
    "We'lll search again in steps of 50, but this time in the range  [400,800]\n"
   ]
  },
  {
   "cell_type": "code",
   "execution_count": null,
   "metadata": {
    "colab": {
     "base_uri": "https://localhost:8080/",
     "height": 313
    },
    "executionInfo": {
     "elapsed": 557114,
     "status": "ok",
     "timestamp": 1615711398075,
     "user": {
      "displayName": "Hitakshi Tripathi",
      "photoUrl": "",
      "userId": "15137861675447163555"
     },
     "user_tz": -330
    },
    "id": "GCbvUVIu2QNc",
    "outputId": "a8551ee1-88d3-431e-947c-bad9e6753d12"
   },
   "outputs": [
    {
     "name": "stderr",
     "output_type": "stream",
     "text": [
      "100%|██████████| 9/9 [09:15<00:00, 61.70s/it]"
     ]
    },
    {
     "name": "stdout",
     "output_type": "stream",
     "text": [
      "Best epochs value: 650\n"
     ]
    },
    {
     "name": "stderr",
     "output_type": "stream",
     "text": [
      "\n"
     ]
    },
    {
     "data": {
      "image/png": "[encoded data removed]",
      "text/plain": [
       "<Figure size 432x288 with 1 Axes>"
      ]
     },
     "metadata": {
      "needs_background": "light",
      "tags": []
     },
     "output_type": "display_data"
    }
   ],
   "source": [
    "best_epochs2 = search_hyperparam(\"epochs\", 400, 800, 9, scale=\"int\", **default_cv_evaluate_params)"
   ]
  },
  {
   "cell_type": "code",
   "execution_count": null,
   "metadata": {
    "id": "RnjeijqB2T7u"
   },
   "outputs": [],
   "source": [
    "default_cv_evaluate_params[\"epochs\"] = best_epochs2"
   ]
  },
  {
   "cell_type": "markdown",
   "metadata": {
    "id": "mFQH-MjDR8Gk"
   },
   "source": [
    "Now that we've tuned the regularization parameters of our model to improve its generalizability performance, let's train a final model using our best found configuration and evaluate it on our independent test sample. "
   ]
  },
  {
   "cell_type": "code",
   "execution_count": null,
   "metadata": {
    "colab": {
     "base_uri": "https://localhost:8080/"
    },
    "executionInfo": {
     "elapsed": 10650,
     "status": "ok",
     "timestamp": 1615711671832,
     "user": {
      "displayName": "Hitakshi Tripathi",
      "photoUrl": "",
      "userId": "15137861675447163555"
     },
     "user_tz": -330
    },
    "id": "L3f5HtpJ2Ypp",
    "outputId": "8382ffba-32e5-43e9-e40f-81a9134db112"
   },
   "outputs": [
    {
     "name": "stdout",
     "output_type": "stream",
     "text": [
      "Final test set accuracy:\t0.926267\n"
     ]
    }
   ],
   "source": [
    "def evaluate_final(params: dict) -> float:\n",
    "    \n",
    "    steps_per_epoch = math.ceil(len(X_embedding) / params[\"batch_size\"])\n",
    "    third_of_total_steps = math.floor(params[\"epochs\"] * steps_per_epoch / 3)\n",
    "\n",
    "    # Make and compile the model.\n",
    "    model = make_model(\n",
    "        data.nclasses,\n",
    "        dropout_rate=params[\"dropout_rate\"],\n",
    "        nhiddenunits=params[\"nhiddenunits\"],\n",
    "        l2_regularization=params[\"l2_regularization\"]\n",
    "    )\n",
    "\n",
    "\n",
    "    model.compile(\n",
    "        optimizer=Adam(\n",
    "            learning_rate=ExponentialDecay(\n",
    "                params[\"learning_rate\"],\n",
    "                decay_steps=third_of_total_steps,\n",
    "                decay_rate=0.1,\n",
    "                staircase=True\n",
    "            )\n",
    "        ),\n",
    "        loss=\"categorical_crossentropy\",\n",
    "        metrics=[\"accuracy\"]\n",
    "    )\n",
    "\n",
    "    # Train the model on the full training set (no development set)\n",
    "    model.fit(\n",
    "        X_embedding,\n",
    "        tf.convert_to_tensor(data.y),\n",
    "        batch_size=params[\"batch_size\"],\n",
    "        epochs=params[\"epochs\"],\n",
    "        verbose=0\n",
    "    )\n",
    "\n",
    "    # Evaluate the fitted model on the test set.\n",
    "    _, test_acc = model.evaluate(\n",
    "        X_test_embedding,\n",
    "        data.y_test,\n",
    "        verbose=0\n",
    "    )\n",
    "    return test_acc\n",
    "test_acc = evaluate_final(default_cv_evaluate_params)\n",
    "print(f\"Final test set accuracy:\\t{test_acc:.6f}\")"
   ]
  },
  {
   "cell_type": "code",
   "execution_count": null,
   "metadata": {
    "colab": {
     "base_uri": "https://localhost:8080/"
    },
    "executionInfo": {
     "elapsed": 289465,
     "status": "ok",
     "timestamp": 1615712363878,
     "user": {
      "displayName": "Hitakshi Tripathi",
      "photoUrl": "",
      "userId": "15137861675447163555"
     },
     "user_tz": -330
    },
    "id": "qBZN2pWo62wm",
    "outputId": "bfe051ee-66e8-4c7c-bfdb-bb8968ceee54"
   },
   "outputs": [
    {
     "name": "stderr",
     "output_type": "stream",
     "text": [
      "100%|██████████| 30/30 [04:48<00:00,  9.60s/it]\n"
     ]
    }
   ],
   "source": [
    "import warnings\n",
    "warnings.filterwarnings(\"ignore\")\n",
    "\n",
    "test_accs = []\n",
    "for _ in tqdm(range(30)):\n",
    "    test_accs.append(evaluate_final(default_cv_evaluate_params))"
   ]
  },
  {
   "cell_type": "code",
   "execution_count": null,
   "metadata": {
    "colab": {
     "base_uri": "https://localhost:8080/",
     "height": 279
    },
    "executionInfo": {
     "elapsed": 1468,
     "status": "ok",
     "timestamp": 1615712488909,
     "user": {
      "displayName": "Hitakshi Tripathi",
      "photoUrl": "",
      "userId": "15137861675447163555"
     },
     "user_tz": -330
    },
    "id": "Upcajs8S8bp1",
    "outputId": "6838f9f7-ab2d-41c5-d068-b023167ecb7e"
   },
   "outputs": [
    {
     "data": {
      "image/png": "[encoded data removed]",
      "text/plain": [
       "<Figure size 432x288 with 1 Axes>"
      ]
     },
     "metadata": {
      "needs_background": "light",
      "tags": []
     },
     "output_type": "display_data"
    }
   ],
   "source": [
    "plt.hist(test_accs)\n",
    "plt.xlabel(\"Test Set Accuracy\")\n",
    "plt.ylabel(\"Model Count\")\n",
    "plt.show()"
   ]
  },
  {
   "cell_type": "code",
   "execution_count": null,
   "metadata": {
    "id": "JRlpaP6X-Aen"
   },
   "outputs": [],
   "source": []
  }
 ],
 "metadata": {
  "accelerator": "GPU",
  "colab": {
   "collapsed_sections": [],
   "machine_shape": "hm",
   "name": "Copy of HACKANONS COLAB 25GB RAM.ipynb",
   "provenance": [
    {
     "file_id": "1GqZu6zmCy2vMNMZqO78DDuHvwv_9vJcp",
     "timestamp": 1615707185140
    },
    {
     "file_id": "1IzPbxNFQmmSYk9s14L4YjBfUgACn9mW2",
     "timestamp": 1593978024316
    },
    {
     "file_id": "1G7NKeneJNyRtcRxLVbbF9jYtRyuTOa-R",
     "timestamp": 1592749700622
    },
    {
     "file_id": "https://github.com/satyajitghana/TSAI-DeepVision-EVA4.0/blob/master/Utils/Colab_25GBRAM_GPU.ipynb",
     "timestamp": 1592043804148
    }
   ],
   "toc_visible": true
  },
  "kernelspec": {
   "display_name": "Python 3",
   "language": "python",
   "name": "python3"
  },
  "language_info": {
   "codemirror_mode": {
    "name": "ipython",
    "version": 3
   },
   "file_extension": ".py",
   "mimetype": "text/x-python",
   "name": "python",
   "nbconvert_exporter": "python",
   "pygments_lexer": "ipython3",
   "version": "3.8.5"
  }
 },
 "nbformat": 4,
 "nbformat_minor": 1
}
