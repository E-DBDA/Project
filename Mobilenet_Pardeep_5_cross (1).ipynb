{
  "nbformat": 4,
  "nbformat_minor": 0,
  "metadata": {
    "accelerator": "GPU",
    "colab": {
      "name": "Mobilenet_Pardeep_5_cross.ipynb",
      "provenance": [],
      "collapsed_sections": []
    },
    "kernelspec": {
      "display_name": "Python 3",
      "language": "python",
      "name": "python3"
    },
    "language_info": {
      "codemirror_mode": {
        "name": "ipython",
        "version": 3
      },
      "file_extension": ".py",
      "mimetype": "text/x-python",
      "name": "python",
      "nbconvert_exporter": "python",
      "pygments_lexer": "ipython3",
      "version": "3.8.5"
    }
  },
  "cells": [
    {
      "cell_type": "code",
      "metadata": {
        "id": "wk0ZXH4wJSrh"
      },
      "source": [
        "import os"
      ],
      "execution_count": 1,
      "outputs": []
    },
    {
      "cell_type": "code",
      "metadata": {
        "colab": {
          "base_uri": "https://localhost:8080/"
        },
        "id": "rtUyV65eJaBA",
        "outputId": "a57ef21a-f55f-44fc-bcc3-0d6b5bf355f4"
      },
      "source": [
        "from google.colab import drive\n",
        "drive.mount('/content/drive')"
      ],
      "execution_count": 2,
      "outputs": [
        {
          "output_type": "stream",
          "text": [
            "Mounted at /content/drive\n"
          ],
          "name": "stdout"
        }
      ]
    },
    {
      "cell_type": "code",
      "metadata": {
        "id": "otwpHW5iJSro"
      },
      "source": [
        "datadir = '/content/drive/MyDrive/Segmented Medicinal Leaf Images'\n",
        "categories = os.listdir(datadir)"
      ],
      "execution_count": 3,
      "outputs": []
    },
    {
      "cell_type": "code",
      "metadata": {
        "colab": {
          "base_uri": "https://localhost:8080/"
        },
        "id": "FxcO_kGqJSro",
        "outputId": "edf49043-027b-4048-f0f3-10ffc7858aed"
      },
      "source": [
        "len(categories)"
      ],
      "execution_count": 4,
      "outputs": [
        {
          "output_type": "execute_result",
          "data": {
            "text/plain": [
              "30"
            ]
          },
          "metadata": {
            "tags": []
          },
          "execution_count": 4
        }
      ]
    },
    {
      "cell_type": "code",
      "metadata": {
        "id": "fVz14KagJSrp"
      },
      "source": [
        "from keras.preprocessing import image"
      ],
      "execution_count": 5,
      "outputs": []
    },
    {
      "cell_type": "code",
      "metadata": {
        "id": "5SZ-1lI1JSrp"
      },
      "source": [
        "data = []\n",
        "for category in categories:\n",
        "  path = os.path.join(datadir, category)\n",
        "  labels = categories.index(category)\n",
        "  for imgpath in os.listdir(path):\n",
        "    imgs = image.load_img(os.path.join(path, imgpath),target_size=(224,224))\n",
        "    data.append((imgs, labels))"
      ],
      "execution_count": 6,
      "outputs": []
    },
    {
      "cell_type": "code",
      "metadata": {
        "colab": {
          "base_uri": "https://localhost:8080/"
        },
        "id": "ZCu-Fkh8JSrp",
        "outputId": "01652e12-ff24-4249-9f54-02125630b1fc"
      },
      "source": [
        "len(data)"
      ],
      "execution_count": 7,
      "outputs": [
        {
          "output_type": "execute_result",
          "data": {
            "text/plain": [
              "1835"
            ]
          },
          "metadata": {
            "tags": []
          },
          "execution_count": 7
        }
      ]
    },
    {
      "cell_type": "code",
      "metadata": {
        "id": "Kvq_X007JSrq"
      },
      "source": [
        "import random"
      ],
      "execution_count": 8,
      "outputs": []
    },
    {
      "cell_type": "code",
      "metadata": {
        "id": "Edrp6ZMSJSrq"
      },
      "source": [
        "random.shuffle(data)"
      ],
      "execution_count": 9,
      "outputs": []
    },
    {
      "cell_type": "code",
      "metadata": {
        "id": "1QP-Hf71JSrq"
      },
      "source": [
        "X_img = []\n",
        "y_lab = []\n",
        "for img , label in data:\n",
        "  X_img.append(img)\n",
        "  y_lab.append(label)"
      ],
      "execution_count": 10,
      "outputs": []
    },
    {
      "cell_type": "code",
      "metadata": {
        "id": "lSfV2w-dJSrq"
      },
      "source": [
        "X_list = [ image.img_to_array(img) for img in X_img]"
      ],
      "execution_count": 11,
      "outputs": []
    },
    {
      "cell_type": "code",
      "metadata": {
        "colab": {
          "base_uri": "https://localhost:8080/"
        },
        "id": "eOs4D0NIJSrr",
        "outputId": "bae1b122-5579-4dae-d495-4f8996f3661b"
      },
      "source": [
        "type(X_list)"
      ],
      "execution_count": 12,
      "outputs": [
        {
          "output_type": "execute_result",
          "data": {
            "text/plain": [
              "list"
            ]
          },
          "metadata": {
            "tags": []
          },
          "execution_count": 12
        }
      ]
    },
    {
      "cell_type": "code",
      "metadata": {
        "id": "tvOqLfd_JSrr"
      },
      "source": [
        "import numpy as np"
      ],
      "execution_count": 13,
      "outputs": []
    },
    {
      "cell_type": "code",
      "metadata": {
        "id": "kV6u8RHZJSrr"
      },
      "source": [
        "X = np.asarray(X_list)"
      ],
      "execution_count": 14,
      "outputs": []
    },
    {
      "cell_type": "code",
      "metadata": {
        "colab": {
          "base_uri": "https://localhost:8080/"
        },
        "id": "0Vf4nGSmJSrr",
        "outputId": "9d26ed35-0139-488c-ac65-f816acc51006"
      },
      "source": [
        "type(X)"
      ],
      "execution_count": 15,
      "outputs": [
        {
          "output_type": "execute_result",
          "data": {
            "text/plain": [
              "numpy.ndarray"
            ]
          },
          "metadata": {
            "tags": []
          },
          "execution_count": 15
        }
      ]
    },
    {
      "cell_type": "code",
      "metadata": {
        "colab": {
          "base_uri": "https://localhost:8080/"
        },
        "id": "Uul2bL4tJSrr",
        "outputId": "f230a697-8557-4294-adaa-bf53525da3b6"
      },
      "source": [
        "X.shape"
      ],
      "execution_count": 16,
      "outputs": [
        {
          "output_type": "execute_result",
          "data": {
            "text/plain": [
              "(1835, 224, 224, 3)"
            ]
          },
          "metadata": {
            "tags": []
          },
          "execution_count": 16
        }
      ]
    },
    {
      "cell_type": "code",
      "metadata": {
        "id": "H2s27__yJSrs"
      },
      "source": [
        "X /= 255"
      ],
      "execution_count": 17,
      "outputs": []
    },
    {
      "cell_type": "code",
      "metadata": {
        "id": "Cov7pvNhJSrs"
      },
      "source": [
        "import matplotlib.pyplot as plt"
      ],
      "execution_count": 18,
      "outputs": []
    },
    {
      "cell_type": "code",
      "metadata": {
        "colab": {
          "base_uri": "https://localhost:8080/",
          "height": 303
        },
        "id": "cml_WTFrJSrs",
        "outputId": "53fd764c-8830-474f-cad8-e391c915e3c8"
      },
      "source": [
        "plt.figure(figsize=(5,5))\n",
        "plt.imshow(X[170])\n",
        "plt.axis('off')\n",
        "plt.show()"
      ],
      "execution_count": 19,
      "outputs": [
        {
          "output_type": "display_data",
          "data": {
            "image/png": "[encoded data removed]",
            "text/plain": [
              "<Figure size 360x360 with 1 Axes>"
            ]
          },
          "metadata": {
            "tags": [],
            "needs_background": "light"
          }
        }
      ]
    },
    {
      "cell_type": "code",
      "metadata": {
        "id": "TMbT_QxgJSrs"
      },
      "source": [
        "Y = np.asarray(y_lab)"
      ],
      "execution_count": 20,
      "outputs": []
    },
    {
      "cell_type": "code",
      "metadata": {
        "colab": {
          "base_uri": "https://localhost:8080/"
        },
        "id": "oi3Y8IxNJSrs",
        "outputId": "d2917c9c-fab4-41e7-f2a7-73379a95ea09"
      },
      "source": [
        "Y.shape"
      ],
      "execution_count": 21,
      "outputs": [
        {
          "output_type": "execute_result",
          "data": {
            "text/plain": [
              "(1835,)"
            ]
          },
          "metadata": {
            "tags": []
          },
          "execution_count": 21
        }
      ]
    },
    {
      "cell_type": "markdown",
      "metadata": {
        "id": "AqpydXfLJSrs"
      },
      "source": [
        "## finally preprocessed data as X and Lables as Y"
      ]
    },
    {
      "cell_type": "code",
      "metadata": {
        "id": "2b55_kizJSrt"
      },
      "source": [
        "# import necessary library\n",
        "from keras.applications.mobilenet_v2 import MobileNetV2\n",
        "from keras.models import Sequential\n",
        "from keras.layers import *"
      ],
      "execution_count": 22,
      "outputs": []
    },
    {
      "cell_type": "code",
      "metadata": {
        "id": "3yYFyaaTJSrt"
      },
      "source": [
        "# build model function\n",
        "def build_model():\n",
        "\n",
        "  v2model = MobileNetV2(input_shape=[224,224,3], weights='imagenet', include_top=False)\n",
        "  \n",
        "  x = Flatten()(v2model.output)\n",
        "  prediction = Dense(len(categories), activation='softmax')(x)\n",
        "\n",
        "  model = Model(inputs=v2model.input, outputs=prediction)\n",
        "\n",
        "  for layer in v2model.layers:\n",
        "    layer.trainable = False\n",
        "  return model\n",
        "\n"
      ],
      "execution_count": 23,
      "outputs": []
    },
    {
      "cell_type": "code",
      "metadata": {
        "id": "YNK72S3LJSrt"
      },
      "source": [
        "# 3 fold cross validation"
      ],
      "execution_count": 24,
      "outputs": []
    },
    {
      "cell_type": "code",
      "metadata": {
        "id": "svVmlcFBJSrt"
      },
      "source": [
        "from sklearn.model_selection import KFold\n",
        "from keras.callbacks import EarlyStopping, TensorBoard\n",
        "from keras.models import Model"
      ],
      "execution_count": 25,
      "outputs": []
    },
    {
      "cell_type": "code",
      "metadata": {
        "id": "bPQOiaGLJSrt"
      },
      "source": [
        "kf = KFold(n_splits=5)"
      ],
      "execution_count": 26,
      "outputs": []
    },
    {
      "cell_type": "code",
      "metadata": {
        "colab": {
          "base_uri": "https://localhost:8080/"
        },
        "id": "TDgfXzMCJSrt",
        "outputId": "936805ee-3ec4-40e7-b471-7f33663676ce"
      },
      "source": [
        "ACCURACY = []\n",
        "LOSS = []\n",
        "\n",
        "count = 1\n",
        "for train_index, test_index in kf.split(X):\n",
        "\n",
        "    X_train, X_test = X[train_index], X[test_index]\n",
        "    y_train, y_test = Y[train_index], Y[test_index]\n",
        "\n",
        "    model = build_model()\n",
        "\n",
        "    model.compile(optimizer='adam',\n",
        "              loss='sparse_categorical_crossentropy',\n",
        "              metrics=['accuracy'])\n",
        "  \n",
        "    callbacks = [EarlyStopping(monitor='val_accuracy', patience=2,verbose=2),TensorBoard(log_dir=f'./logs{count}')]\n",
        "\n",
        "    history = model.fit(X_train ,y_train,batch_size = 32,epochs = 10,verbose = 2,callbacks=callbacks ,validation_data=(X_test,y_test))\n",
        "  \n",
        "    results = model.evaluate(X_test, y_test)  #returns ['loss','accuracy']\n",
        "    print('fold = ',count, 'loss and val_accuracy',results)\n",
        "\n",
        "    ACCURACY.append(results[1])\n",
        "    LOSS.append(results[0])\n",
        "\n",
        "    count += 1\n",
        "  \n",
        " "
      ],
      "execution_count": 27,
      "outputs": [
        {
          "output_type": "stream",
          "text": [
            "Downloading data from https://storage.googleapis.com/tensorflow/keras-applications/mobilenet_v2/mobilenet_v2_weights_tf_dim_ordering_tf_kernels_1.0_224_no_top.h5\n",
            "9412608/9406464 [==============================] - 0s 0us/step\n",
            "Epoch 1/10\n",
            "46/46 - 39s - loss: 4.3331 - accuracy: 0.7357 - val_loss: 1.2004 - val_accuracy: 0.9019\n",
            "Epoch 2/10\n",
            "46/46 - 2s - loss: 0.2171 - accuracy: 0.9775 - val_loss: 0.6582 - val_accuracy: 0.9482\n",
            "Epoch 3/10\n",
            "46/46 - 2s - loss: 0.0925 - accuracy: 0.9877 - val_loss: 0.9262 - val_accuracy: 0.9319\n",
            "Epoch 4/10\n",
            "46/46 - 2s - loss: 0.0302 - accuracy: 0.9952 - val_loss: 0.5304 - val_accuracy: 0.9619\n",
            "Epoch 5/10\n",
            "46/46 - 2s - loss: 0.0320 - accuracy: 0.9993 - val_loss: 0.4020 - val_accuracy: 0.9755\n",
            "Epoch 6/10\n",
            "46/46 - 2s - loss: 0.0133 - accuracy: 0.9980 - val_loss: 0.3264 - val_accuracy: 0.9728\n",
            "Epoch 7/10\n",
            "46/46 - 2s - loss: 0.0233 - accuracy: 0.9973 - val_loss: 0.5486 - val_accuracy: 0.9537\n",
            "Epoch 00007: early stopping\n",
            "12/12 [==============================] - 0s 39ms/step - loss: 0.5486 - accuracy: 0.9537\n",
            "fold =  1 loss and val_accuracy [0.5486428737640381, 0.9536784887313843]\n",
            "Epoch 1/10\n",
            "46/46 - 6s - loss: 4.1009 - accuracy: 0.7725 - val_loss: 0.9379 - val_accuracy: 0.9346\n",
            "Epoch 2/10\n",
            "46/46 - 2s - loss: 0.2357 - accuracy: 0.9789 - val_loss: 1.1414 - val_accuracy: 0.9074\n",
            "Epoch 3/10\n",
            "46/46 - 2s - loss: 0.1270 - accuracy: 0.9850 - val_loss: 0.9407 - val_accuracy: 0.9346\n",
            "Epoch 00003: early stopping\n",
            "12/12 [==============================] - 0s 38ms/step - loss: 0.9407 - accuracy: 0.9346\n",
            "fold =  2 loss and val_accuracy [0.9406843185424805, 0.9346048831939697]\n",
            "Epoch 1/10\n",
            "46/46 - 6s - loss: 4.7995 - accuracy: 0.7623 - val_loss: 0.7532 - val_accuracy: 0.9292\n",
            "Epoch 2/10\n",
            "46/46 - 2s - loss: 0.3446 - accuracy: 0.9680 - val_loss: 0.3057 - val_accuracy: 0.9619\n",
            "Epoch 3/10\n",
            "46/46 - 2s - loss: 0.2820 - accuracy: 0.9762 - val_loss: 1.1946 - val_accuracy: 0.9346\n",
            "Epoch 4/10\n",
            "46/46 - 2s - loss: 0.0884 - accuracy: 0.9877 - val_loss: 0.4161 - val_accuracy: 0.9619\n",
            "Epoch 00004: early stopping\n",
            "12/12 [==============================] - 1s 67ms/step - loss: 0.4161 - accuracy: 0.9619\n",
            "fold =  3 loss and val_accuracy [0.41612398624420166, 0.9618528485298157]\n",
            "Epoch 1/10\n",
            "46/46 - 6s - loss: 4.9870 - accuracy: 0.7309 - val_loss: 0.7013 - val_accuracy: 0.9237\n",
            "Epoch 2/10\n",
            "46/46 - 2s - loss: 0.3199 - accuracy: 0.9659 - val_loss: 0.4347 - val_accuracy: 0.9482\n",
            "Epoch 3/10\n",
            "46/46 - 2s - loss: 0.1576 - accuracy: 0.9796 - val_loss: 1.7630 - val_accuracy: 0.9264\n",
            "Epoch 4/10\n",
            "46/46 - 2s - loss: 0.2361 - accuracy: 0.9789 - val_loss: 0.5696 - val_accuracy: 0.9564\n",
            "Epoch 5/10\n",
            "46/46 - 2s - loss: 0.0457 - accuracy: 0.9932 - val_loss: 0.1934 - val_accuracy: 0.9837\n",
            "Epoch 6/10\n",
            "46/46 - 2s - loss: 0.0245 - accuracy: 0.9966 - val_loss: 0.5099 - val_accuracy: 0.9591\n",
            "Epoch 7/10\n",
            "46/46 - 2s - loss: 0.0677 - accuracy: 0.9939 - val_loss: 0.4613 - val_accuracy: 0.9591\n",
            "Epoch 00007: early stopping\n",
            "12/12 [==============================] - 0s 39ms/step - loss: 0.4613 - accuracy: 0.9591\n",
            "fold =  4 loss and val_accuracy [0.4612703323364258, 0.9591280817985535]\n",
            "Epoch 1/10\n",
            "46/46 - 6s - loss: 4.8396 - accuracy: 0.7548 - val_loss: 0.5882 - val_accuracy: 0.9537\n",
            "Epoch 2/10\n",
            "46/46 - 2s - loss: 0.2694 - accuracy: 0.9666 - val_loss: 0.3351 - val_accuracy: 0.9646\n",
            "Epoch 3/10\n",
            "46/46 - 2s - loss: 0.2228 - accuracy: 0.9796 - val_loss: 0.5806 - val_accuracy: 0.9455\n",
            "Epoch 4/10\n",
            "46/46 - 2s - loss: 0.1019 - accuracy: 0.9864 - val_loss: 0.8718 - val_accuracy: 0.9510\n",
            "Epoch 00004: early stopping\n",
            "12/12 [==============================] - 0s 39ms/step - loss: 0.8718 - accuracy: 0.9510\n",
            "fold =  5 loss and val_accuracy [0.8717739582061768, 0.9509536623954773]\n"
          ],
          "name": "stdout"
        }
      ]
    },
    {
      "cell_type": "code",
      "metadata": {
        "colab": {
          "base_uri": "https://localhost:8080/"
        },
        "id": "X-_7YaiIJSru",
        "outputId": "b15db2e1-728a-4b72-9a37-d5fbfeb1c0e5"
      },
      "source": [
        "a=ACCURACY\r\n",
        "a"
      ],
      "execution_count": 28,
      "outputs": [
        {
          "output_type": "execute_result",
          "data": {
            "text/plain": [
              "[0.9536784887313843,\n",
              " 0.9346048831939697,\n",
              " 0.9618528485298157,\n",
              " 0.9591280817985535,\n",
              " 0.9509536623954773]"
            ]
          },
          "metadata": {
            "tags": []
          },
          "execution_count": 28
        }
      ]
    },
    {
      "cell_type": "code",
      "metadata": {
        "colab": {
          "base_uri": "https://localhost:8080/"
        },
        "id": "TELgGizVJSru",
        "outputId": "96b99e7d-55c9-4523-bc98-f69a32e63df1"
      },
      "source": [
        "b=LOSS\r\n",
        "b"
      ],
      "execution_count": 29,
      "outputs": [
        {
          "output_type": "execute_result",
          "data": {
            "text/plain": [
              "[0.5486428737640381,\n",
              " 0.9406843185424805,\n",
              " 0.41612398624420166,\n",
              " 0.4612703323364258,\n",
              " 0.8717739582061768]"
            ]
          },
          "metadata": {
            "tags": []
          },
          "execution_count": 29
        }
      ]
    },
    {
      "cell_type": "code",
      "metadata": {
        "colab": {
          "base_uri": "https://localhost:8080/",
          "height": 281
        },
        "id": "N95kgWuSOMkt",
        "outputId": "1ca1ce56-d8f1-4912-8278-2fab71ba7f1f"
      },
      "source": [
        "# plot the loss\r\n",
        "plt.plot(a, label='accuracy')\r\n",
        "plt.plot(b, label='loss')\r\n",
        "plt.title(\"Model Stats of 5 fold cross validation\")\r\n",
        "plt.legend()\r\n",
        "plt.show()\r\n",
        "#plt.savefig('LossVal_loss')\r\n",
        "\r\n"
      ],
      "execution_count": 30,
      "outputs": [
        {
          "output_type": "display_data",
          "data": {
            "image/png": "[encoded data removed]",
            "text/plain": [
              "<Figure size 432x288 with 1 Axes>"
            ]
          },
          "metadata": {
            "tags": [],
            "needs_background": "light"
          }
        }
      ]
    },
    {
      "cell_type": "code",
      "metadata": {
        "id": "YOaYgu6ISnWF"
      },
      "source": [
        "#%reload_ext tensorboard"
      ],
      "execution_count": 31,
      "outputs": []
    },
    {
      "cell_type": "code",
      "metadata": {
        "id": "imXz0NMLTB2x"
      },
      "source": [
        "#%tensorboard --logdir logs1"
      ],
      "execution_count": 32,
      "outputs": []
    },
    {
      "cell_type": "code",
      "metadata": {
        "id": "42wSke-jTB5W"
      },
      "source": [
        "#%tensorboard --logdir logs2"
      ],
      "execution_count": 33,
      "outputs": []
    },
    {
      "cell_type": "code",
      "metadata": {
        "id": "iUFNiLOwTB8B"
      },
      "source": [
        "#%tensorboard --logdir logs3"
      ],
      "execution_count": 34,
      "outputs": []
    },
    {
      "cell_type": "code",
      "metadata": {
        "id": "8wQaqACZTJEC"
      },
      "source": [
        "#%tensorboard --logdir logs4"
      ],
      "execution_count": 35,
      "outputs": []
    },
    {
      "cell_type": "code",
      "metadata": {
        "id": "sc9j_BVvTJGi"
      },
      "source": [
        "#%tensorboard --logdir logs5"
      ],
      "execution_count": 36,
      "outputs": []
    },
    {
      "cell_type": "code",
      "metadata": {
        "id": "Ka0f6dERTJI3"
      },
      "source": [
        "#from tensorboard import notebook\r\n",
        "#notebook.list() # View open TensorBoard instances"
      ],
      "execution_count": 37,
      "outputs": []
    },
    {
      "cell_type": "code",
      "metadata": {
        "id": "E5rYkokITSeI"
      },
      "source": [
        "#notebook.display(port=6006, height=1000) "
      ],
      "execution_count": 38,
      "outputs": []
    },
    {
      "cell_type": "code",
      "metadata": {
        "id": "tX82yY-rTSg2"
      },
      "source": [
        ""
      ],
      "execution_count": 38,
      "outputs": []
    }
  ]
}