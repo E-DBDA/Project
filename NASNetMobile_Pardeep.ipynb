{
  "nbformat": 4,
  "nbformat_minor": 0,
  "metadata": {
    "accelerator": "GPU",
    "colab": {
      "name": "NASNetMobile_Pardeep.ipynb",
      "provenance": [],
      "collapsed_sections": []
    },
    "kernelspec": {
      "display_name": "Python 3",
      "language": "python",
      "name": "python3"
    },
    "language_info": {
      "codemirror_mode": {
        "name": "ipython",
        "version": 3
      },
      "file_extension": ".py",
      "mimetype": "text/x-python",
      "name": "python",
      "nbconvert_exporter": "python",
      "pygments_lexer": "ipython3",
      "version": "3.8.5"
    }
  },
  "cells": [
    {
      "cell_type": "code",
      "metadata": {
        "id": "wk0ZXH4wJSrh"
      },
      "source": [
        "import os"
      ],
      "execution_count": 1,
      "outputs": []
    },
    {
      "cell_type": "code",
      "metadata": {
        "colab": {
          "base_uri": "https://localhost:8080/"
        },
        "id": "rtUyV65eJaBA",
        "outputId": "9302dab6-bd60-4142-fc71-d8fa85fdf928"
      },
      "source": [
        "from google.colab import drive\n",
        "drive.mount('/content/drive')"
      ],
      "execution_count": 2,
      "outputs": [
        {
          "output_type": "stream",
          "text": [
            "Mounted at /content/drive\n"
          ],
          "name": "stdout"
        }
      ]
    },
    {
      "cell_type": "code",
      "metadata": {
        "id": "otwpHW5iJSro"
      },
      "source": [
        "datadir = '/content/drive/MyDrive/Segmented Medicinal Leaf Images'\n",
        "categories = os.listdir(datadir)"
      ],
      "execution_count": 3,
      "outputs": []
    },
    {
      "cell_type": "code",
      "metadata": {
        "colab": {
          "base_uri": "https://localhost:8080/"
        },
        "id": "FxcO_kGqJSro",
        "outputId": "80bd2d46-a16e-4c85-e536-ae5423b10312"
      },
      "source": [
        "len(categories)"
      ],
      "execution_count": 4,
      "outputs": [
        {
          "output_type": "execute_result",
          "data": {
            "text/plain": [
              "30"
            ]
          },
          "metadata": {
            "tags": []
          },
          "execution_count": 4
        }
      ]
    },
    {
      "cell_type": "code",
      "metadata": {
        "id": "fVz14KagJSrp"
      },
      "source": [
        "from keras.preprocessing import image"
      ],
      "execution_count": 5,
      "outputs": []
    },
    {
      "cell_type": "code",
      "metadata": {
        "id": "5SZ-1lI1JSrp"
      },
      "source": [
        "data = []\n",
        "for category in categories:\n",
        "  path = os.path.join(datadir, category)\n",
        "  labels = categories.index(category)\n",
        "  for imgpath in os.listdir(path):\n",
        "    imgs = image.load_img(os.path.join(path, imgpath),target_size=(224,224))\n",
        "    data.append((imgs, labels))"
      ],
      "execution_count": 6,
      "outputs": []
    },
    {
      "cell_type": "code",
      "metadata": {
        "colab": {
          "base_uri": "https://localhost:8080/"
        },
        "id": "ZCu-Fkh8JSrp",
        "outputId": "b548e686-8083-4bb8-b588-184fc5b305ab"
      },
      "source": [
        "len(data)"
      ],
      "execution_count": 7,
      "outputs": [
        {
          "output_type": "execute_result",
          "data": {
            "text/plain": [
              "1835"
            ]
          },
          "metadata": {
            "tags": []
          },
          "execution_count": 7
        }
      ]
    },
    {
      "cell_type": "code",
      "metadata": {
        "id": "Kvq_X007JSrq"
      },
      "source": [
        "import random"
      ],
      "execution_count": 8,
      "outputs": []
    },
    {
      "cell_type": "code",
      "metadata": {
        "id": "Edrp6ZMSJSrq"
      },
      "source": [
        "random.shuffle(data)"
      ],
      "execution_count": 9,
      "outputs": []
    },
    {
      "cell_type": "code",
      "metadata": {
        "id": "1QP-Hf71JSrq"
      },
      "source": [
        "X_img = []\n",
        "y_lab = []\n",
        "for img , label in data:\n",
        "  X_img.append(img)\n",
        "  y_lab.append(label)"
      ],
      "execution_count": 10,
      "outputs": []
    },
    {
      "cell_type": "code",
      "metadata": {
        "id": "lSfV2w-dJSrq"
      },
      "source": [
        "X_list = [ image.img_to_array(img) for img in X_img]"
      ],
      "execution_count": 11,
      "outputs": []
    },
    {
      "cell_type": "code",
      "metadata": {
        "colab": {
          "base_uri": "https://localhost:8080/"
        },
        "id": "eOs4D0NIJSrr",
        "outputId": "8216fcab-b0db-40ba-cc63-7382044df803"
      },
      "source": [
        "type(X_list)"
      ],
      "execution_count": 12,
      "outputs": [
        {
          "output_type": "execute_result",
          "data": {
            "text/plain": [
              "list"
            ]
          },
          "metadata": {
            "tags": []
          },
          "execution_count": 12
        }
      ]
    },
    {
      "cell_type": "code",
      "metadata": {
        "id": "tvOqLfd_JSrr"
      },
      "source": [
        "import numpy as np"
      ],
      "execution_count": 13,
      "outputs": []
    },
    {
      "cell_type": "code",
      "metadata": {
        "id": "kV6u8RHZJSrr"
      },
      "source": [
        "X = np.asarray(X_list)"
      ],
      "execution_count": 14,
      "outputs": []
    },
    {
      "cell_type": "code",
      "metadata": {
        "colab": {
          "base_uri": "https://localhost:8080/"
        },
        "id": "0Vf4nGSmJSrr",
        "outputId": "846dd79c-ed27-4567-879f-f45f61b07ee5"
      },
      "source": [
        "type(X)"
      ],
      "execution_count": 15,
      "outputs": [
        {
          "output_type": "execute_result",
          "data": {
            "text/plain": [
              "numpy.ndarray"
            ]
          },
          "metadata": {
            "tags": []
          },
          "execution_count": 15
        }
      ]
    },
    {
      "cell_type": "code",
      "metadata": {
        "colab": {
          "base_uri": "https://localhost:8080/"
        },
        "id": "Uul2bL4tJSrr",
        "outputId": "03a4f6fb-a934-4a44-895b-fb8032c35f86"
      },
      "source": [
        "X.shape"
      ],
      "execution_count": 16,
      "outputs": [
        {
          "output_type": "execute_result",
          "data": {
            "text/plain": [
              "(1835, 224, 224, 3)"
            ]
          },
          "metadata": {
            "tags": []
          },
          "execution_count": 16
        }
      ]
    },
    {
      "cell_type": "code",
      "metadata": {
        "id": "H2s27__yJSrs"
      },
      "source": [
        "X /= 255"
      ],
      "execution_count": 17,
      "outputs": []
    },
    {
      "cell_type": "code",
      "metadata": {
        "id": "Cov7pvNhJSrs"
      },
      "source": [
        "import matplotlib.pyplot as plt"
      ],
      "execution_count": 18,
      "outputs": []
    },
    {
      "cell_type": "code",
      "metadata": {
        "colab": {
          "base_uri": "https://localhost:8080/",
          "height": 303
        },
        "id": "cml_WTFrJSrs",
        "outputId": "8349526d-6ac6-4791-fc38-dfc4b8567987"
      },
      "source": [
        "plt.figure(figsize=(5,5))\n",
        "plt.imshow(X[170])\n",
        "plt.axis('off')\n",
        "plt.show()"
      ],
      "execution_count": 19,
      "outputs": [
        {
          "output_type": "display_data",
          "data": {
            "image/png": "[encoded data removed]",
            "text/plain": [
              "<Figure size 360x360 with 1 Axes>"
            ]
          },
          "metadata": {
            "tags": [],
            "needs_background": "light"
          }
        }
      ]
    },
    {
      "cell_type": "code",
      "metadata": {
        "id": "TMbT_QxgJSrs"
      },
      "source": [
        "Y = np.asarray(y_lab)"
      ],
      "execution_count": 20,
      "outputs": []
    },
    {
      "cell_type": "code",
      "metadata": {
        "colab": {
          "base_uri": "https://localhost:8080/"
        },
        "id": "oi3Y8IxNJSrs",
        "outputId": "785fed1d-acfe-4920-f247-445978bcd2df"
      },
      "source": [
        "Y.shape"
      ],
      "execution_count": 21,
      "outputs": [
        {
          "output_type": "execute_result",
          "data": {
            "text/plain": [
              "(1835,)"
            ]
          },
          "metadata": {
            "tags": []
          },
          "execution_count": 21
        }
      ]
    },
    {
      "cell_type": "markdown",
      "metadata": {
        "id": "AqpydXfLJSrs"
      },
      "source": [
        "## finally preprocessed data as X and Lables as Y"
      ]
    },
    {
      "cell_type": "code",
      "metadata": {
        "id": "2b55_kizJSrt"
      },
      "source": [
        "# import necessary library\n",
        "#from keras.applications.efficientnet import EfficientNetB0\n",
        "from keras.models import Sequential\n",
        "from keras.layers import *\n",
        "import tensorflow as tf"
      ],
      "execution_count": 22,
      "outputs": []
    },
    {
      "cell_type": "code",
      "metadata": {
        "id": "3yYFyaaTJSrt"
      },
      "source": [
        "# build model function\n",
        "def build_model():\n",
        "\n",
        "  v2model = tf.keras.applications.NASNetMobile(input_shape=(224,224,3), weights='imagenet', include_top=False)\n",
        "  \n",
        "  x = Flatten()(v2model.output)\n",
        "  prediction = Dense(len(categories), activation='softmax')(x)\n",
        "\n",
        "  model = Model(inputs=v2model.input, outputs=prediction)\n",
        "\n",
        "  for layer in v2model.layers:\n",
        "    layer.trainable = False\n",
        "  return model\n",
        "\n"
      ],
      "execution_count": 23,
      "outputs": []
    },
    {
      "cell_type": "code",
      "metadata": {
        "id": "YNK72S3LJSrt"
      },
      "source": [
        "# 3 fold cross validation"
      ],
      "execution_count": 24,
      "outputs": []
    },
    {
      "cell_type": "code",
      "metadata": {
        "id": "svVmlcFBJSrt"
      },
      "source": [
        "from sklearn.model_selection import KFold\n",
        "from keras.callbacks import EarlyStopping, TensorBoard\n",
        "from keras.models import Model"
      ],
      "execution_count": 25,
      "outputs": []
    },
    {
      "cell_type": "code",
      "metadata": {
        "id": "bPQOiaGLJSrt"
      },
      "source": [
        "kf = KFold(n_splits=5)"
      ],
      "execution_count": 26,
      "outputs": []
    },
    {
      "cell_type": "code",
      "metadata": {
        "colab": {
          "base_uri": "https://localhost:8080/"
        },
        "id": "TDgfXzMCJSrt",
        "outputId": "35883366-a4bb-4610-f73e-64f84556b8fb"
      },
      "source": [
        "ACCURACY = []\n",
        "LOSS = []\n",
        "\n",
        "count = 1\n",
        "for train_index, test_index in kf.split(X):\n",
        "\n",
        "    X_train, X_test = X[train_index], X[test_index]\n",
        "    y_train, y_test = Y[train_index], Y[test_index]\n",
        "\n",
        "    model = build_model()\n",
        "\n",
        "    model.compile(optimizer='adam',\n",
        "              loss='sparse_categorical_crossentropy',\n",
        "              metrics=['accuracy'])\n",
        "  \n",
        "    callbacks = [EarlyStopping(monitor='val_accuracy', patience=2,verbose=2),TensorBoard(log_dir=f'./logs{count}')]\n",
        "\n",
        "    history = model.fit(X_train ,y_train,batch_size = 32,epochs = 10,verbose = 2,callbacks=callbacks ,validation_data=(X_test,y_test))\n",
        "  \n",
        "    results = model.evaluate(X_test, y_test)  #returns ['loss','accuracy']\n",
        "    print('fold = ',count, 'loss and val_accuracy',results)\n",
        "\n",
        "    ACCURACY.append(results[1])\n",
        "    LOSS.append(results[0])\n",
        "\n",
        "    count += 1\n",
        "  \n",
        " "
      ],
      "execution_count": 27,
      "outputs": [
        {
          "output_type": "stream",
          "text": [
            "Downloading data from https://storage.googleapis.com/tensorflow/keras-applications/nasnet/NASNet-mobile-no-top.h5\n",
            "19996672/19993432 [==============================] - 0s 0us/step\n",
            "Epoch 1/10\n",
            "46/46 - 51s - loss: 4.3838 - accuracy: 0.6846 - val_loss: 0.7649 - val_accuracy: 0.8992\n",
            "Epoch 2/10\n",
            "46/46 - 3s - loss: 0.2929 - accuracy: 0.9435 - val_loss: 0.7301 - val_accuracy: 0.9101\n",
            "Epoch 3/10\n",
            "46/46 - 3s - loss: 0.3357 - accuracy: 0.9639 - val_loss: 0.5923 - val_accuracy: 0.9264\n",
            "Epoch 4/10\n",
            "46/46 - 3s - loss: 0.1844 - accuracy: 0.9687 - val_loss: 0.7880 - val_accuracy: 0.9155\n",
            "Epoch 5/10\n",
            "46/46 - 3s - loss: 0.1268 - accuracy: 0.9823 - val_loss: 0.3494 - val_accuracy: 0.9537\n",
            "Epoch 6/10\n",
            "46/46 - 3s - loss: 0.0969 - accuracy: 0.9850 - val_loss: 0.7548 - val_accuracy: 0.9237\n",
            "Epoch 7/10\n",
            "46/46 - 3s - loss: 0.0686 - accuracy: 0.9898 - val_loss: 0.5483 - val_accuracy: 0.9401\n",
            "Epoch 00007: early stopping\n",
            "12/12 [==============================] - 1s 60ms/step - loss: 0.5483 - accuracy: 0.9401\n",
            "fold =  1 loss and val_accuracy [0.5483099222183228, 0.9400544762611389]\n",
            "Epoch 1/10\n",
            "46/46 - 19s - loss: 4.6488 - accuracy: 0.6689 - val_loss: 1.0522 - val_accuracy: 0.8529\n",
            "Epoch 2/10\n",
            "46/46 - 4s - loss: 0.3011 - accuracy: 0.9537 - val_loss: 0.5643 - val_accuracy: 0.9046\n",
            "Epoch 3/10\n",
            "46/46 - 4s - loss: 0.0982 - accuracy: 0.9782 - val_loss: 0.6436 - val_accuracy: 0.9101\n",
            "Epoch 4/10\n",
            "46/46 - 4s - loss: 0.0943 - accuracy: 0.9789 - val_loss: 0.6793 - val_accuracy: 0.9101\n",
            "Epoch 5/10\n",
            "46/46 - 4s - loss: 0.0708 - accuracy: 0.9809 - val_loss: 1.0494 - val_accuracy: 0.8638\n",
            "Epoch 00005: early stopping\n",
            "12/12 [==============================] - 1s 60ms/step - loss: 1.0494 - accuracy: 0.8638\n",
            "fold =  2 loss and val_accuracy [1.0494040250778198, 0.863760232925415]\n",
            "Epoch 1/10\n",
            "46/46 - 19s - loss: 4.8190 - accuracy: 0.6492 - val_loss: 1.3032 - val_accuracy: 0.8229\n",
            "Epoch 2/10\n",
            "46/46 - 4s - loss: 0.4050 - accuracy: 0.9475 - val_loss: 0.7081 - val_accuracy: 0.9155\n",
            "Epoch 3/10\n",
            "46/46 - 4s - loss: 0.1563 - accuracy: 0.9728 - val_loss: 0.4899 - val_accuracy: 0.9373\n",
            "Epoch 4/10\n",
            "46/46 - 4s - loss: 0.0526 - accuracy: 0.9857 - val_loss: 0.6856 - val_accuracy: 0.9210\n",
            "Epoch 5/10\n",
            "46/46 - 4s - loss: 0.0759 - accuracy: 0.9843 - val_loss: 0.5937 - val_accuracy: 0.9101\n",
            "Epoch 00005: early stopping\n",
            "12/12 [==============================] - 1s 62ms/step - loss: 0.5937 - accuracy: 0.9101\n",
            "fold =  3 loss and val_accuracy [0.5937334299087524, 0.9100817441940308]\n",
            "Epoch 1/10\n",
            "46/46 - 19s - loss: 4.9185 - accuracy: 0.6642 - val_loss: 0.8306 - val_accuracy: 0.8883\n",
            "Epoch 2/10\n",
            "46/46 - 4s - loss: 0.3453 - accuracy: 0.9441 - val_loss: 1.4278 - val_accuracy: 0.8447\n",
            "Epoch 3/10\n",
            "46/46 - 4s - loss: 0.1551 - accuracy: 0.9666 - val_loss: 0.7685 - val_accuracy: 0.9237\n",
            "Epoch 4/10\n",
            "46/46 - 4s - loss: 0.1025 - accuracy: 0.9789 - val_loss: 1.0502 - val_accuracy: 0.8883\n",
            "Epoch 5/10\n",
            "46/46 - 4s - loss: 0.1425 - accuracy: 0.9755 - val_loss: 1.2411 - val_accuracy: 0.8774\n",
            "Epoch 00005: early stopping\n",
            "12/12 [==============================] - 1s 62ms/step - loss: 1.2411 - accuracy: 0.8774\n",
            "fold =  4 loss and val_accuracy [1.2410681247711182, 0.8773841857910156]\n",
            "Epoch 1/10\n",
            "46/46 - 19s - loss: 4.5411 - accuracy: 0.6594 - val_loss: 0.4611 - val_accuracy: 0.9210\n",
            "Epoch 2/10\n",
            "46/46 - 4s - loss: 0.2350 - accuracy: 0.9537 - val_loss: 0.4592 - val_accuracy: 0.9155\n",
            "Epoch 3/10\n",
            "46/46 - 4s - loss: 0.1326 - accuracy: 0.9728 - val_loss: 0.4051 - val_accuracy: 0.9482\n",
            "Epoch 4/10\n",
            "46/46 - 4s - loss: 0.1271 - accuracy: 0.9802 - val_loss: 0.3506 - val_accuracy: 0.9455\n",
            "Epoch 5/10\n",
            "46/46 - 4s - loss: 0.0993 - accuracy: 0.9802 - val_loss: 0.5687 - val_accuracy: 0.9210\n",
            "Epoch 00005: early stopping\n",
            "12/12 [==============================] - 1s 63ms/step - loss: 0.5687 - accuracy: 0.9210\n",
            "fold =  5 loss and val_accuracy [0.5687034726142883, 0.9209809303283691]\n"
          ],
          "name": "stdout"
        }
      ]
    },
    {
      "cell_type": "code",
      "metadata": {
        "colab": {
          "base_uri": "https://localhost:8080/"
        },
        "id": "X-_7YaiIJSru",
        "outputId": "ee5c6bf6-068e-4104-9d5d-f1282e15cc90"
      },
      "source": [
        "a=ACCURACY\r\n",
        "a"
      ],
      "execution_count": 28,
      "outputs": [
        {
          "output_type": "execute_result",
          "data": {
            "text/plain": [
              "[0.9400544762611389,\n",
              " 0.863760232925415,\n",
              " 0.9100817441940308,\n",
              " 0.8773841857910156,\n",
              " 0.9209809303283691]"
            ]
          },
          "metadata": {
            "tags": []
          },
          "execution_count": 28
        }
      ]
    },
    {
      "cell_type": "code",
      "metadata": {
        "colab": {
          "base_uri": "https://localhost:8080/"
        },
        "id": "TELgGizVJSru",
        "outputId": "add1f21d-70d7-4a03-e08c-16bb73e04c17"
      },
      "source": [
        "b=LOSS\r\n",
        "b"
      ],
      "execution_count": 39,
      "outputs": [
        {
          "output_type": "execute_result",
          "data": {
            "text/plain": [
              "[0.5483099222183228,\n",
              " 1.0494040250778198,\n",
              " 0.5937334299087524,\n",
              " 1.2410681247711182,\n",
              " 0.5687034726142883]"
            ]
          },
          "metadata": {
            "tags": []
          },
          "execution_count": 39
        }
      ]
    },
    {
      "cell_type": "code",
      "metadata": {
        "id": "N95kgWuSOMkt"
      },
      "source": [
        "# plot the loss\r\n",
        "#plt.plot(a, label='accuracy')\r\n",
        "#plt.plot(b, label='loss')\r\n",
        "#plt.title(\"Model Stats of 5 fold cross validation\")\r\n",
        "#plt.legend()\r\n",
        "#plt.show()\r\n",
        "#plt.savefig('LossVal_loss')\r\n",
        "\r\n"
      ],
      "execution_count": 40,
      "outputs": []
    },
    {
      "cell_type": "code",
      "metadata": {
        "id": "YOaYgu6ISnWF"
      },
      "source": [
        "#%reload_ext tensorboard"
      ],
      "execution_count": 41,
      "outputs": []
    },
    {
      "cell_type": "code",
      "metadata": {
        "id": "imXz0NMLTB2x"
      },
      "source": [
        "#%tensorboard --logdir logs1"
      ],
      "execution_count": 42,
      "outputs": []
    },
    {
      "cell_type": "code",
      "metadata": {
        "id": "42wSke-jTB5W"
      },
      "source": [
        "#%tensorboard --logdir logs2"
      ],
      "execution_count": 43,
      "outputs": []
    },
    {
      "cell_type": "code",
      "metadata": {
        "id": "iUFNiLOwTB8B"
      },
      "source": [
        "#%tensorboard --logdir logs3"
      ],
      "execution_count": 44,
      "outputs": []
    },
    {
      "cell_type": "code",
      "metadata": {
        "id": "8wQaqACZTJEC"
      },
      "source": [
        "#%tensorboard --logdir logs4"
      ],
      "execution_count": 45,
      "outputs": []
    },
    {
      "cell_type": "code",
      "metadata": {
        "id": "sc9j_BVvTJGi"
      },
      "source": [
        "#%tensorboard --logdir logs5"
      ],
      "execution_count": 46,
      "outputs": []
    },
    {
      "cell_type": "code",
      "metadata": {
        "id": "Ka0f6dERTJI3"
      },
      "source": [
        "#from tensorboard import notebook\r\n",
        "#notebook.list() # View open TensorBoard instances"
      ],
      "execution_count": 47,
      "outputs": []
    },
    {
      "cell_type": "code",
      "metadata": {
        "id": "E5rYkokITSeI"
      },
      "source": [
        "#notebook.display(port=6006, height=1000) "
      ],
      "execution_count": 48,
      "outputs": []
    },
    {
      "cell_type": "code",
      "metadata": {
        "id": "tX82yY-rTSg2"
      },
      "source": [
        ""
      ],
      "execution_count": 48,
      "outputs": []
    }
  ]
}