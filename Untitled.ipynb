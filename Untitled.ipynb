{
 "cells": [
  {
   "cell_type": "code",
   "execution_count": 4,
   "metadata": {},
   "outputs": [],
   "source": [
    "from keras.preprocessing.image import ImageDataGenerator\n",
    "from keras.callbacks import EarlyStopping, TensorBoard\n",
    "from keras.preprocessing import image\n",
    "from tensorflow.keras.applications.resnet import ResNet101\n",
    "from keras.layers import *\n",
    "from keras.optimizers import *\n",
    "from keras.models import Model\n",
    "import matplotlib.pyplot as plt\n",
    "import numpy as np\n",
    "import random\n",
    "# import splitfolders\n",
    "import os"
   ]
  },
  {
   "cell_type": "code",
   "execution_count": 5,
   "metadata": {},
   "outputs": [],
   "source": [
    "datadir = 'dataset'\n",
    "categories = os.listdir(datadir)"
   ]
  },
  {
   "cell_type": "code",
   "execution_count": 6,
   "metadata": {},
   "outputs": [
    {
     "data": {
      "text/plain": [
       "30"
      ]
     },
     "execution_count": 6,
     "metadata": {},
     "output_type": "execute_result"
    }
   ],
   "source": [
    "len(categories)"
   ]
  },
  {
   "cell_type": "code",
   "execution_count": 7,
   "metadata": {},
   "outputs": [],
   "source": [
    "data = []\n",
    "for category in categories:\n",
    "  path = os.path.join(datadir, category)\n",
    "  labels = categories.index(category)\n",
    "  for imgpath in os.listdir(path):\n",
    "    imgs = image.load_img(os.path.join(path, imgpath),target_size=(224,224))\n",
    "    data.append((imgs, labels))"
   ]
  },
  {
   "cell_type": "code",
   "execution_count": 8,
   "metadata": {},
   "outputs": [
    {
     "data": {
      "text/plain": [
       "1835"
      ]
     },
     "execution_count": 8,
     "metadata": {},
     "output_type": "execute_result"
    }
   ],
   "source": [
    "len(data)"
   ]
  },
  {
   "cell_type": "code",
   "execution_count": 9,
   "metadata": {},
   "outputs": [],
   "source": [
    "random.shuffle(data)"
   ]
  },
  {
   "cell_type": "code",
   "execution_count": 10,
   "metadata": {},
   "outputs": [],
   "source": [
    "X_img = []\n",
    "y_lab = []\n",
    "for img , label in data:\n",
    "  X_img.append(img)\n",
    "  y_lab.append(label)"
   ]
  },
  {
   "cell_type": "code",
   "execution_count": 11,
   "metadata": {},
   "outputs": [],
   "source": [
    "X_list = [ image.img_to_array(img) for img in X_img]"
   ]
  },
  {
   "cell_type": "code",
   "execution_count": 12,
   "metadata": {},
   "outputs": [],
   "source": [
    "X = np.asarray(X_list)"
   ]
  },
  {
   "cell_type": "code",
   "execution_count": 13,
   "metadata": {},
   "outputs": [
    {
     "data": {
      "text/plain": [
       "(1835, 224, 224, 3)"
      ]
     },
     "execution_count": 13,
     "metadata": {},
     "output_type": "execute_result"
    }
   ],
   "source": [
    "X.shape"
   ]
  },
  {
   "cell_type": "code",
   "execution_count": 14,
   "metadata": {},
   "outputs": [],
   "source": [
    "X /= 255"
   ]
  },
  {
   "cell_type": "code",
   "execution_count": 15,
   "metadata": {},
   "outputs": [],
   "source": [
    "y = np.asarray(y_lab)"
   ]
  },
  {
   "cell_type": "code",
   "execution_count": 16,
   "metadata": {},
   "outputs": [
    {
     "data": {
      "text/plain": [
       "(1835,)"
      ]
     },
     "execution_count": 16,
     "metadata": {},
     "output_type": "execute_result"
    }
   ],
   "source": [
    "y.shape"
   ]
  },
  {
   "cell_type": "code",
   "execution_count": 17,
   "metadata": {},
   "outputs": [],
   "source": [
    "classes = 30\n",
    "batch_size = 32\n",
    "img_height = 224\n",
    "img_width = 224"
   ]
  },
  {
   "cell_type": "code",
   "execution_count": 18,
   "metadata": {},
   "outputs": [],
   "source": [
    "def build_model():\n",
    "\n",
    "  base_model = ResNet101(include_top=False, weights='imagenet', input_shape=(img_height, img_width, 3))\n",
    "\n",
    "  xcp = base_model.output\n",
    "  xcp = GlobalAveragePooling2D()(xcp)\n",
    "  xcp = Dense(1024, activation='relu')(xcp)\n",
    "  predictions = Dense(classes, activation = 'softmax')(xcp)\n",
    "\n",
    "  model = Model(base_model.input, predictions)\n",
    "\n",
    "  for layer in base_model.layers:\n",
    "    layer.trainable = False\n",
    "\n",
    "  return model"
   ]
  },
  {
   "cell_type": "code",
   "execution_count": 19,
   "metadata": {},
   "outputs": [],
   "source": [
    "from sklearn.model_selection import KFold"
   ]
  },
  {
   "cell_type": "code",
   "execution_count": 20,
   "metadata": {},
   "outputs": [],
   "source": [
    "kf = KFold(n_splits=5)"
   ]
  },
  {
   "cell_type": "code",
   "execution_count": null,
   "metadata": {},
   "outputs": [
    {
     "name": "stdout",
     "output_type": "stream",
     "text": [
      "Epoch 1/10\n",
      "WARNING:tensorflow:From C:\\Users\\Vishakha\\anaconda3\\lib\\site-packages\\tensorflow\\python\\ops\\summary_ops_v2.py:1277: stop (from tensorflow.python.eager.profiler) is deprecated and will be removed after 2020-07-01.\n",
      "Instructions for updating:\n",
      "use `tf.profiler.experimental.stop` instead.\n",
      "46/46 - 164s - loss: 3.1199 - accuracy: 0.1533 - val_loss: 2.6991 - val_accuracy: 0.2480\n",
      "Epoch 2/10\n",
      "46/46 - 161s - loss: 2.4884 - accuracy: 0.2868 - val_loss: 2.2988 - val_accuracy: 0.2507\n",
      "Epoch 3/10\n",
      "46/46 - 159s - loss: 2.1186 - accuracy: 0.3672 - val_loss: 2.0487 - val_accuracy: 0.3787\n",
      "Epoch 4/10\n",
      "46/46 - 159s - loss: 1.8477 - accuracy: 0.4898 - val_loss: 1.8202 - val_accuracy: 0.4659\n",
      "Epoch 5/10\n",
      "46/46 - 158s - loss: 1.6640 - accuracy: 0.5232 - val_loss: 1.5864 - val_accuracy: 0.5232\n",
      "Epoch 6/10\n",
      "46/46 - 189s - loss: 1.5027 - accuracy: 0.5749 - val_loss: 1.5684 - val_accuracy: 0.5504\n",
      "Epoch 7/10\n",
      "46/46 - 260s - loss: 1.3891 - accuracy: 0.5790 - val_loss: 1.5040 - val_accuracy: 0.5395\n",
      "Epoch 8/10\n",
      "46/46 - 257s - loss: 1.2814 - accuracy: 0.6328 - val_loss: 1.3834 - val_accuracy: 0.6104\n",
      "Epoch 9/10\n",
      "46/46 - 257s - loss: 1.2121 - accuracy: 0.6458 - val_loss: 1.2728 - val_accuracy: 0.6185\n",
      "Epoch 10/10\n",
      "46/46 - 262s - loss: 1.1533 - accuracy: 0.6580 - val_loss: 1.2430 - val_accuracy: 0.6158\n",
      "Epoch 1/10\n",
      "WARNING:tensorflow:Callbacks method `on_train_batch_end` is slow compared to the batch time (batch time: 4.6235s vs `on_train_batch_end` time: 19.7788s). Check your callbacks.\n",
      "46/46 - 281s - loss: 3.1517 - accuracy: 0.1526 - val_loss: 2.7679 - val_accuracy: 0.2098\n",
      "Epoch 2/10\n",
      "46/46 - 261s - loss: 2.4909 - accuracy: 0.3011 - val_loss: 2.3097 - val_accuracy: 0.2970\n",
      "Epoch 3/10\n"
     ]
    }
   ],
   "source": [
    "VALIDATION_ACCURACY = []\n",
    "VALIDATION_LOSS = []\n",
    "\n",
    "count = 1\n",
    "for train_index, test_index in kf.split(X):\n",
    "\n",
    "  X_train, X_test = X[train_index], X[test_index]\n",
    "  y_train, y_test = y[train_index], y[test_index]\n",
    "\n",
    "  model = build_model()\n",
    "\n",
    "  model.compile(optimizer='adam',\n",
    "              loss='sparse_categorical_crossentropy',\n",
    "              metrics=['accuracy'])\n",
    "  \n",
    "  callbacks = [EarlyStopping(monitor='val_accuracy', patience=2,verbose=1),\n",
    "              TensorBoard(log_dir=f'./logs{count}')\n",
    "             ]\n",
    "\n",
    "  history = model.fit(X_train ,y_train,epochs = 10,batch_size = 32,verbose = 2,callbacks= callbacks ,validation_data=(X_test,y_test))\n",
    "  \n",
    "  # results = model.evaluate(X_test, y_test)  #returns ['loss','accuracy']\n",
    "  # print('fold = ',count, 'loss and accuracy',results)\n",
    "\n",
    "\n",
    "  # VALIDATION_ACCURACY.append(results[1])\n",
    "  # VALIDATION_LOSS.append(results[0])\n",
    "\n",
    "  count += 1\n",
    "  \n",
    " "
   ]
  },
  {
   "cell_type": "code",
   "execution_count": null,
   "metadata": {},
   "outputs": [],
   "source": []
  }
 ],
 "metadata": {
  "kernelspec": {
   "display_name": "Python 3",
   "language": "python",
   "name": "python3"
  },
  "language_info": {
   "codemirror_mode": {
    "name": "ipython",
    "version": 3
   },
   "file_extension": ".py",
   "mimetype": "text/x-python",
   "name": "python",
   "nbconvert_exporter": "python",
   "pygments_lexer": "ipython3",
   "version": "3.8.3"
  }
 },
 "nbformat": 4,
 "nbformat_minor": 4
}
