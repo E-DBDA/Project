{
 "cells": [
  {
   "cell_type": "markdown",
   "metadata": {},
   "source": [
    "# Convolutional Neural Network"
   ]
  },
  {
   "cell_type": "markdown",
   "metadata": {},
   "source": [
    "### Importing the libraries"
   ]
  },
  {
   "cell_type": "code",
   "execution_count": 1,
   "metadata": {},
   "outputs": [],
   "source": [
    "import tensorflow as tf\n",
    "from keras.preprocessing.image import ImageDataGenerator\n",
    "from keras.preprocessing import image_dataset_from_directory\n",
    "from tensorflow import keras\n",
    "from tensorflow.keras import layers"
   ]
  },
  {
   "cell_type": "markdown",
   "metadata": {},
   "source": [
    "tf.__version__"
   ]
  },
  {
   "cell_type": "markdown",
   "metadata": {},
   "source": [
    "## Part 1 - Data Preprocessing"
   ]
  },
  {
   "cell_type": "markdown",
   "metadata": {},
   "source": [
    "### Preprocessing the Training set"
   ]
  },
  {
   "cell_type": "code",
   "execution_count": 2,
   "metadata": {},
   "outputs": [
    {
     "name": "stdout",
     "output_type": "stream",
     "text": [
      "Found 1835 files belonging to 30 classes.\n",
      "Using 1652 files for training.\n"
     ]
    }
   ],
   "source": [
    "training_set = tf.keras.preprocessing.image_dataset_from_directory(\n",
    "    \"Segmented Medicinal Leaf Images\",\n",
    "    labels=\"inferred\",\n",
    "    label_mode= \"categorical\",\n",
    "    class_names=['Alpinia Galanga (Rasna)', \n",
    "                 'Amaranthus Viridis (Arive-Dantu)', \n",
    "                 'Artocarpus Heterophyllus (Jackfruit)', \n",
    "                 'Azadirachta Indica (Neem)', \n",
    "                 'Basella Alba (Basale)', \n",
    "                 'Brassica Juncea (Indian Mustard)', \n",
    "                 'Carissa Carandas (Karanda)', \n",
    "                 'Citrus Limon (Lemon)', \n",
    "                 'Ficus Auriculata (Roxburgh fig)', \n",
    "                 'Ficus Religiosa (Peepal Tree)', \n",
    "                 'Hibiscus Rosa-sinensis', \n",
    "                 'Jasminum (Jasmine)', \n",
    "                 'Mangifera Indica (Mango)', \n",
    "                 'Mentha (Mint)', \n",
    "                 'Moringa Oleifera (Drumstick)', \n",
    "                 'Muntingia Calabura (Jamaica Cherry-Gasagase)', \n",
    "                 'Murraya Koenigii (Curry)', \n",
    "                 'Nerium Oleander (Oleander)', \n",
    "                 'Nyctanthes Arbor-tristis (Parijata)', \n",
    "                 'Ocimum Tenuiflorum (Tulsi)', \n",
    "                 'Piper Betle (Betel)', \n",
    "                 'Plectranthus Amboinicus (Mexican Mint)', \n",
    "                 'Pongamia Pinnata (Indian Beech)', \n",
    "                 'Psidium Guajava (Guava)', \n",
    "                 'Punica Granatum (Pomegranate)', \n",
    "                 'Santalum Album (Sandalwood)', \n",
    "                 'Syzygium Cumini (Jamun)', \n",
    "                 'Syzygium Jambos (Rose Apple)', \n",
    "                 'Tabernaemontana Divaricata (Crape Jasmine)', \n",
    "                 'Trigonella Foenum-graecum (Fenugreek)'],\n",
    "    color_mode=\"rgb\",\n",
    "    batch_size=32,\n",
    "    image_size=(64, 64),\n",
    "    shuffle=True,\n",
    "    seed=45,\n",
    "    validation_split=0.1,\n",
    "    subset=\"training\",\n",
    "    interpolation=\"bilinear\",\n",
    "    follow_links=False,\n",
    ")"
   ]
  },
  {
   "cell_type": "code",
   "execution_count": 3,
   "metadata": {},
   "outputs": [
    {
     "data": {
      "text/plain": [
       "52"
      ]
     },
     "execution_count": 3,
     "metadata": {},
     "output_type": "execute_result"
    }
   ],
   "source": [
    "len(training_set)"
   ]
  },
  {
   "cell_type": "markdown",
   "metadata": {},
   "source": [
    "### Preprocessing the Test set"
   ]
  },
  {
   "cell_type": "code",
   "execution_count": 4,
   "metadata": {},
   "outputs": [
    {
     "name": "stdout",
     "output_type": "stream",
     "text": [
      "Found 1835 files belonging to 30 classes.\n",
      "Using 183 files for validation.\n"
     ]
    }
   ],
   "source": [
    "\n",
    "test_set = tf.keras.preprocessing.image_dataset_from_directory(\n",
    "    \"Segmented Medicinal Leaf Images\",\n",
    "    labels=\"inferred\",\n",
    "    label_mode= \"categorical\",\n",
    "    class_names=['Alpinia Galanga (Rasna)', \n",
    "                 'Amaranthus Viridis (Arive-Dantu)', \n",
    "                 'Artocarpus Heterophyllus (Jackfruit)', \n",
    "                 'Azadirachta Indica (Neem)', \n",
    "                 'Basella Alba (Basale)', \n",
    "                 'Brassica Juncea (Indian Mustard)', \n",
    "                 'Carissa Carandas (Karanda)', \n",
    "                 'Citrus Limon (Lemon)', \n",
    "                 'Ficus Auriculata (Roxburgh fig)', \n",
    "                 'Ficus Religiosa (Peepal Tree)', \n",
    "                 'Hibiscus Rosa-sinensis', \n",
    "                 'Jasminum (Jasmine)', \n",
    "                 'Mangifera Indica (Mango)', \n",
    "                 'Mentha (Mint)', \n",
    "                 'Moringa Oleifera (Drumstick)', \n",
    "                 'Muntingia Calabura (Jamaica Cherry-Gasagase)', \n",
    "                 'Murraya Koenigii (Curry)', \n",
    "                 'Nerium Oleander (Oleander)', \n",
    "                 'Nyctanthes Arbor-tristis (Parijata)', \n",
    "                 'Ocimum Tenuiflorum (Tulsi)', \n",
    "                 'Piper Betle (Betel)', \n",
    "                 'Plectranthus Amboinicus (Mexican Mint)', \n",
    "                 'Pongamia Pinnata (Indian Beech)', \n",
    "                 'Psidium Guajava (Guava)', \n",
    "                 'Punica Granatum (Pomegranate)', \n",
    "                 'Santalum Album (Sandalwood)', \n",
    "                 'Syzygium Cumini (Jamun)', \n",
    "                 'Syzygium Jambos (Rose Apple)', \n",
    "                 'Tabernaemontana Divaricata (Crape Jasmine)', \n",
    "                 'Trigonella Foenum-graecum (Fenugreek)'],\n",
    "    color_mode=\"rgb\",\n",
    "    batch_size=32,\n",
    "    image_size=(64, 64),\n",
    "    shuffle=True,\n",
    "    seed=45,\n",
    "    validation_split=0.1,\n",
    "    subset=\"validation\",\n",
    "    interpolation=\"bilinear\",\n",
    "    follow_links=False,\n",
    ")"
   ]
  },
  {
   "cell_type": "code",
   "execution_count": 5,
   "metadata": {},
   "outputs": [
    {
     "data": {
      "text/plain": [
       "6"
      ]
     },
     "execution_count": 5,
     "metadata": {},
     "output_type": "execute_result"
    }
   ],
   "source": [
    "len(test_set)"
   ]
  },
  {
   "cell_type": "markdown",
   "metadata": {},
   "source": [
    "### Data Augmentation"
   ]
  },
  {
   "cell_type": "code",
   "execution_count": 6,
   "metadata": {},
   "outputs": [],
   "source": [
    "data_augmentation = keras.Sequential(\n",
    "    [\n",
    "        layers.experimental.preprocessing.RandomFlip(\"horizontal\"),\n",
    "        layers.experimental.preprocessing.RandomRotation(0.1),\n",
    "    ]\n",
    ")"
   ]
  },
  {
   "cell_type": "code",
   "execution_count": 7,
   "metadata": {},
   "outputs": [],
   "source": [
    "augmented_test_ds = test_set.map(\n",
    "  lambda x, y: (data_augmentation(x, training=True), y))"
   ]
  },
  {
   "cell_type": "code",
   "execution_count": 8,
   "metadata": {},
   "outputs": [
    {
     "data": {
      "text/plain": [
       "6"
      ]
     },
     "execution_count": 8,
     "metadata": {},
     "output_type": "execute_result"
    }
   ],
   "source": [
    "len(augmented_test_ds)"
   ]
  },
  {
   "cell_type": "code",
   "execution_count": 9,
   "metadata": {},
   "outputs": [],
   "source": [
    "augmented_train_ds = training_set.map(\n",
    "  lambda x, y: (data_augmentation(x, training=True), y))"
   ]
  },
  {
   "cell_type": "code",
   "execution_count": 10,
   "metadata": {},
   "outputs": [
    {
     "data": {
      "text/plain": [
       "52"
      ]
     },
     "execution_count": 10,
     "metadata": {},
     "output_type": "execute_result"
    }
   ],
   "source": [
    "len(augmented_train_ds)"
   ]
  },
  {
   "cell_type": "markdown",
   "metadata": {},
   "source": [
    "## Part 2 - Building the CNN"
   ]
  },
  {
   "cell_type": "markdown",
   "metadata": {},
   "source": [
    "### Initialising the CNN"
   ]
  },
  {
   "cell_type": "code",
   "execution_count": 11,
   "metadata": {},
   "outputs": [],
   "source": [
    "cnn = tf.keras.models.Sequential()"
   ]
  },
  {
   "cell_type": "markdown",
   "metadata": {},
   "source": [
    "### Step 1 - Convolution"
   ]
  },
  {
   "cell_type": "code",
   "execution_count": 12,
   "metadata": {},
   "outputs": [],
   "source": [
    "cnn.add(tf.keras.layers.Conv2D(filters=32, kernel_size=3, activation='relu', input_shape=[64, 64, 3]))"
   ]
  },
  {
   "cell_type": "markdown",
   "metadata": {},
   "source": [
    "### Step 2 - Pooling"
   ]
  },
  {
   "cell_type": "code",
   "execution_count": 13,
   "metadata": {},
   "outputs": [],
   "source": [
    "cnn.add(tf.keras.layers.MaxPool2D(pool_size=2, strides=2))"
   ]
  },
  {
   "cell_type": "markdown",
   "metadata": {},
   "source": [
    "### Adding a second convolutional layer"
   ]
  },
  {
   "cell_type": "code",
   "execution_count": 14,
   "metadata": {},
   "outputs": [],
   "source": [
    "cnn.add(tf.keras.layers.Conv2D(filters=32, kernel_size=3, activation='relu'))\n",
    "cnn.add(tf.keras.layers.MaxPool2D(pool_size=2, strides=2))"
   ]
  },
  {
   "cell_type": "markdown",
   "metadata": {},
   "source": [
    "### Step 3 - Flattening"
   ]
  },
  {
   "cell_type": "code",
   "execution_count": 15,
   "metadata": {},
   "outputs": [],
   "source": [
    "cnn.add(tf.keras.layers.Flatten())"
   ]
  },
  {
   "cell_type": "markdown",
   "metadata": {},
   "source": [
    "### Step 4 - Full Connection"
   ]
  },
  {
   "cell_type": "code",
   "execution_count": 16,
   "metadata": {},
   "outputs": [],
   "source": [
    "cnn.add(tf.keras.layers.Dense(units=128, activation='relu'))"
   ]
  },
  {
   "cell_type": "markdown",
   "metadata": {},
   "source": [
    "### Step 5 - Output Layer"
   ]
  },
  {
   "cell_type": "code",
   "execution_count": 17,
   "metadata": {},
   "outputs": [],
   "source": [
    "cnn.add(tf.keras.layers.Dense(units=30, activation='sigmoid'))"
   ]
  },
  {
   "cell_type": "code",
   "execution_count": 18,
   "metadata": {},
   "outputs": [
    {
     "name": "stdout",
     "output_type": "stream",
     "text": [
      "Model: \"sequential_1\"\n",
      "_________________________________________________________________\n",
      "Layer (type)                 Output Shape              Param #   \n",
      "=================================================================\n",
      "conv2d (Conv2D)              (None, 62, 62, 32)        896       \n",
      "_________________________________________________________________\n",
      "max_pooling2d (MaxPooling2D) (None, 31, 31, 32)        0         \n",
      "_________________________________________________________________\n",
      "conv2d_1 (Conv2D)            (None, 29, 29, 32)        9248      \n",
      "_________________________________________________________________\n",
      "max_pooling2d_1 (MaxPooling2 (None, 14, 14, 32)        0         \n",
      "_________________________________________________________________\n",
      "flatten (Flatten)            (None, 6272)              0         \n",
      "_________________________________________________________________\n",
      "dense (Dense)                (None, 128)               802944    \n",
      "_________________________________________________________________\n",
      "dense_1 (Dense)              (None, 30)                3870      \n",
      "=================================================================\n",
      "Total params: 816,958\n",
      "Trainable params: 816,958\n",
      "Non-trainable params: 0\n",
      "_________________________________________________________________\n"
     ]
    }
   ],
   "source": [
    "cnn.summary()"
   ]
  },
  {
   "cell_type": "markdown",
   "metadata": {},
   "source": [
    "## Part 3 - Training the CNN"
   ]
  },
  {
   "cell_type": "markdown",
   "metadata": {},
   "source": [
    "### Compiling the CNN"
   ]
  },
  {
   "cell_type": "code",
   "execution_count": 19,
   "metadata": {},
   "outputs": [],
   "source": [
    "cnn.compile(optimizer = 'adam', loss = 'binary_crossentropy', metrics = ['accuracy'])"
   ]
  },
  {
   "cell_type": "markdown",
   "metadata": {},
   "source": [
    "### Training the CNN on the Training set and evaluating it on the Test set"
   ]
  },
  {
   "cell_type": "code",
   "execution_count": 20,
   "metadata": {},
   "outputs": [
    {
     "name": "stdout",
     "output_type": "stream",
     "text": [
      "Epoch 1/20\n",
      "52/52 [==============================] - 23s 387ms/step - loss: 7.3977 - accuracy: 0.0564 - val_loss: 0.1541 - val_accuracy: 0.2077\n",
      "Epoch 2/20\n",
      "52/52 [==============================] - 18s 281ms/step - loss: 0.1254 - accuracy: 0.3320 - val_loss: 0.1048 - val_accuracy: 0.4754\n",
      "Epoch 3/20\n",
      "52/52 [==============================] - 13s 223ms/step - loss: 0.0783 - accuracy: 0.6078 - val_loss: 0.0805 - val_accuracy: 0.5683\n",
      "Epoch 4/20\n",
      "52/52 [==============================] - 13s 224ms/step - loss: 0.0474 - accuracy: 0.7899 - val_loss: 0.0751 - val_accuracy: 0.6339\n",
      "Epoch 5/20\n",
      "52/52 [==============================] - 13s 223ms/step - loss: 0.0299 - accuracy: 0.8874 - val_loss: 0.0666 - val_accuracy: 0.7268\n",
      "Epoch 6/20\n",
      "52/52 [==============================] - 13s 224ms/step - loss: 0.0208 - accuracy: 0.9319 - val_loss: 0.0700 - val_accuracy: 0.6721\n",
      "Epoch 7/20\n",
      "52/52 [==============================] - 13s 223ms/step - loss: 0.0132 - accuracy: 0.9732 - val_loss: 0.0738 - val_accuracy: 0.7049\n",
      "Epoch 8/20\n",
      "52/52 [==============================] - 13s 223ms/step - loss: 0.0089 - accuracy: 0.9886 - val_loss: 0.0717 - val_accuracy: 0.7432\n",
      "Epoch 9/20\n",
      "52/52 [==============================] - 13s 223ms/step - loss: 0.0063 - accuracy: 0.9936 - val_loss: 0.0742 - val_accuracy: 0.7432\n",
      "Epoch 10/20\n",
      "52/52 [==============================] - 13s 223ms/step - loss: 0.0047 - accuracy: 0.9943 - val_loss: 0.0805 - val_accuracy: 0.7432\n",
      "Epoch 11/20\n",
      "52/52 [==============================] - 13s 223ms/step - loss: 0.0045 - accuracy: 0.9976 - val_loss: 0.0740 - val_accuracy: 0.7705\n",
      "Epoch 12/20\n",
      "52/52 [==============================] - 13s 232ms/step - loss: 0.0039 - accuracy: 0.9965 - val_loss: 0.0794 - val_accuracy: 0.7596\n",
      "Epoch 13/20\n",
      "52/52 [==============================] - 13s 233ms/step - loss: 0.0026 - accuracy: 0.9987 - val_loss: 0.0833 - val_accuracy: 0.7705\n",
      "Epoch 14/20\n",
      "52/52 [==============================] - 13s 222ms/step - loss: 0.0027 - accuracy: 0.9989 - val_loss: 0.0822 - val_accuracy: 0.7650\n",
      "Epoch 15/20\n",
      "52/52 [==============================] - 13s 224ms/step - loss: 0.0015 - accuracy: 1.0000 - val_loss: 0.0860 - val_accuracy: 0.7541\n",
      "Epoch 16/20\n",
      "52/52 [==============================] - 13s 225ms/step - loss: 0.0011 - accuracy: 1.0000 - val_loss: 0.0883 - val_accuracy: 0.7705\n",
      "Epoch 17/20\n",
      "52/52 [==============================] - 13s 231ms/step - loss: 4.7497e-04 - accuracy: 1.0000 - val_loss: 0.0880 - val_accuracy: 0.7869\n",
      "Epoch 18/20\n",
      "52/52 [==============================] - 13s 228ms/step - loss: 2.3072e-04 - accuracy: 1.0000 - val_loss: 0.0922 - val_accuracy: 0.7869\n",
      "Epoch 19/20\n",
      "52/52 [==============================] - 13s 222ms/step - loss: 1.8377e-04 - accuracy: 1.0000 - val_loss: 0.0958 - val_accuracy: 0.7923\n",
      "Epoch 20/20\n",
      "52/52 [==============================] - 13s 224ms/step - loss: 1.4601e-04 - accuracy: 1.0000 - val_loss: 0.0956 - val_accuracy: 0.7869\n"
     ]
    },
    {
     "data": {
      "text/plain": [
       "<tensorflow.python.keras.callbacks.History at 0x27021c60f10>"
      ]
     },
     "execution_count": 20,
     "metadata": {},
     "output_type": "execute_result"
    }
   ],
   "source": [
    "cnn.fit(x = training_set, validation_data = test_set, epochs = 20)"
   ]
  },
  {
   "cell_type": "markdown",
   "metadata": {},
   "source": [
    "## Part 4 - Making a single prediction"
   ]
  },
  {
   "cell_type": "code",
   "execution_count": 21,
   "metadata": {},
   "outputs": [],
   "source": [
    "img = keras.preprocessing.image.load_img(\n",
    "    \"Segmented Medicinal Leaf Images/Citrus Limon (Lemon)/CL-S-013.jpg\", target_size=(64,64,3)\n",
    ")\n",
    "img_array = keras.preprocessing.image.img_to_array(img)\n",
    "img_array = tf.expand_dims(img_array, 0)  # Create batch axis\n",
    "\n",
    "predictions = cnn.predict(img_array)\n",
    "result = predictions[0]"
   ]
  },
  {
   "cell_type": "raw",
   "metadata": {},
   "source": [
    "result"
   ]
  },
  {
   "cell_type": "code",
   "execution_count": 22,
   "metadata": {},
   "outputs": [],
   "source": [
    "if result[0] == result.max():\n",
    "  prediction = 'Alpinia Galanga (Rasna)'\n",
    "elif result[1] == result.max():\n",
    "    prediction = 'Amaranthus Viridis (Arive-Dantu)'\n",
    "elif result[2] == result.max():\n",
    "    prediction = 'Artocarpus Heterophyllus (Jackfruit)'\n",
    "elif result[3] == result.max():\n",
    "    prediction = 'Azadirachta Indica (Neem)'\n",
    "elif result[4] == result.max():\n",
    "    prediction = 'Basella Alba (Basale)'\n",
    "elif result[5] == result.max():\n",
    "    prediction = 'Brassica Juncea (Indian Mustard)'\n",
    "elif result[6] == result.max():\n",
    "    prediction = 'Carissa Carandas (Karanda)'\n",
    "elif result[7] == result.max():\n",
    "    prediction = 'Citrus Limon (Lemon)'\n",
    "elif result[8] == result.max():\n",
    "    prediction = 'Ficus Auriculata (Roxburgh fig)'\n",
    "elif result[9] == result.max():\n",
    "    prediction = 'Ficus Religiosa (Peepal Tree)'\n",
    "elif result[10] == result.max():\n",
    "    prediction = 'Hibiscus Rosa-sinensis'\n",
    "elif result[11] == result.max():\n",
    "    prediction = 'Jasminum (Jasmine)'\n",
    "elif result[12] == result.max():\n",
    "    prediction = 'Mangifera Indica (Mango)'\n",
    "elif result[12] == result.max():\n",
    "    prediction = 'Mentha (Mint)'\n",
    "elif result[14] == result.max():\n",
    "    prediction = 'Moringa Oleifera (Drumstick)'\n",
    "elif result[15] == result.max():\n",
    "    prediction = 'Muntingia Calabura (Jamaica Cherry-Gasagase)'\n",
    "elif result[16] == result.max():\n",
    "    prediction = 'Murraya Koenigii (Curry)'\n",
    "elif result[17] == result.max():\n",
    "    prediction = 'Nerium Oleander (Oleander)'\n",
    "elif result[18] == result.max():\n",
    "    prediction = 'Nyctanthes Arbor-tristis (Parijata)'\n",
    "elif result[19] == result.max():\n",
    "    prediction = 'Ocimum Tenuiflorum (Tulsi)'\n",
    "elif result[20] == result.max():\n",
    "    prediction = 'Piper Betle (Betel)'\n",
    "elif result[21] == result.max():\n",
    "    prediction = 'Plectranthus Amboinicus (Mexican Mint)'\n",
    "elif result[22] == result.max():\n",
    "    prediction = 'Pongamia Pinnata (Indian Beech)'\n",
    "elif result[23] == result.max():\n",
    "    prediction = 'Psidium Guajava (Guava)'\n",
    "elif result[24] == result.max():\n",
    "    prediction = 'Punica Granatum (Pomegranate)'\n",
    "elif result[25] == result.max():\n",
    "    prediction = 'Santalum Album (Sandalwood)'\n",
    "elif result[26] == result.max():\n",
    "    prediction = 'Syzygium Cumini (Jamun)'\n",
    "elif result[27] == result.max():\n",
    "    prediction = 'Syzygium Jambos (Rose Apple)'\n",
    "elif result[28] == result.max():\n",
    "    prediction = 'Tabernaemontana Divaricata (Crape Jasmine)'\n",
    "else:\n",
    "    prediction = 'Trigonella Foenum-graecum (Fenugreek)'"
   ]
  },
  {
   "cell_type": "code",
   "execution_count": 23,
   "metadata": {},
   "outputs": [
    {
     "name": "stdout",
     "output_type": "stream",
     "text": [
      "Citrus Limon (Lemon)\n"
     ]
    }
   ],
   "source": [
    "print(prediction)"
   ]
  },
  {
   "cell_type": "code",
   "execution_count": null,
   "metadata": {},
   "outputs": [],
   "source": []
  }
 ],
 "metadata": {
  "kernelspec": {
   "display_name": "Python 3",
   "language": "python",
   "name": "python3"
  },
  "language_info": {
   "codemirror_mode": {
    "name": "ipython",
    "version": 3
   },
   "file_extension": ".py",
   "mimetype": "text/x-python",
   "name": "python",
   "nbconvert_exporter": "python",
   "pygments_lexer": "ipython3",
   "version": "3.8.5"
  }
 },
 "nbformat": 4,
 "nbformat_minor": 4
}
