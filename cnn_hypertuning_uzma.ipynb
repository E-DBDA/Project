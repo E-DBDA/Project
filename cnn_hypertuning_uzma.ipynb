{
  "nbformat": 4,
  "nbformat_minor": 0,
  "metadata": {
    "accelerator": "GPU",
    "colab": {
      "name": "cnn_hypertuning.ipynb",
      "provenance": [],
      "collapsed_sections": [],
      "toc_visible": true
    },
    "kernelspec": {
      "display_name": "Python 3",
      "language": "python",
      "name": "python3"
    },
    "language_info": {
      "codemirror_mode": {
        "name": "ipython",
        "version": 3
      },
      "file_extension": ".py",
      "mimetype": "text/x-python",
      "name": "python",
      "nbconvert_exporter": "python",
      "pygments_lexer": "ipython3",
      "version": "3.8.5"
    }
  },
  "cells": [
    {
      "cell_type": "code",
      "metadata": {
        "colab": {
          "base_uri": "https://localhost:8080/"
        },
        "id": "JXyjQI6zEX-Y",
        "outputId": "b4eb44a7-576f-4a9e-8c67-90ede03a9061"
      },
      "source": [
        "!pip install keras-tuner"
      ],
      "execution_count": 2,
      "outputs": [
        {
          "output_type": "stream",
          "text": [
            "Collecting keras-tuner\n",
            "\u001b[?25l  Downloading https://files.pythonhosted.org/packages/20/ec/1ef246787174b1e2bb591c95f29d3c1310070cad877824f907faba3dade9/keras-tuner-1.0.2.tar.gz (62kB)\n",
            "\r\u001b[K     |█████▏                          | 10kB 19.0MB/s eta 0:00:01\r\u001b[K     |██████████▍                     | 20kB 25.1MB/s eta 0:00:01\r\u001b[K     |███████████████▋                | 30kB 23.1MB/s eta 0:00:01\r\u001b[K     |████████████████████▉           | 40kB 26.3MB/s eta 0:00:01\r\u001b[K     |██████████████████████████      | 51kB 25.8MB/s eta 0:00:01\r\u001b[K     |███████████████████████████████▎| 61kB 28.3MB/s eta 0:00:01\r\u001b[K     |████████████████████████████████| 71kB 10.0MB/s \n",
            "\u001b[?25hRequirement already satisfied: packaging in /usr/local/lib/python3.7/dist-packages (from keras-tuner) (20.9)\n",
            "Requirement already satisfied: future in /usr/local/lib/python3.7/dist-packages (from keras-tuner) (0.16.0)\n",
            "Requirement already satisfied: numpy in /usr/local/lib/python3.7/dist-packages (from keras-tuner) (1.19.5)\n",
            "Requirement already satisfied: tabulate in /usr/local/lib/python3.7/dist-packages (from keras-tuner) (0.8.8)\n",
            "Collecting terminaltables\n",
            "  Downloading https://files.pythonhosted.org/packages/9b/c4/4a21174f32f8a7e1104798c445dacdc1d4df86f2f26722767034e4de4bff/terminaltables-3.1.0.tar.gz\n",
            "Collecting colorama\n",
            "  Downloading https://files.pythonhosted.org/packages/44/98/5b86278fbbf250d239ae0ecb724f8572af1c91f4a11edf4d36a206189440/colorama-0.4.4-py2.py3-none-any.whl\n",
            "Requirement already satisfied: tqdm in /usr/local/lib/python3.7/dist-packages (from keras-tuner) (4.41.1)\n",
            "Requirement already satisfied: requests in /usr/local/lib/python3.7/dist-packages (from keras-tuner) (2.23.0)\n",
            "Requirement already satisfied: scipy in /usr/local/lib/python3.7/dist-packages (from keras-tuner) (1.4.1)\n",
            "Requirement already satisfied: scikit-learn in /usr/local/lib/python3.7/dist-packages (from keras-tuner) (0.22.2.post1)\n",
            "Requirement already satisfied: pyparsing>=2.0.2 in /usr/local/lib/python3.7/dist-packages (from packaging->keras-tuner) (2.4.7)\n",
            "Requirement already satisfied: certifi>=2017.4.17 in /usr/local/lib/python3.7/dist-packages (from requests->keras-tuner) (2020.12.5)\n",
            "Requirement already satisfied: urllib3!=1.25.0,!=1.25.1,<1.26,>=1.21.1 in /usr/local/lib/python3.7/dist-packages (from requests->keras-tuner) (1.24.3)\n",
            "Requirement already satisfied: idna<3,>=2.5 in /usr/local/lib/python3.7/dist-packages (from requests->keras-tuner) (2.10)\n",
            "Requirement already satisfied: chardet<4,>=3.0.2 in /usr/local/lib/python3.7/dist-packages (from requests->keras-tuner) (3.0.4)\n",
            "Requirement already satisfied: joblib>=0.11 in /usr/local/lib/python3.7/dist-packages (from scikit-learn->keras-tuner) (1.0.1)\n",
            "Building wheels for collected packages: keras-tuner, terminaltables\n",
            "  Building wheel for keras-tuner (setup.py) ... \u001b[?25l\u001b[?25hdone\n",
            "  Created wheel for keras-tuner: filename=keras_tuner-1.0.2-cp37-none-any.whl size=78938 sha256=393bb7d5a3ebbe084c330f26853a97c1c90ef3dbb542a48a892f1996ce1fff20\n",
            "  Stored in directory: /root/.cache/pip/wheels/bb/a1/8a/7c3de0efb3707a1701b36ebbfdbc4e67aedf6d4943a1f463d6\n",
            "  Building wheel for terminaltables (setup.py) ... \u001b[?25l\u001b[?25hdone\n",
            "  Created wheel for terminaltables: filename=terminaltables-3.1.0-cp37-none-any.whl size=15356 sha256=954103cc9f86da5917de6455ee3667785db736de398e2e960948aa3efe1f2b4d\n",
            "  Stored in directory: /root/.cache/pip/wheels/30/6b/50/6c75775b681fb36cdfac7f19799888ef9d8813aff9e379663e\n",
            "Successfully built keras-tuner terminaltables\n",
            "Installing collected packages: terminaltables, colorama, keras-tuner\n",
            "Successfully installed colorama-0.4.4 keras-tuner-1.0.2 terminaltables-3.1.0\n"
          ],
          "name": "stdout"
        }
      ]
    },
    {
      "cell_type": "code",
      "metadata": {
        "colab": {
          "base_uri": "https://localhost:8080/"
        },
        "id": "5huK06NtvKZA",
        "outputId": "a34df116-d716-49e4-9041-6b2b2be47903"
      },
      "source": [
        "from google.colab import drive\n",
        "drive.mount('/content/drive')"
      ],
      "execution_count": 1,
      "outputs": [
        {
          "output_type": "stream",
          "text": [
            "Mounted at /content/drive\n"
          ],
          "name": "stdout"
        }
      ]
    },
    {
      "cell_type": "code",
      "metadata": {
        "id": "DuzijEdjs1Ll"
      },
      "source": [
        "from keras.layers import Conv2D, MaxPool2D, Flatten, Dense, Activation, Dropout\n",
        "from sklearn.model_selection import train_test_split\n",
        "from keras.callbacks import EarlyStopping\n",
        "from keras.optimizers import Adam, SGD\n",
        "from keras.preprocessing import image\n",
        "from keras.models import Sequential\n",
        "from kerastuner import RandomSearch\n",
        "import matplotlib.pyplot as plt\n",
        "from tensorflow import keras\n",
        "import tensorflow as tf\n",
        "import numpy as np\n",
        "import random\n",
        "import os"
      ],
      "execution_count": 3,
      "outputs": []
    },
    {
      "cell_type": "code",
      "metadata": {
        "colab": {
          "base_uri": "https://localhost:8080/"
        },
        "id": "nue6lSQREt2L",
        "outputId": "80e5a406-66dc-46b6-8413-220b27fb6cfb"
      },
      "source": [
        "print(tf.__version__)\n",
        "print(keras.__version__)"
      ],
      "execution_count": 4,
      "outputs": [
        {
          "output_type": "stream",
          "text": [
            "2.4.1\n",
            "2.4.0\n"
          ],
          "name": "stdout"
        }
      ]
    },
    {
      "cell_type": "markdown",
      "metadata": {
        "id": "z5WEIwxyOmzM"
      },
      "source": [
        "## Reading whole image data into the program to perform hyperparameter optimization"
      ]
    },
    {
      "cell_type": "code",
      "metadata": {
        "id": "Io1GLClTtCFC"
      },
      "source": [
        "datadir = '/content/drive/MyDrive/Project/Segmented Medicinal Leaf Images'\n",
        "categories = os.listdir(datadir)"
      ],
      "execution_count": 6,
      "outputs": []
    },
    {
      "cell_type": "code",
      "metadata": {
        "colab": {
          "base_uri": "https://localhost:8080/"
        },
        "id": "NuJVxCBot-E6",
        "outputId": "52e828d2-b3c7-492b-b1c4-e4b74345947e"
      },
      "source": [
        "len(categories)"
      ],
      "execution_count": 7,
      "outputs": [
        {
          "output_type": "execute_result",
          "data": {
            "text/plain": [
              "30"
            ]
          },
          "metadata": {
            "tags": []
          },
          "execution_count": 7
        }
      ]
    },
    {
      "cell_type": "code",
      "metadata": {
        "id": "X0zsTZAit_fx"
      },
      "source": [
        "data = []\n",
        "for category in categories:\n",
        "  path = os.path.join(datadir, category)\n",
        "  labels = categories.index(category)\n",
        "  for imgpath in os.listdir(path):\n",
        "    imgs = image.load_img(os.path.join(path, imgpath),target_size=(120,160))\n",
        "    data.append((imgs, labels))"
      ],
      "execution_count": 8,
      "outputs": []
    },
    {
      "cell_type": "code",
      "metadata": {
        "colab": {
          "base_uri": "https://localhost:8080/",
          "height": 136
        },
        "id": "pW4NdHMvvV27",
        "outputId": "c4674e06-5d08-4c12-ebbc-c705c07b2e44"
      },
      "source": [
        "data[45][0]"
      ],
      "execution_count": 9,
      "outputs": [
        {
          "output_type": "execute_result",
          "data": {
            "image/png": "[encoded data removed]",
            "text/plain": [
              "<PIL.Image.Image image mode=RGB size=160x120 at 0x7FBA35507FD0>"
            ]
          },
          "metadata": {
            "tags": []
          },
          "execution_count": 9
        }
      ]
    },
    {
      "cell_type": "code",
      "metadata": {
        "colab": {
          "base_uri": "https://localhost:8080/"
        },
        "id": "whEvToEz0WFj",
        "outputId": "c0304968-63f2-4e2d-bdad-f60167490aaa"
      },
      "source": [
        "len(data)"
      ],
      "execution_count": 10,
      "outputs": [
        {
          "output_type": "execute_result",
          "data": {
            "text/plain": [
              "1835"
            ]
          },
          "metadata": {
            "tags": []
          },
          "execution_count": 10
        }
      ]
    },
    {
      "cell_type": "code",
      "metadata": {
        "id": "aw6v2XdV0cN6"
      },
      "source": [
        "random.shuffle(data)"
      ],
      "execution_count": 11,
      "outputs": []
    },
    {
      "cell_type": "code",
      "metadata": {
        "id": "nTo4vS7G0s9C"
      },
      "source": [
        "# data"
      ],
      "execution_count": null,
      "outputs": []
    },
    {
      "cell_type": "code",
      "metadata": {
        "id": "dEAXjQEb0vNL"
      },
      "source": [
        "X_img = []\n",
        "y_lab = []\n",
        "for img , label in data:\n",
        "  X_img.append(img)\n",
        "  y_lab.append(label)"
      ],
      "execution_count": 12,
      "outputs": []
    },
    {
      "cell_type": "code",
      "metadata": {
        "id": "3TVIVZEDppRH"
      },
      "source": [
        ""
      ],
      "execution_count": null,
      "outputs": []
    },
    {
      "cell_type": "code",
      "metadata": {
        "id": "2lhLYCHS1BkM"
      },
      "source": [
        "X_list = [ image.img_to_array(img) for img in X_img]"
      ],
      "execution_count": 13,
      "outputs": []
    },
    {
      "cell_type": "code",
      "metadata": {
        "id": "1Q-EIXVH1Uzz"
      },
      "source": [
        "X = np.asarray(X_list)\n"
      ],
      "execution_count": 14,
      "outputs": []
    },
    {
      "cell_type": "code",
      "metadata": {
        "colab": {
          "base_uri": "https://localhost:8080/"
        },
        "id": "62GpQnEA1her",
        "outputId": "c35f25a5-0f72-4d64-ff0b-c31015be1831"
      },
      "source": [
        "X.shape"
      ],
      "execution_count": 15,
      "outputs": [
        {
          "output_type": "execute_result",
          "data": {
            "text/plain": [
              "(1835, 120, 160, 3)"
            ]
          },
          "metadata": {
            "tags": []
          },
          "execution_count": 15
        }
      ]
    },
    {
      "cell_type": "code",
      "metadata": {
        "id": "BzEdXYTF1i28"
      },
      "source": [
        "X /= 255"
      ],
      "execution_count": 16,
      "outputs": []
    },
    {
      "cell_type": "code",
      "metadata": {
        "colab": {
          "base_uri": "https://localhost:8080/",
          "height": 240
        },
        "id": "UpSJgsvJ1m2z",
        "outputId": "728eaeea-50ca-43fe-8152-21ca3907e4be"
      },
      "source": [
        "plt.figure(figsize=(5,5))\n",
        "plt.imshow(X[170])\n",
        "plt.axis('off')\n",
        "plt.show()"
      ],
      "execution_count": 17,
      "outputs": [
        {
          "output_type": "display_data",
          "data": {
            "image/png": "[encoded data removed]",
            "text/plain": [
              "<Figure size 360x360 with 1 Axes>"
            ]
          },
          "metadata": {
            "tags": [],
            "needs_background": "light"
          }
        }
      ]
    },
    {
      "cell_type": "code",
      "metadata": {
        "id": "o8QI27_o17Nb"
      },
      "source": [
        "y = np.asarray(y_lab)"
      ],
      "execution_count": 18,
      "outputs": []
    },
    {
      "cell_type": "code",
      "metadata": {
        "colab": {
          "base_uri": "https://localhost:8080/"
        },
        "id": "0kMJuu982JsE",
        "outputId": "ee42f72e-8b97-4940-f19c-a08800db7785"
      },
      "source": [
        "y.shape"
      ],
      "execution_count": 19,
      "outputs": [
        {
          "output_type": "execute_result",
          "data": {
            "text/plain": [
              "(1835,)"
            ]
          },
          "metadata": {
            "tags": []
          },
          "execution_count": 19
        }
      ]
    },
    {
      "cell_type": "code",
      "metadata": {
        "id": "CUNjT2sM2LFj"
      },
      "source": [
        "xtrain, xtest, ytrain, ytest = train_test_split(X, y, test_size = 0.3, random_state=42)"
      ],
      "execution_count": 20,
      "outputs": []
    },
    {
      "cell_type": "code",
      "metadata": {
        "colab": {
          "base_uri": "https://localhost:8080/"
        },
        "id": "CcW-CprJrEL0",
        "outputId": "542b320e-2c0e-4997-ac7f-c6ff677e59a9"
      },
      "source": [
        "xtrain.shape"
      ],
      "execution_count": 21,
      "outputs": [
        {
          "output_type": "execute_result",
          "data": {
            "text/plain": [
              "(1284, 120, 160, 3)"
            ]
          },
          "metadata": {
            "tags": []
          },
          "execution_count": 21
        }
      ]
    },
    {
      "cell_type": "code",
      "metadata": {
        "id": "rT2XLOadeAIc"
      },
      "source": [
        "def build_model(hp):\n",
        "  model = Sequential()\n",
        "\n",
        "  model.add(Conv2D(filters = hp.Int('conv_1_filters',         #input layer\n",
        "                              min_value = 32, \n",
        "                              max_value = 128, \n",
        "                              step = 16),\n",
        "             kernel_size = hp.Choice('conv_1_kernel', values = [3,5]),\n",
        "             activation='relu',\n",
        "             input_shape = (120,160,3)))\n",
        "  \n",
        "  model.add(Conv2D(filters = hp.Int('filters_1', \n",
        "                              min_value = 32, \n",
        "                              max_value = 128, \n",
        "                              step = 16),\n",
        "             kernel_size = hp.Choice('kernel_1', values = [3,5]),\n",
        "             activation='relu'\n",
        "      ))\n",
        "  \n",
        "  model.add(MaxPool2D(pool_size=(2,2)))\n",
        "  model.add(Dropout(0.2))\n",
        "\n",
        "  model.add(Conv2D(filters = hp.Int('filters_2', \n",
        "                              min_value = 32, \n",
        "                              max_value = 128, \n",
        "                              step = 16),\n",
        "             kernel_size = hp.Choice('kernel_2', values = [3,5]),\n",
        "             activation='relu'\n",
        "      ))\n",
        "  \n",
        "  model.add(MaxPool2D(pool_size=(2,2)))\n",
        "  model.add(Dropout(0.2))\n",
        "\n",
        "  model.add(Conv2D(filters = hp.Int('filters_3', \n",
        "                              min_value = 32, \n",
        "                              max_value = 128, \n",
        "                              step = 16),\n",
        "             kernel_size = hp.Choice('kernel_3', values = [3,5]),\n",
        "             activation='relu'\n",
        "      ))\n",
        "  \n",
        "  model.add(MaxPool2D(pool_size=(2,2)))\n",
        "  model.add(Dropout(0.2))\n",
        "  \n",
        "  model.add(Flatten())\n",
        "\n",
        "  model.add(Dense(units=hp.Int('units',\n",
        "                  min_value=32,\n",
        "                  max_value=256,\n",
        "                  step=32),\n",
        "                  activation='sigmoid'))\n",
        "  \n",
        "  model.add(Dropout(0.2))\n",
        "  \n",
        "  model.add(Dense(30, activation='softmax'))                  #output layer\n",
        "  \n",
        "  model.compile(optimizer = Adam(hp.Choice('learning_rate', values=[0.01,0.001,0.0001])),\n",
        "                  loss = 'sparse_categorical_crossentropy',\n",
        "                  metrics = ['accuracy'])\n",
        "  return model   \n"
      ],
      "execution_count": 22,
      "outputs": []
    },
    {
      "cell_type": "markdown",
      "metadata": {
        "id": "Ax-IrZ_UO8LT"
      },
      "source": [
        "## Hyper tuning using keras tuner"
      ]
    },
    {
      "cell_type": "code",
      "metadata": {
        "id": "akfTnV1EFjMR"
      },
      "source": [
        "tuner = RandomSearch(build_model,\n",
        "                    objective='val_accuracy',\n",
        "                    max_trials=5,\n",
        "                    executions_per_trial=3 ,\n",
        "                    directory = 'output_cnn',\n",
        "                    project_name = 'medicinal plant identification cnn100')"
      ],
      "execution_count": 23,
      "outputs": []
    },
    {
      "cell_type": "code",
      "metadata": {
        "colab": {
          "base_uri": "https://localhost:8080/"
        },
        "id": "L2kVDpKHzrYq",
        "outputId": "1ea04eb6-4c78-4557-f6f4-61a5b75c9b99"
      },
      "source": [
        "tuner.search_space_summary()"
      ],
      "execution_count": 24,
      "outputs": [
        {
          "output_type": "stream",
          "text": [
            "Search space summary\n",
            "Default search space size: 10\n",
            "conv_1_filters (Int)\n",
            "{'default': None, 'conditions': [], 'min_value': 32, 'max_value': 128, 'step': 16, 'sampling': None}\n",
            "conv_1_kernel (Choice)\n",
            "{'default': 3, 'conditions': [], 'values': [3, 5], 'ordered': True}\n",
            "filters_1 (Int)\n",
            "{'default': None, 'conditions': [], 'min_value': 32, 'max_value': 128, 'step': 16, 'sampling': None}\n",
            "kernel_1 (Choice)\n",
            "{'default': 3, 'conditions': [], 'values': [3, 5], 'ordered': True}\n",
            "filters_2 (Int)\n",
            "{'default': None, 'conditions': [], 'min_value': 32, 'max_value': 128, 'step': 16, 'sampling': None}\n",
            "kernel_2 (Choice)\n",
            "{'default': 3, 'conditions': [], 'values': [3, 5], 'ordered': True}\n",
            "filters_3 (Int)\n",
            "{'default': None, 'conditions': [], 'min_value': 32, 'max_value': 128, 'step': 16, 'sampling': None}\n",
            "kernel_3 (Choice)\n",
            "{'default': 3, 'conditions': [], 'values': [3, 5], 'ordered': True}\n",
            "units (Int)\n",
            "{'default': None, 'conditions': [], 'min_value': 32, 'max_value': 256, 'step': 32, 'sampling': None}\n",
            "learning_rate (Choice)\n",
            "{'default': 0.01, 'conditions': [], 'values': [0.01, 0.001, 0.0001], 'ordered': True}\n"
          ],
          "name": "stdout"
        }
      ]
    },
    {
      "cell_type": "code",
      "metadata": {
        "colab": {
          "base_uri": "https://localhost:8080/"
        },
        "id": "-yRBs5g9FjJT",
        "outputId": "2ed7b719-8c6d-4bce-8e7d-567d3c8f8815"
      },
      "source": [
        "tuner.search(xtrain,ytrain,\n",
        "             epochs=10,\n",
        "             validation_data=(xtest,ytest),\n",
        "            #  callbacks=[tf.keras.callbacks.EarlyStopping(monitor=\"val_loss\",patience=2, verbose=1)]\n",
        "             )"
      ],
      "execution_count": 25,
      "outputs": [
        {
          "output_type": "stream",
          "text": [
            "Trial 5 Complete [00h 01m 55s]\n",
            "val_accuracy: 0.06533575057983398\n",
            "\n",
            "Best val_accuracy So Far: 0.7840290466944376\n",
            "Total elapsed time: 00h 09m 46s\n",
            "INFO:tensorflow:Oracle triggered exit\n"
          ],
          "name": "stdout"
        }
      ]
    },
    {
      "cell_type": "markdown",
      "metadata": {
        "id": "DaSI3BLfPstv"
      },
      "source": [
        "### Best parameters we got :"
      ]
    },
    {
      "cell_type": "code",
      "metadata": {
        "colab": {
          "base_uri": "https://localhost:8080/"
        },
        "id": "RbzXoGqw2eb2",
        "outputId": "97b6825d-a7c5-4f29-b071-72b364b0ecf9"
      },
      "source": [
        "tuner.results_summary()"
      ],
      "execution_count": 26,
      "outputs": [
        {
          "output_type": "stream",
          "text": [
            "Results summary\n",
            "Results in output_cnn/medicinal plant identification cnn100\n",
            "Showing 10 best trials\n",
            "Objective(name='val_accuracy', direction='max')\n",
            "Trial summary\n",
            "Hyperparameters:\n",
            "conv_1_filters: 32\n",
            "conv_1_kernel: 5\n",
            "filters_1: 96\n",
            "kernel_1: 3\n",
            "filters_2: 64\n",
            "kernel_2: 3\n",
            "filters_3: 48\n",
            "kernel_3: 5\n",
            "units: 160\n",
            "learning_rate: 0.001\n",
            "Score: 0.7840290466944376\n",
            "Trial summary\n",
            "Hyperparameters:\n",
            "conv_1_filters: 64\n",
            "conv_1_kernel: 3\n",
            "filters_1: 112\n",
            "kernel_1: 3\n",
            "filters_2: 80\n",
            "kernel_2: 3\n",
            "filters_3: 128\n",
            "kernel_3: 5\n",
            "units: 256\n",
            "learning_rate: 0.001\n",
            "Score: 0.7664851943651835\n",
            "Trial summary\n",
            "Hyperparameters:\n",
            "conv_1_filters: 80\n",
            "conv_1_kernel: 3\n",
            "filters_1: 80\n",
            "kernel_1: 3\n",
            "filters_2: 112\n",
            "kernel_2: 3\n",
            "filters_3: 64\n",
            "kernel_3: 3\n",
            "units: 96\n",
            "learning_rate: 0.0001\n",
            "Score: 0.4658197263876597\n",
            "Trial summary\n",
            "Hyperparameters:\n",
            "conv_1_filters: 128\n",
            "conv_1_kernel: 5\n",
            "filters_1: 96\n",
            "kernel_1: 3\n",
            "filters_2: 96\n",
            "kernel_2: 3\n",
            "filters_3: 32\n",
            "kernel_3: 3\n",
            "units: 32\n",
            "learning_rate: 0.0001\n",
            "Score: 0.3424077332019806\n",
            "Trial summary\n",
            "Hyperparameters:\n",
            "conv_1_filters: 64\n",
            "conv_1_kernel: 5\n",
            "filters_1: 112\n",
            "kernel_1: 3\n",
            "filters_2: 64\n",
            "kernel_2: 3\n",
            "filters_3: 112\n",
            "kernel_3: 3\n",
            "units: 128\n",
            "learning_rate: 0.01\n",
            "Score: 0.06533575057983398\n"
          ],
          "name": "stdout"
        }
      ]
    },
    {
      "cell_type": "code",
      "metadata": {
        "id": "-Vr8ElpmFjGW"
      },
      "source": [
        "model = tuner.get_best_models(num_models=1)[0]"
      ],
      "execution_count": 27,
      "outputs": []
    },
    {
      "cell_type": "code",
      "metadata": {
        "colab": {
          "base_uri": "https://localhost:8080/"
        },
        "id": "2rnT3U_5NW1I",
        "outputId": "6e9536eb-0637-45d6-9b18-a70532b09e78"
      },
      "source": [
        "model.summary()"
      ],
      "execution_count": 28,
      "outputs": [
        {
          "output_type": "stream",
          "text": [
            "Model: \"sequential\"\n",
            "_________________________________________________________________\n",
            "Layer (type)                 Output Shape              Param #   \n",
            "=================================================================\n",
            "conv2d (Conv2D)              (None, 116, 156, 32)      2432      \n",
            "_________________________________________________________________\n",
            "conv2d_1 (Conv2D)            (None, 114, 154, 96)      27744     \n",
            "_________________________________________________________________\n",
            "max_pooling2d (MaxPooling2D) (None, 57, 77, 96)        0         \n",
            "_________________________________________________________________\n",
            "dropout (Dropout)            (None, 57, 77, 96)        0         \n",
            "_________________________________________________________________\n",
            "conv2d_2 (Conv2D)            (None, 55, 75, 64)        55360     \n",
            "_________________________________________________________________\n",
            "max_pooling2d_1 (MaxPooling2 (None, 27, 37, 64)        0         \n",
            "_________________________________________________________________\n",
            "dropout_1 (Dropout)          (None, 27, 37, 64)        0         \n",
            "_________________________________________________________________\n",
            "conv2d_3 (Conv2D)            (None, 23, 33, 48)        76848     \n",
            "_________________________________________________________________\n",
            "max_pooling2d_2 (MaxPooling2 (None, 11, 16, 48)        0         \n",
            "_________________________________________________________________\n",
            "dropout_2 (Dropout)          (None, 11, 16, 48)        0         \n",
            "_________________________________________________________________\n",
            "flatten (Flatten)            (None, 8448)              0         \n",
            "_________________________________________________________________\n",
            "dense (Dense)                (None, 160)               1351840   \n",
            "_________________________________________________________________\n",
            "dropout_3 (Dropout)          (None, 160)               0         \n",
            "_________________________________________________________________\n",
            "dense_1 (Dense)              (None, 30)                4830      \n",
            "=================================================================\n",
            "Total params: 1,519,054\n",
            "Trainable params: 1,519,054\n",
            "Non-trainable params: 0\n",
            "_________________________________________________________________\n"
          ],
          "name": "stdout"
        }
      ]
    },
    {
      "cell_type": "code",
      "metadata": {
        "id": "V8HxJ-d232Ap"
      },
      "source": [
        "callbacks = [tf.keras.callbacks.EarlyStopping(monitor=\"val_loss\",patience=3, verbose=1)]"
      ],
      "execution_count": 29,
      "outputs": []
    },
    {
      "cell_type": "code",
      "metadata": {
        "colab": {
          "base_uri": "https://localhost:8080/"
        },
        "id": "jVRrKAX6NWyl",
        "outputId": "c809fb7a-baf4-414d-e564-442670da0d5b"
      },
      "source": [
        "model.fit(xtrain, ytrain, epochs=50,batch_size=128, validation_split=0.1, initial_epoch=3, callbacks=callbacks)"
      ],
      "execution_count": 30,
      "outputs": [
        {
          "output_type": "stream",
          "text": [
            "Epoch 4/50\n",
            "10/10 [==============================] - 5s 271ms/step - loss: 0.4243 - accuracy: 0.9174 - val_loss: 0.3983 - val_accuracy: 0.9225\n",
            "Epoch 5/50\n",
            "10/10 [==============================] - 2s 221ms/step - loss: 0.3846 - accuracy: 0.9339 - val_loss: 0.4392 - val_accuracy: 0.8992\n",
            "Epoch 6/50\n",
            "10/10 [==============================] - 2s 222ms/step - loss: 0.3992 - accuracy: 0.9181 - val_loss: 0.4285 - val_accuracy: 0.9225\n",
            "Epoch 7/50\n",
            "10/10 [==============================] - 2s 221ms/step - loss: 0.3689 - accuracy: 0.9391 - val_loss: 0.4721 - val_accuracy: 0.8837\n",
            "Epoch 00007: early stopping\n"
          ],
          "name": "stdout"
        },
        {
          "output_type": "execute_result",
          "data": {
            "text/plain": [
              "<tensorflow.python.keras.callbacks.History at 0x7fb9d365a810>"
            ]
          },
          "metadata": {
            "tags": []
          },
          "execution_count": 30
        }
      ]
    },
    {
      "cell_type": "code",
      "metadata": {
        "colab": {
          "base_uri": "https://localhost:8080/"
        },
        "id": "l-HiX-jeNWwB",
        "outputId": "75d49fe0-e265-4ee9-9619-d228fed8f82b"
      },
      "source": [
        "model.evaluate(xtest,ytest)"
      ],
      "execution_count": 31,
      "outputs": [
        {
          "output_type": "stream",
          "text": [
            "18/18 [==============================] - 0s 21ms/step - loss: 0.7575 - accuracy: 0.7931\n"
          ],
          "name": "stdout"
        },
        {
          "output_type": "execute_result",
          "data": {
            "text/plain": [
              "[0.7575158476829529, 0.7931034564971924]"
            ]
          },
          "metadata": {
            "tags": []
          },
          "execution_count": 31
        }
      ]
    },
    {
      "cell_type": "code",
      "metadata": {
        "colab": {
          "base_uri": "https://localhost:8080/"
        },
        "id": "UrWds2UU8UJk",
        "outputId": "98acb865-ffc1-4c3c-e8fe-727c4c2f6bf6"
      },
      "source": [
        "model.predict_classes(xtest[[123],:])"
      ],
      "execution_count": 32,
      "outputs": [
        {
          "output_type": "stream",
          "text": [
            "/usr/local/lib/python3.7/dist-packages/tensorflow/python/keras/engine/sequential.py:450: UserWarning: `model.predict_classes()` is deprecated and will be removed after 2021-01-01. Please use instead:* `np.argmax(model.predict(x), axis=-1)`,   if your model does multi-class classification   (e.g. if it uses a `softmax` last-layer activation).* `(model.predict(x) > 0.5).astype(\"int32\")`,   if your model does binary classification   (e.g. if it uses a `sigmoid` last-layer activation).\n",
            "  warnings.warn('`model.predict_classes()` is deprecated and '\n"
          ],
          "name": "stderr"
        },
        {
          "output_type": "execute_result",
          "data": {
            "text/plain": [
              "array([26])"
            ]
          },
          "metadata": {
            "tags": []
          },
          "execution_count": 32
        }
      ]
    },
    {
      "cell_type": "code",
      "metadata": {
        "colab": {
          "base_uri": "https://localhost:8080/",
          "height": 240
        },
        "id": "DyvwfSh_nqmm",
        "outputId": "48f71aea-94a7-437d-87d9-1831f084c427"
      },
      "source": [
        "plt.figure(figsize=(5,5))\n",
        "plt.imshow(xtest[123])\n",
        "plt.axis('off')\n",
        "plt.show()"
      ],
      "execution_count": 33,
      "outputs": [
        {
          "output_type": "display_data",
          "data": {
            "image/png": "[encoded data removed]",
            "text/plain": [
              "<Figure size 360x360 with 1 Axes>"
            ]
          },
          "metadata": {
            "tags": [],
            "needs_background": "light"
          }
        }
      ]
    },
    {
      "cell_type": "code",
      "metadata": {
        "colab": {
          "base_uri": "https://localhost:8080/"
        },
        "id": "pFI6prjVpBv-",
        "outputId": "5ee0cebb-648c-471c-e79e-511ded47a10d"
      },
      "source": [
        "ytest[123]"
      ],
      "execution_count": 34,
      "outputs": [
        {
          "output_type": "execute_result",
          "data": {
            "text/plain": [
              "26"
            ]
          },
          "metadata": {
            "tags": []
          },
          "execution_count": 34
        }
      ]
    },
    {
      "cell_type": "code",
      "metadata": {
        "colab": {
          "base_uri": "https://localhost:8080/",
          "height": 35
        },
        "id": "yLMwPnxuoJ3e",
        "outputId": "7d5ab5a5-d6e2-460c-9b94-c683c85ba410"
      },
      "source": [
        "categories[26]"
      ],
      "execution_count": 35,
      "outputs": [
        {
          "output_type": "execute_result",
          "data": {
            "application/vnd.google.colaboratory.intrinsic+json": {
              "type": "string"
            },
            "text/plain": [
              "'Brassica Juncea (Indian Mustard)'"
            ]
          },
          "metadata": {
            "tags": []
          },
          "execution_count": 35
        }
      ]
    },
    {
      "cell_type": "markdown",
      "metadata": {
        "id": "vgolNtAp2JE_"
      },
      "source": [
        "Saving model :"
      ]
    },
    {
      "cell_type": "code",
      "metadata": {
        "id": "zD-jl8zNpGuG"
      },
      "source": [
        "model.save('/content/drive/MyDrive/Project/model.h5')"
      ],
      "execution_count": 37,
      "outputs": []
    },
    {
      "cell_type": "code",
      "metadata": {
        "id": "51RzszAE0ToY"
      },
      "source": [
        ""
      ],
      "execution_count": null,
      "outputs": []
    }
  ]
}