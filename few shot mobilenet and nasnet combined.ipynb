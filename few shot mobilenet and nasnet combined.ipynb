{
 "cells": [
  {
   "cell_type": "markdown",
   "metadata": {},
   "source": [
    "## @author - Hitaskhi Tripathi And Pardeep\n",
    "## Few Shot learning using transfer learning"
   ]
  },
  {
   "cell_type": "markdown",
   "metadata": {},
   "source": [
    "# Data Preprocessing"
   ]
  },
  {
   "cell_type": "code",
   "execution_count": 1,
   "metadata": {},
   "outputs": [],
   "source": [
    "from keras.preprocessing.image import ImageDataGenerator"
   ]
  },
  {
   "cell_type": "markdown",
   "metadata": {},
   "source": [
    "### Preprocessing the Training set\n",
    "#### heavy data agumentation is done here becuase we have very less data to train our model"
   ]
  },
  {
   "cell_type": "code",
   "execution_count": 2,
   "metadata": {},
   "outputs": [
    {
     "name": "stdout",
     "output_type": "stream",
     "text": [
      "Found 150 images belonging to 30 classes.\n"
     ]
    }
   ],
   "source": [
    "train_datagen = ImageDataGenerator(rescale = 1./255,\n",
    "                                   shear_range = 0.2,\n",
    "                                   zoom_range = 0.2,\n",
    "                                   horizontal_flip = True,\n",
    "                                   featurewise_center=False,\n",
    "                                   rotation_range=0.2,\n",
    "                                   width_shift_range=0.2,\n",
    "                                   height_shift_range=0.2,\n",
    "                                   brightness_range=(0.2,1.0),\n",
    "                                   channel_shift_range=0.2,\n",
    "                                   fill_mode=\"nearest\",\n",
    "                                   vertical_flip=True,\n",
    "                                  )                                  \n",
    "training_set = train_datagen.flow_from_directory('few shot/train',\n",
    "                                                 target_size = (224, 224),\n",
    "                                                 batch_size = 32,\n",
    "                                                 class_mode = 'categorical')"
   ]
  },
  {
   "cell_type": "markdown",
   "metadata": {},
   "source": [
    "### Preprocessing the Test set"
   ]
  },
  {
   "cell_type": "code",
   "execution_count": 3,
   "metadata": {},
   "outputs": [
    {
     "name": "stdout",
     "output_type": "stream",
     "text": [
      "Found 1535 images belonging to 30 classes.\n"
     ]
    }
   ],
   "source": [
    "test_datagen = ImageDataGenerator(rescale = 1./255)\n",
    "test_set = test_datagen.flow_from_directory('few shot/test',\n",
    "                                            target_size = (224, 224),\n",
    "                                            batch_size = 32,\n",
    "                                            class_mode = 'categorical')"
   ]
  },
  {
   "cell_type": "markdown",
   "metadata": {},
   "source": [
    "### Preprocessing the val set"
   ]
  },
  {
   "cell_type": "code",
   "execution_count": 4,
   "metadata": {},
   "outputs": [
    {
     "name": "stdout",
     "output_type": "stream",
     "text": [
      "Found 150 images belonging to 30 classes.\n"
     ]
    }
   ],
   "source": [
    "test_datagen = ImageDataGenerator(rescale = 1./255)\n",
    "val_set = test_datagen.flow_from_directory('few shot/val',\n",
    "                                            target_size = (224, 224),\n",
    "                                            batch_size = 32,\n",
    "                                            class_mode = 'categorical')"
   ]
  },
  {
   "cell_type": "markdown",
   "metadata": {},
   "source": [
    "# importing transfer learning model"
   ]
  },
  {
   "cell_type": "code",
   "execution_count": 5,
   "metadata": {},
   "outputs": [],
   "source": [
    "# import necessary library\n",
    "from keras.applications.mobilenet_v2 import MobileNetV2\n",
    "from keras.models import Sequential\n",
    "from keras.layers import *"
   ]
  },
  {
   "cell_type": "code",
   "execution_count": 6,
   "metadata": {},
   "outputs": [],
   "source": [
    "# load and creare a model object\n",
    "v2model = MobileNetV2(input_shape=[224,224,3], weights='imagenet', include_top=False)\n",
    "# model summary\n",
    "#v2model.summary()"
   ]
  },
  {
   "cell_type": "markdown",
   "metadata": {},
   "source": [
    "# preprocessing pre trained model"
   ]
  },
  {
   "cell_type": "code",
   "execution_count": 7,
   "metadata": {},
   "outputs": [],
   "source": [
    "for layer in v2model.layers:\n",
    "    layer.trainable = False"
   ]
  },
  {
   "cell_type": "markdown",
   "metadata": {},
   "source": [
    "## adding layer for flattening the outputs from previous layers"
   ]
  },
  {
   "cell_type": "code",
   "execution_count": 8,
   "metadata": {},
   "outputs": [],
   "source": [
    "x = Flatten()(v2model.output)"
   ]
  },
  {
   "cell_type": "markdown",
   "metadata": {},
   "source": [
    "## adding layer for classification"
   ]
  },
  {
   "cell_type": "code",
   "execution_count": 9,
   "metadata": {},
   "outputs": [],
   "source": [
    "from glob import glob"
   ]
  },
  {
   "cell_type": "code",
   "execution_count": 10,
   "metadata": {},
   "outputs": [],
   "source": [
    "# getting number of output classes\n",
    "#folders = glob('./splitted data/train/*')"
   ]
  },
  {
   "cell_type": "code",
   "execution_count": 11,
   "metadata": {},
   "outputs": [],
   "source": [
    "prediction = Dense(30, activation='softmax')(x)"
   ]
  },
  {
   "cell_type": "code",
   "execution_count": 12,
   "metadata": {},
   "outputs": [],
   "source": [
    "from tensorflow.keras.applications.mobilenet_v2 import preprocess_input\n",
    "from tensorflow.keras.models import Model"
   ]
  },
  {
   "cell_type": "code",
   "execution_count": 13,
   "metadata": {},
   "outputs": [],
   "source": [
    "# create a model object\n",
    "model = Model(inputs=v2model.input, outputs=prediction)"
   ]
  },
  {
   "cell_type": "code",
   "execution_count": 14,
   "metadata": {},
   "outputs": [],
   "source": [
    "#model.summary()"
   ]
  },
  {
   "cell_type": "markdown",
   "metadata": {},
   "source": [
    "# Training the transfer learning model"
   ]
  },
  {
   "cell_type": "markdown",
   "metadata": {},
   "source": [
    "### Compiling the CNN"
   ]
  },
  {
   "cell_type": "code",
   "execution_count": 15,
   "metadata": {},
   "outputs": [],
   "source": [
    "model.compile(optimizer = 'adam', loss = 'CategoricalCrossentropy', metrics = ['accuracy'])"
   ]
  },
  {
   "cell_type": "markdown",
   "metadata": {},
   "source": [
    "### To avoid model to overfitting "
   ]
  },
  {
   "cell_type": "code",
   "execution_count": 16,
   "metadata": {},
   "outputs": [],
   "source": [
    "from keras.callbacks import EarlyStopping"
   ]
  },
  {
   "cell_type": "code",
   "execution_count": 17,
   "metadata": {},
   "outputs": [],
   "source": [
    "earlystop = EarlyStopping(monitor='val_accuracy', patience=5,verbose=2)"
   ]
  },
  {
   "cell_type": "markdown",
   "metadata": {},
   "source": [
    "### Training the CNN on the Training set and evaluating it on the Test set"
   ]
  },
  {
   "cell_type": "code",
   "execution_count": 18,
   "metadata": {},
   "outputs": [
    {
     "name": "stdout",
     "output_type": "stream",
     "text": [
      "Epoch 1/30\n",
      "5/5 [==============================] - 15s 3s/step - loss: 17.0468 - accuracy: 0.0839 - val_loss: 11.6360 - val_accuracy: 0.3733\n",
      "Epoch 2/30\n",
      "5/5 [==============================] - 12s 2s/step - loss: 12.3060 - accuracy: 0.3302 - val_loss: 10.3688 - val_accuracy: 0.3800\n",
      "Epoch 3/30\n",
      "5/5 [==============================] - 12s 3s/step - loss: 9.7657 - accuracy: 0.4946 - val_loss: 7.6104 - val_accuracy: 0.6400\n",
      "Epoch 4/30\n",
      "5/5 [==============================] - 11s 2s/step - loss: 6.5266 - accuracy: 0.6046 - val_loss: 5.5168 - val_accuracy: 0.6667\n",
      "Epoch 5/30\n",
      "5/5 [==============================] - 13s 3s/step - loss: 4.1198 - accuracy: 0.6720 - val_loss: 2.9621 - val_accuracy: 0.7200\n",
      "Epoch 6/30\n",
      "5/5 [==============================] - 13s 3s/step - loss: 2.3137 - accuracy: 0.7436 - val_loss: 1.4962 - val_accuracy: 0.8600\n",
      "Epoch 7/30\n",
      "5/5 [==============================] - 12s 3s/step - loss: 2.6816 - accuracy: 0.8060 - val_loss: 1.8387 - val_accuracy: 0.8267\n",
      "Epoch 8/30\n",
      "5/5 [==============================] - 11s 2s/step - loss: 1.7382 - accuracy: 0.8431 - val_loss: 1.6630 - val_accuracy: 0.8333\n",
      "Epoch 9/30\n",
      "5/5 [==============================] - 11s 2s/step - loss: 2.1199 - accuracy: 0.7992 - val_loss: 2.7217 - val_accuracy: 0.7933\n",
      "Epoch 10/30\n",
      "5/5 [==============================] - 11s 3s/step - loss: 1.5186 - accuracy: 0.8161 - val_loss: 1.0751 - val_accuracy: 0.8667\n",
      "Epoch 11/30\n",
      "5/5 [==============================] - 11s 2s/step - loss: 2.0146 - accuracy: 0.7691 - val_loss: 1.7081 - val_accuracy: 0.8600\n",
      "Epoch 12/30\n",
      "5/5 [==============================] - 11s 2s/step - loss: 1.1246 - accuracy: 0.9039 - val_loss: 1.6605 - val_accuracy: 0.8733\n",
      "Epoch 13/30\n",
      "5/5 [==============================] - 11s 2s/step - loss: 1.1239 - accuracy: 0.8229 - val_loss: 2.6778 - val_accuracy: 0.7933\n",
      "Epoch 14/30\n",
      "5/5 [==============================] - 11s 2s/step - loss: 1.2670 - accuracy: 0.8972 - val_loss: 1.5831 - val_accuracy: 0.8733\n",
      "Epoch 15/30\n",
      "5/5 [==============================] - 11s 2s/step - loss: 0.9284 - accuracy: 0.8774 - val_loss: 1.0448 - val_accuracy: 0.8800\n",
      "Epoch 16/30\n",
      "5/5 [==============================] - 11s 3s/step - loss: 0.4363 - accuracy: 0.9254 - val_loss: 1.5388 - val_accuracy: 0.8733\n",
      "Epoch 17/30\n",
      "5/5 [==============================] - 11s 2s/step - loss: 1.0126 - accuracy: 0.9290 - val_loss: 2.5937 - val_accuracy: 0.8200\n",
      "Epoch 18/30\n",
      "5/5 [==============================] - 11s 2s/step - loss: 1.1365 - accuracy: 0.8622 - val_loss: 2.5982 - val_accuracy: 0.8200\n",
      "Epoch 19/30\n",
      "5/5 [==============================] - 11s 2s/step - loss: 0.5926 - accuracy: 0.9179 - val_loss: 3.1773 - val_accuracy: 0.7867\n",
      "Epoch 20/30\n",
      "5/5 [==============================] - 10s 2s/step - loss: 1.6745 - accuracy: 0.8816 - val_loss: 1.9199 - val_accuracy: 0.8400\n",
      "Epoch 00020: early stopping\n"
     ]
    }
   ],
   "source": [
    "a= model.fit(training_set, validation_data = val_set,callbacks= earlystop,epochs = 30)"
   ]
  },
  {
   "cell_type": "markdown",
   "metadata": {},
   "source": [
    "### accuracy and losses"
   ]
  },
  {
   "cell_type": "code",
   "execution_count": 19,
   "metadata": {},
   "outputs": [
    {
     "name": "stdout",
     "output_type": "stream",
     "text": [
      "48/48 - 42s - loss: 2.4894 - accuracy: 0.8026\n",
      "Test accuracy:  0.8026058673858643\n"
     ]
    }
   ],
   "source": [
    "test_loss, test_acc =model.evaluate(test_set,verbose = 2)\n",
    "print(\"Test accuracy: \",test_acc)"
   ]
  },
  {
   "cell_type": "code",
   "execution_count": 20,
   "metadata": {},
   "outputs": [
    {
     "name": "stdout",
     "output_type": "stream",
     "text": [
      "Test loss:  2.48935866355896\n"
     ]
    }
   ],
   "source": [
    "print(\"Test loss: \",test_loss)"
   ]
  },
  {
   "cell_type": "code",
   "execution_count": 21,
   "metadata": {},
   "outputs": [],
   "source": [
    "import matplotlib.pyplot as plt"
   ]
  },
  {
   "cell_type": "code",
   "execution_count": 22,
   "metadata": {},
   "outputs": [
    {
     "data": {
      "image/png": "[encoded data removed]",
      "text/plain": [
       "<Figure size 432x288 with 1 Axes>"
      ]
     },
     "metadata": {
      "needs_background": "light"
     },
     "output_type": "display_data"
    },
    {
     "data": {
      "image/png": "[encoded data removed]",
      "text/plain": [
       "<Figure size 432x288 with 1 Axes>"
      ]
     },
     "metadata": {
      "needs_background": "light"
     },
     "output_type": "display_data"
    }
   ],
   "source": [
    "# plot the loss\n",
    "plt.plot(a.history['loss'], label='train loss')\n",
    "plt.plot(a.history['val_loss'], label='val loss')\n",
    "plt.title('val_loss') \n",
    "plt.legend()\n",
    "plt.show()\n",
    "#plt.savefig('LossVal_loss')\n",
    "\n",
    "# plot the accuracy\n",
    "plt.plot(a.history['accuracy'], label='train acc')\n",
    "plt.plot(a.history['val_accuracy'], label='val acc')\n",
    "plt.title('val_accuracy') \n",
    "plt.legend()\n",
    "plt.show()\n",
    "#plt.savefig('AccVal_acc')"
   ]
  },
  {
   "cell_type": "markdown",
   "metadata": {},
   "source": [
    "# Using nasnetmobile again training the few shot data"
   ]
  },
  {
   "cell_type": "code",
   "execution_count": 23,
   "metadata": {},
   "outputs": [],
   "source": [
    "# import necessary library\n",
    "from keras.models import Sequential\n",
    "from keras.layers import *\n",
    "import tensorflow as tf"
   ]
  },
  {
   "cell_type": "markdown",
   "metadata": {},
   "source": [
    "# importing transfer learning model"
   ]
  },
  {
   "cell_type": "code",
   "execution_count": 24,
   "metadata": {},
   "outputs": [],
   "source": [
    "model2 = tf.keras.applications.NASNetMobile(input_shape=(224,224,3), weights='imagenet', include_top=False)"
   ]
  },
  {
   "cell_type": "markdown",
   "metadata": {},
   "source": [
    "# preprocessing pre trained model"
   ]
  },
  {
   "cell_type": "code",
   "execution_count": 25,
   "metadata": {},
   "outputs": [],
   "source": [
    "for layer in model2.layers:\n",
    "    layer.trainable = False"
   ]
  },
  {
   "cell_type": "markdown",
   "metadata": {},
   "source": [
    "## adding layer for flattening the outputs from previous layers"
   ]
  },
  {
   "cell_type": "code",
   "execution_count": 26,
   "metadata": {},
   "outputs": [],
   "source": [
    "y = Flatten()(model2.output)"
   ]
  },
  {
   "cell_type": "markdown",
   "metadata": {},
   "source": [
    "## adding layer for classification"
   ]
  },
  {
   "cell_type": "code",
   "execution_count": 27,
   "metadata": {},
   "outputs": [],
   "source": [
    "prediction2 = Dense(30, activation='softmax')(y)"
   ]
  },
  {
   "cell_type": "code",
   "execution_count": 28,
   "metadata": {},
   "outputs": [],
   "source": [
    "# create a model object\n",
    "modeln2 = Model(inputs=model2.input, outputs=prediction2)"
   ]
  },
  {
   "cell_type": "markdown",
   "metadata": {},
   "source": [
    "# Training the transfer learning model"
   ]
  },
  {
   "cell_type": "code",
   "execution_count": 29,
   "metadata": {},
   "outputs": [],
   "source": [
    "modeln2.compile(optimizer = 'adam', loss = 'CategoricalCrossentropy', metrics = ['accuracy'])"
   ]
  },
  {
   "cell_type": "code",
   "execution_count": 30,
   "metadata": {},
   "outputs": [
    {
     "name": "stdout",
     "output_type": "stream",
     "text": [
      "Epoch 1/30\n",
      "5/5 [==============================] - 26s 4s/step - loss: 13.1125 - accuracy: 0.0602 - val_loss: 7.6267 - val_accuracy: 0.3200\n",
      "Epoch 2/30\n",
      "5/5 [==============================] - 12s 3s/step - loss: 7.5150 - accuracy: 0.3121 - val_loss: 5.6521 - val_accuracy: 0.4067\n",
      "Epoch 3/30\n",
      "5/5 [==============================] - 12s 3s/step - loss: 5.4372 - accuracy: 0.4699 - val_loss: 5.2453 - val_accuracy: 0.5200\n",
      "Epoch 4/30\n",
      "5/5 [==============================] - 12s 3s/step - loss: 4.2585 - accuracy: 0.5947 - val_loss: 3.7170 - val_accuracy: 0.5800\n",
      "Epoch 5/30\n",
      "5/5 [==============================] - 12s 3s/step - loss: 3.1065 - accuracy: 0.6579 - val_loss: 3.9124 - val_accuracy: 0.6267\n",
      "Epoch 6/30\n",
      "5/5 [==============================] - 12s 3s/step - loss: 3.3746 - accuracy: 0.6555 - val_loss: 2.7126 - val_accuracy: 0.6933\n",
      "Epoch 7/30\n",
      "5/5 [==============================] - 13s 3s/step - loss: 2.5653 - accuracy: 0.6722 - val_loss: 3.4572 - val_accuracy: 0.6400\n",
      "Epoch 8/30\n",
      "5/5 [==============================] - 12s 3s/step - loss: 2.5974 - accuracy: 0.7099 - val_loss: 2.8133 - val_accuracy: 0.7133\n",
      "Epoch 9/30\n",
      "5/5 [==============================] - 12s 3s/step - loss: 2.1918 - accuracy: 0.7335 - val_loss: 2.7469 - val_accuracy: 0.7200\n",
      "Epoch 10/30\n",
      "5/5 [==============================] - 12s 3s/step - loss: 1.7840 - accuracy: 0.8045 - val_loss: 2.1474 - val_accuracy: 0.7133\n",
      "Epoch 11/30\n",
      "5/5 [==============================] - 12s 3s/step - loss: 1.3277 - accuracy: 0.8413 - val_loss: 3.2923 - val_accuracy: 0.6600\n",
      "Epoch 12/30\n",
      "5/5 [==============================] - 12s 3s/step - loss: 1.1257 - accuracy: 0.8096 - val_loss: 2.5978 - val_accuracy: 0.7200\n",
      "Epoch 13/30\n",
      "5/5 [==============================] - 12s 3s/step - loss: 1.4837 - accuracy: 0.8261 - val_loss: 2.4153 - val_accuracy: 0.7400\n",
      "Epoch 14/30\n",
      "5/5 [==============================] - 12s 3s/step - loss: 1.2769 - accuracy: 0.8533 - val_loss: 1.7343 - val_accuracy: 0.8067\n",
      "Epoch 15/30\n",
      "5/5 [==============================] - 12s 3s/step - loss: 1.6153 - accuracy: 0.8525 - val_loss: 2.1700 - val_accuracy: 0.7667\n",
      "Epoch 16/30\n",
      "5/5 [==============================] - 12s 3s/step - loss: 1.2041 - accuracy: 0.8542 - val_loss: 2.1503 - val_accuracy: 0.7600\n",
      "Epoch 17/30\n",
      "5/5 [==============================] - 12s 3s/step - loss: 1.0556 - accuracy: 0.8643 - val_loss: 2.3673 - val_accuracy: 0.7400\n",
      "Epoch 18/30\n",
      "5/5 [==============================] - 12s 3s/step - loss: 0.4604 - accuracy: 0.9342 - val_loss: 2.6093 - val_accuracy: 0.6733\n",
      "Epoch 19/30\n",
      "5/5 [==============================] - 13s 3s/step - loss: 1.6114 - accuracy: 0.8979 - val_loss: 2.2631 - val_accuracy: 0.7333\n",
      "Epoch 00019: early stopping\n"
     ]
    }
   ],
   "source": [
    "b= modeln2.fit(training_set, validation_data = val_set,callbacks= earlystop,epochs = 30)"
   ]
  },
  {
   "cell_type": "markdown",
   "metadata": {},
   "source": [
    "### accuracy and losses"
   ]
  },
  {
   "cell_type": "code",
   "execution_count": 31,
   "metadata": {},
   "outputs": [
    {
     "name": "stdout",
     "output_type": "stream",
     "text": [
      "48/48 - 60s - loss: 2.0886 - accuracy: 0.7681\n",
      "Test accuracy:  0.7680781483650208\n"
     ]
    }
   ],
   "source": [
    "test_loss, test_acc =modeln2.evaluate(test_set,verbose = 2)\n",
    "print(\"Test accuracy: \",test_acc)"
   ]
  },
  {
   "cell_type": "code",
   "execution_count": 32,
   "metadata": {},
   "outputs": [
    {
     "name": "stdout",
     "output_type": "stream",
     "text": [
      "Test loss:  2.088552236557007\n"
     ]
    }
   ],
   "source": [
    "print(\"Test loss: \",test_loss)"
   ]
  },
  {
   "cell_type": "code",
   "execution_count": 33,
   "metadata": {},
   "outputs": [
    {
     "data": {
      "image/png": "[encoded data removed]",
      "text/plain": [
       "<Figure size 432x288 with 1 Axes>"
      ]
     },
     "metadata": {
      "needs_background": "light"
     },
     "output_type": "display_data"
    },
    {
     "data": {
      "image/png": "[encoded data removed]",
      "text/plain": [
       "<Figure size 432x288 with 1 Axes>"
      ]
     },
     "metadata": {
      "needs_background": "light"
     },
     "output_type": "display_data"
    }
   ],
   "source": [
    "# plot the loss\n",
    "plt.plot(b.history['loss'], label='train loss')\n",
    "plt.plot(b.history['val_loss'], label='val loss')\n",
    "plt.title('val_loss') \n",
    "plt.legend()\n",
    "plt.show()\n",
    "#plt.savefig('LossVal_loss')\n",
    "\n",
    "# plot the accuracy\n",
    "plt.plot(b.history['accuracy'], label='train acc')\n",
    "plt.plot(b.history['val_accuracy'], label='val acc')\n",
    "plt.title('val_accuracy') \n",
    "plt.legend()\n",
    "plt.show()\n",
    "#plt.savefig('AccVal_acc')"
   ]
  }
 ],
 "metadata": {
  "kernelspec": {
   "display_name": "Python 3",
   "language": "python",
   "name": "python3"
  },
  "language_info": {
   "codemirror_mode": {
    "name": "ipython",
    "version": 3
   },
   "file_extension": ".py",
   "mimetype": "text/x-python",
   "name": "python",
   "nbconvert_exporter": "python",
   "pygments_lexer": "ipython3",
   "version": "3.8.5"
  }
 },
 "nbformat": 4,
 "nbformat_minor": 4
}
