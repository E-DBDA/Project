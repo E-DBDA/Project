{
 "cells": [
  {
   "cell_type": "markdown",
   "metadata": {},
   "source": [
    "# @author - Pardeep"
   ]
  },
  {
   "cell_type": "markdown",
   "metadata": {},
   "source": [
    "# transfer learning model using vgg16"
   ]
  },
  {
   "cell_type": "markdown",
   "metadata": {},
   "source": [
    "# importing transfer learning model"
   ]
  },
  {
   "cell_type": "code",
   "execution_count": 1,
   "metadata": {},
   "outputs": [
    {
     "name": "stdout",
     "output_type": "stream",
     "text": [
      "Model: \"vgg16\"\n",
      "_________________________________________________________________\n",
      "Layer (type)                 Output Shape              Param #   \n",
      "=================================================================\n",
      "input_1 (InputLayer)         [(None, 224, 224, 3)]     0         \n",
      "_________________________________________________________________\n",
      "block1_conv1 (Conv2D)        (None, 224, 224, 64)      1792      \n",
      "_________________________________________________________________\n",
      "block1_conv2 (Conv2D)        (None, 224, 224, 64)      36928     \n",
      "_________________________________________________________________\n",
      "block1_pool (MaxPooling2D)   (None, 112, 112, 64)      0         \n",
      "_________________________________________________________________\n",
      "block2_conv1 (Conv2D)        (None, 112, 112, 128)     73856     \n",
      "_________________________________________________________________\n",
      "block2_conv2 (Conv2D)        (None, 112, 112, 128)     147584    \n",
      "_________________________________________________________________\n",
      "block2_pool (MaxPooling2D)   (None, 56, 56, 128)       0         \n",
      "_________________________________________________________________\n",
      "block3_conv1 (Conv2D)        (None, 56, 56, 256)       295168    \n",
      "_________________________________________________________________\n",
      "block3_conv2 (Conv2D)        (None, 56, 56, 256)       590080    \n",
      "_________________________________________________________________\n",
      "block3_conv3 (Conv2D)        (None, 56, 56, 256)       590080    \n",
      "_________________________________________________________________\n",
      "block3_pool (MaxPooling2D)   (None, 28, 28, 256)       0         \n",
      "_________________________________________________________________\n",
      "block4_conv1 (Conv2D)        (None, 28, 28, 512)       1180160   \n",
      "_________________________________________________________________\n",
      "block4_conv2 (Conv2D)        (None, 28, 28, 512)       2359808   \n",
      "_________________________________________________________________\n",
      "block4_conv3 (Conv2D)        (None, 28, 28, 512)       2359808   \n",
      "_________________________________________________________________\n",
      "block4_pool (MaxPooling2D)   (None, 14, 14, 512)       0         \n",
      "_________________________________________________________________\n",
      "block5_conv1 (Conv2D)        (None, 14, 14, 512)       2359808   \n",
      "_________________________________________________________________\n",
      "block5_conv2 (Conv2D)        (None, 14, 14, 512)       2359808   \n",
      "_________________________________________________________________\n",
      "block5_conv3 (Conv2D)        (None, 14, 14, 512)       2359808   \n",
      "_________________________________________________________________\n",
      "block5_pool (MaxPooling2D)   (None, 7, 7, 512)         0         \n",
      "_________________________________________________________________\n",
      "flatten (Flatten)            (None, 25088)             0         \n",
      "_________________________________________________________________\n",
      "fc1 (Dense)                  (None, 4096)              102764544 \n",
      "_________________________________________________________________\n",
      "fc2 (Dense)                  (None, 4096)              16781312  \n",
      "_________________________________________________________________\n",
      "predictions (Dense)          (None, 1000)              4097000   \n",
      "=================================================================\n",
      "Total params: 138,357,544\n",
      "Trainable params: 138,357,544\n",
      "Non-trainable params: 0\n",
      "_________________________________________________________________\n"
     ]
    }
   ],
   "source": [
    "# import necessary library\n",
    "from keras.applications.vgg16 import VGG16\n",
    "from keras.models import Sequential\n",
    "from keras.layers import Dense\n",
    "# load and creare a model object\n",
    "vggmodel = VGG16()\n",
    "# create model summary\n",
    "vggmodel.summary()"
   ]
  },
  {
   "cell_type": "markdown",
   "metadata": {},
   "source": [
    "# preprocessing pre trained model"
   ]
  },
  {
   "cell_type": "code",
   "execution_count": 2,
   "metadata": {},
   "outputs": [
    {
     "data": {
      "text/plain": [
       "tensorflow.python.keras.engine.functional.Functional"
      ]
     },
     "execution_count": 2,
     "metadata": {},
     "output_type": "execute_result"
    }
   ],
   "source": [
    "# checking type of the model wheater it is sequential or functional\n",
    "type(vggmodel)"
   ]
  },
  {
   "cell_type": "code",
   "execution_count": 3,
   "metadata": {},
   "outputs": [],
   "source": [
    "# convert functional model to sequential\n",
    "vggmodelse = Sequential()"
   ]
  },
  {
   "cell_type": "code",
   "execution_count": 4,
   "metadata": {},
   "outputs": [],
   "source": [
    "# removing last layer for modification to use in our program\n",
    "for layer in vggmodel.layers[:-1]:\n",
    "    vggmodelse.add(layer)"
   ]
  },
  {
   "cell_type": "code",
   "execution_count": 5,
   "metadata": {},
   "outputs": [
    {
     "data": {
      "text/plain": [
       "tensorflow.python.keras.engine.sequential.Sequential"
      ]
     },
     "execution_count": 5,
     "metadata": {},
     "output_type": "execute_result"
    }
   ],
   "source": [
    "# again checking the model type\n",
    "type(vggmodelse)"
   ]
  },
  {
   "cell_type": "code",
   "execution_count": 6,
   "metadata": {},
   "outputs": [
    {
     "name": "stdout",
     "output_type": "stream",
     "text": [
      "Model: \"sequential\"\n",
      "_________________________________________________________________\n",
      "Layer (type)                 Output Shape              Param #   \n",
      "=================================================================\n",
      "block1_conv1 (Conv2D)        (None, 224, 224, 64)      1792      \n",
      "_________________________________________________________________\n",
      "block1_conv2 (Conv2D)        (None, 224, 224, 64)      36928     \n",
      "_________________________________________________________________\n",
      "block1_pool (MaxPooling2D)   (None, 112, 112, 64)      0         \n",
      "_________________________________________________________________\n",
      "block2_conv1 (Conv2D)        (None, 112, 112, 128)     73856     \n",
      "_________________________________________________________________\n",
      "block2_conv2 (Conv2D)        (None, 112, 112, 128)     147584    \n",
      "_________________________________________________________________\n",
      "block2_pool (MaxPooling2D)   (None, 56, 56, 128)       0         \n",
      "_________________________________________________________________\n",
      "block3_conv1 (Conv2D)        (None, 56, 56, 256)       295168    \n",
      "_________________________________________________________________\n",
      "block3_conv2 (Conv2D)        (None, 56, 56, 256)       590080    \n",
      "_________________________________________________________________\n",
      "block3_conv3 (Conv2D)        (None, 56, 56, 256)       590080    \n",
      "_________________________________________________________________\n",
      "block3_pool (MaxPooling2D)   (None, 28, 28, 256)       0         \n",
      "_________________________________________________________________\n",
      "block4_conv1 (Conv2D)        (None, 28, 28, 512)       1180160   \n",
      "_________________________________________________________________\n",
      "block4_conv2 (Conv2D)        (None, 28, 28, 512)       2359808   \n",
      "_________________________________________________________________\n",
      "block4_conv3 (Conv2D)        (None, 28, 28, 512)       2359808   \n",
      "_________________________________________________________________\n",
      "block4_pool (MaxPooling2D)   (None, 14, 14, 512)       0         \n",
      "_________________________________________________________________\n",
      "block5_conv1 (Conv2D)        (None, 14, 14, 512)       2359808   \n",
      "_________________________________________________________________\n",
      "block5_conv2 (Conv2D)        (None, 14, 14, 512)       2359808   \n",
      "_________________________________________________________________\n",
      "block5_conv3 (Conv2D)        (None, 14, 14, 512)       2359808   \n",
      "_________________________________________________________________\n",
      "block5_pool (MaxPooling2D)   (None, 7, 7, 512)         0         \n",
      "_________________________________________________________________\n",
      "flatten (Flatten)            (None, 25088)             0         \n",
      "_________________________________________________________________\n",
      "fc1 (Dense)                  (None, 4096)              102764544 \n",
      "_________________________________________________________________\n",
      "fc2 (Dense)                  (None, 4096)              16781312  \n",
      "=================================================================\n",
      "Total params: 134,260,544\n",
      "Trainable params: 134,260,544\n",
      "Non-trainable params: 0\n",
      "_________________________________________________________________\n"
     ]
    }
   ],
   "source": [
    "# checking summary of newly created sequential model\n",
    "vggmodelse.summary()"
   ]
  },
  {
   "cell_type": "code",
   "execution_count": 7,
   "metadata": {},
   "outputs": [],
   "source": [
    "# setting pretrained layers as they should not be trained again\n",
    "for layer in vggmodelse.layers:\n",
    "    layer.trainable=False"
   ]
  },
  {
   "cell_type": "markdown",
   "metadata": {},
   "source": [
    "# adding last layer for classification"
   ]
  },
  {
   "cell_type": "code",
   "execution_count": 8,
   "metadata": {},
   "outputs": [],
   "source": [
    "# adding last layer for catogorical sepration\n",
    "vggmodelse.add(Dense(units=30, activation='sigmoid'))"
   ]
  },
  {
   "cell_type": "code",
   "execution_count": 9,
   "metadata": {},
   "outputs": [
    {
     "name": "stdout",
     "output_type": "stream",
     "text": [
      "Model: \"sequential\"\n",
      "_________________________________________________________________\n",
      "Layer (type)                 Output Shape              Param #   \n",
      "=================================================================\n",
      "block1_conv1 (Conv2D)        (None, 224, 224, 64)      1792      \n",
      "_________________________________________________________________\n",
      "block1_conv2 (Conv2D)        (None, 224, 224, 64)      36928     \n",
      "_________________________________________________________________\n",
      "block1_pool (MaxPooling2D)   (None, 112, 112, 64)      0         \n",
      "_________________________________________________________________\n",
      "block2_conv1 (Conv2D)        (None, 112, 112, 128)     73856     \n",
      "_________________________________________________________________\n",
      "block2_conv2 (Conv2D)        (None, 112, 112, 128)     147584    \n",
      "_________________________________________________________________\n",
      "block2_pool (MaxPooling2D)   (None, 56, 56, 128)       0         \n",
      "_________________________________________________________________\n",
      "block3_conv1 (Conv2D)        (None, 56, 56, 256)       295168    \n",
      "_________________________________________________________________\n",
      "block3_conv2 (Conv2D)        (None, 56, 56, 256)       590080    \n",
      "_________________________________________________________________\n",
      "block3_conv3 (Conv2D)        (None, 56, 56, 256)       590080    \n",
      "_________________________________________________________________\n",
      "block3_pool (MaxPooling2D)   (None, 28, 28, 256)       0         \n",
      "_________________________________________________________________\n",
      "block4_conv1 (Conv2D)        (None, 28, 28, 512)       1180160   \n",
      "_________________________________________________________________\n",
      "block4_conv2 (Conv2D)        (None, 28, 28, 512)       2359808   \n",
      "_________________________________________________________________\n",
      "block4_conv3 (Conv2D)        (None, 28, 28, 512)       2359808   \n",
      "_________________________________________________________________\n",
      "block4_pool (MaxPooling2D)   (None, 14, 14, 512)       0         \n",
      "_________________________________________________________________\n",
      "block5_conv1 (Conv2D)        (None, 14, 14, 512)       2359808   \n",
      "_________________________________________________________________\n",
      "block5_conv2 (Conv2D)        (None, 14, 14, 512)       2359808   \n",
      "_________________________________________________________________\n",
      "block5_conv3 (Conv2D)        (None, 14, 14, 512)       2359808   \n",
      "_________________________________________________________________\n",
      "block5_pool (MaxPooling2D)   (None, 7, 7, 512)         0         \n",
      "_________________________________________________________________\n",
      "flatten (Flatten)            (None, 25088)             0         \n",
      "_________________________________________________________________\n",
      "fc1 (Dense)                  (None, 4096)              102764544 \n",
      "_________________________________________________________________\n",
      "fc2 (Dense)                  (None, 4096)              16781312  \n",
      "_________________________________________________________________\n",
      "dense (Dense)                (None, 30)                122910    \n",
      "=================================================================\n",
      "Total params: 134,383,454\n",
      "Trainable params: 122,910\n",
      "Non-trainable params: 134,260,544\n",
      "_________________________________________________________________\n"
     ]
    }
   ],
   "source": [
    "vggmodelse.summary()"
   ]
  },
  {
   "cell_type": "markdown",
   "metadata": {},
   "source": [
    "# Data Preprocessing"
   ]
  },
  {
   "cell_type": "code",
   "execution_count": 10,
   "metadata": {},
   "outputs": [],
   "source": [
    "import tensorflow as tf\n",
    "from keras.preprocessing import image_dataset_from_directory"
   ]
  },
  {
   "cell_type": "markdown",
   "metadata": {},
   "source": [
    "### Preprocessing the Training set"
   ]
  },
  {
   "cell_type": "code",
   "execution_count": 11,
   "metadata": {},
   "outputs": [
    {
     "name": "stdout",
     "output_type": "stream",
     "text": [
      "Found 1835 files belonging to 30 classes.\n",
      "Using 1652 files for training.\n"
     ]
    }
   ],
   "source": [
    "training_set = tf.keras.preprocessing.image_dataset_from_directory(\n",
    "    \"Segmented Medicinal Leaf Images\",\n",
    "    labels=\"inferred\",\n",
    "    label_mode= \"categorical\",\n",
    "    class_names=None,\n",
    "    color_mode=\"rgb\",\n",
    "    batch_size=32,\n",
    "    image_size=(224, 224),\n",
    "    shuffle=True,\n",
    "    seed=45,\n",
    "    validation_split=0.1,\n",
    "    subset=\"training\",\n",
    "    interpolation=\"bilinear\",\n",
    "    follow_links=False,\n",
    ")"
   ]
  },
  {
   "cell_type": "markdown",
   "metadata": {},
   "source": [
    "### Preprocessing the Test set"
   ]
  },
  {
   "cell_type": "code",
   "execution_count": 12,
   "metadata": {},
   "outputs": [
    {
     "name": "stdout",
     "output_type": "stream",
     "text": [
      "Found 1835 files belonging to 30 classes.\n",
      "Using 183 files for validation.\n"
     ]
    }
   ],
   "source": [
    "\n",
    "test_set = tf.keras.preprocessing.image_dataset_from_directory(\n",
    "    \"Segmented Medicinal Leaf Images\",\n",
    "    labels=\"inferred\",\n",
    "    label_mode= \"categorical\",\n",
    "    class_names=None,\n",
    "    color_mode=\"rgb\",\n",
    "    batch_size=32,\n",
    "    image_size=(224, 224),\n",
    "    shuffle=True,\n",
    "    seed=45,\n",
    "    validation_split=0.1,\n",
    "    subset=\"validation\",\n",
    "    interpolation=\"bilinear\",\n",
    "    follow_links=False,\n",
    ")"
   ]
  },
  {
   "cell_type": "markdown",
   "metadata": {},
   "source": [
    "# Training the CNN"
   ]
  },
  {
   "cell_type": "markdown",
   "metadata": {},
   "source": [
    "### Compiling the CNN"
   ]
  },
  {
   "cell_type": "code",
   "execution_count": 13,
   "metadata": {},
   "outputs": [],
   "source": [
    "vggmodelse.compile(optimizer = 'adam', loss = 'binary_crossentropy', metrics = ['accuracy'])"
   ]
  },
  {
   "cell_type": "markdown",
   "metadata": {},
   "source": [
    "### Training the CNN on the Training set and evaluating it on the Test set"
   ]
  },
  {
   "cell_type": "code",
   "execution_count": 14,
   "metadata": {},
   "outputs": [
    {
     "name": "stdout",
     "output_type": "stream",
     "text": [
      "Epoch 1/20\n",
      "52/52 [==============================] - 148s 3s/step - loss: 0.2344 - accuracy: 0.2939 - val_loss: 0.0377 - val_accuracy: 0.8634\n",
      "Epoch 2/20\n",
      "52/52 [==============================] - 151s 3s/step - loss: 0.0283 - accuracy: 0.9008 - val_loss: 0.0281 - val_accuracy: 0.8798\n",
      "Epoch 3/20\n",
      "52/52 [==============================] - 150s 3s/step - loss: 0.0165 - accuracy: 0.9558 - val_loss: 0.0190 - val_accuracy: 0.9399\n",
      "Epoch 4/20\n",
      "52/52 [==============================] - 151s 3s/step - loss: 0.0111 - accuracy: 0.9849 - val_loss: 0.0170 - val_accuracy: 0.9399\n",
      "Epoch 5/20\n",
      "52/52 [==============================] - 151s 3s/step - loss: 0.0085 - accuracy: 0.9898 - val_loss: 0.0161 - val_accuracy: 0.9344\n",
      "Epoch 6/20\n",
      "52/52 [==============================] - 152s 3s/step - loss: 0.0064 - accuracy: 0.9932 - val_loss: 0.0141 - val_accuracy: 0.9344\n",
      "Epoch 7/20\n",
      "52/52 [==============================] - 151s 3s/step - loss: 0.0050 - accuracy: 0.9989 - val_loss: 0.0129 - val_accuracy: 0.9563\n",
      "Epoch 8/20\n",
      "52/52 [==============================] - 151s 3s/step - loss: 0.0043 - accuracy: 0.9994 - val_loss: 0.0132 - val_accuracy: 0.9617\n",
      "Epoch 9/20\n",
      "52/52 [==============================] - 150s 3s/step - loss: 0.0033 - accuracy: 1.0000 - val_loss: 0.0125 - val_accuracy: 0.9563\n",
      "Epoch 10/20\n",
      "52/52 [==============================] - 151s 3s/step - loss: 0.0029 - accuracy: 0.9996 - val_loss: 0.0119 - val_accuracy: 0.9617\n",
      "Epoch 11/20\n",
      "52/52 [==============================] - 151s 3s/step - loss: 0.0024 - accuracy: 0.9995 - val_loss: 0.0118 - val_accuracy: 0.9508\n",
      "Epoch 12/20\n",
      "52/52 [==============================] - 151s 3s/step - loss: 0.0021 - accuracy: 1.0000 - val_loss: 0.0116 - val_accuracy: 0.9563\n",
      "Epoch 13/20\n",
      "52/52 [==============================] - 152s 3s/step - loss: 0.0019 - accuracy: 1.0000 - val_loss: 0.0109 - val_accuracy: 0.9727\n",
      "Epoch 14/20\n",
      "52/52 [==============================] - 153s 3s/step - loss: 0.0018 - accuracy: 1.0000 - val_loss: 0.0113 - val_accuracy: 0.9617\n",
      "Epoch 15/20\n",
      "52/52 [==============================] - 152s 3s/step - loss: 0.0016 - accuracy: 1.0000 - val_loss: 0.0110 - val_accuracy: 0.9672\n",
      "Epoch 16/20\n",
      "52/52 [==============================] - 152s 3s/step - loss: 0.0013 - accuracy: 1.0000 - val_loss: 0.0108 - val_accuracy: 0.9672\n",
      "Epoch 17/20\n",
      "52/52 [==============================] - 152s 3s/step - loss: 0.0012 - accuracy: 1.0000 - val_loss: 0.0103 - val_accuracy: 0.9672\n",
      "Epoch 18/20\n",
      "52/52 [==============================] - 151s 3s/step - loss: 0.0011 - accuracy: 1.0000 - val_loss: 0.0108 - val_accuracy: 0.9672\n",
      "Epoch 19/20\n",
      "52/52 [==============================] - 152s 3s/step - loss: 0.0010 - accuracy: 1.0000 - val_loss: 0.0102 - val_accuracy: 0.9672\n",
      "Epoch 20/20\n",
      "52/52 [==============================] - 151s 3s/step - loss: 9.2290e-04 - accuracy: 1.0000 - val_loss: 0.0106 - val_accuracy: 0.9617\n"
     ]
    },
    {
     "data": {
      "text/plain": [
       "<tensorflow.python.keras.callbacks.History at 0x164b612f1c0>"
      ]
     },
     "execution_count": 14,
     "metadata": {},
     "output_type": "execute_result"
    }
   ],
   "source": [
    "vggmodelse.fit(x = training_set, validation_data = test_set, epochs = 20)"
   ]
  },
  {
   "cell_type": "code",
   "execution_count": 15,
   "metadata": {},
   "outputs": [],
   "source": [
    "from tensorflow import keras"
   ]
  },
  {
   "cell_type": "markdown",
   "metadata": {},
   "source": [
    "## Part 4 - Making a single prediction"
   ]
  },
  {
   "cell_type": "code",
   "execution_count": 16,
   "metadata": {},
   "outputs": [],
   "source": [
    "img = keras.preprocessing.image.load_img(\n",
    "    \"Segmented Medicinal Leaf Images/Citrus Limon (Lemon)/CL-S-013.jpg\", target_size=(224,224,3)\n",
    ")\n",
    "img_array = keras.preprocessing.image.img_to_array(img)\n",
    "img_array = tf.expand_dims(img_array,0)  # Create batch axis\n",
    "\n",
    "predictions = vggmodelse.predict(img_array)\n",
    "result = predictions[0]"
   ]
  },
  {
   "cell_type": "code",
   "execution_count": 17,
   "metadata": {},
   "outputs": [],
   "source": [
    "if result[0] == result.max():\n",
    "  prediction = 'Alpinia Galanga (Rasna)'\n",
    "elif result[1] == result.max():\n",
    "    prediction = 'Amaranthus Viridis (Arive-Dantu)'\n",
    "elif result[2] == result.max():\n",
    "    prediction = 'Artocarpus Heterophyllus (Jackfruit)'\n",
    "elif result[3] == result.max():\n",
    "    prediction = 'Azadirachta Indica (Neem)'\n",
    "elif result[4] == result.max():\n",
    "    prediction = 'Basella Alba (Basale)'\n",
    "elif result[5] == result.max():\n",
    "    prediction = 'Brassica Juncea (Indian Mustard)'\n",
    "elif result[6] == result.max():\n",
    "    prediction = 'Carissa Carandas (Karanda)'\n",
    "elif result[7] == result.max():\n",
    "    prediction = 'Citrus Limon (Lemon)'\n",
    "elif result[8] == result.max():\n",
    "    prediction = 'Ficus Auriculata (Roxburgh fig)'\n",
    "elif result[9] == result.max():\n",
    "    prediction = 'Ficus Religiosa (Peepal Tree)'\n",
    "elif result[10] == result.max():\n",
    "    prediction = 'Hibiscus Rosa-sinensis'\n",
    "elif result[11] == result.max():\n",
    "    prediction = 'Jasminum (Jasmine)'\n",
    "elif result[12] == result.max():\n",
    "    prediction = 'Mangifera Indica (Mango)'\n",
    "elif result[12] == result.max():\n",
    "    prediction = 'Mentha (Mint)'\n",
    "elif result[14] == result.max():\n",
    "    prediction = 'Moringa Oleifera (Drumstick)'\n",
    "elif result[15] == result.max():\n",
    "    prediction = 'Muntingia Calabura (Jamaica Cherry-Gasagase)'\n",
    "elif result[16] == result.max():\n",
    "    prediction = 'Murraya Koenigii (Curry)'\n",
    "elif result[17] == result.max():\n",
    "    prediction = 'Nerium Oleander (Oleander)'\n",
    "elif result[18] == result.max():\n",
    "    prediction = 'Nyctanthes Arbor-tristis (Parijata)'\n",
    "elif result[19] == result.max():\n",
    "    prediction = 'Ocimum Tenuiflorum (Tulsi)'\n",
    "elif result[20] == result.max():\n",
    "    prediction = 'Piper Betle (Betel)'\n",
    "elif result[21] == result.max():\n",
    "    prediction = 'Plectranthus Amboinicus (Mexican Mint)'\n",
    "elif result[22] == result.max():\n",
    "    prediction = 'Pongamia Pinnata (Indian Beech)'\n",
    "elif result[23] == result.max():\n",
    "    prediction = 'Psidium Guajava (Guava)'\n",
    "elif result[24] == result.max():\n",
    "    prediction = 'Punica Granatum (Pomegranate)'\n",
    "elif result[25] == result.max():\n",
    "    prediction = 'Santalum Album (Sandalwood)'\n",
    "elif result[26] == result.max():\n",
    "    prediction = 'Syzygium Cumini (Jamun)'\n",
    "elif result[27] == result.max():\n",
    "    prediction = 'Syzygium Jambos (Rose Apple)'\n",
    "elif result[28] == result.max():\n",
    "    prediction = 'Tabernaemontana Divaricata (Crape Jasmine)'\n",
    "else:\n",
    "    prediction = 'Trigonella Foenum-graecum (Fenugreek)'"
   ]
  },
  {
   "cell_type": "code",
   "execution_count": 18,
   "metadata": {},
   "outputs": [
    {
     "data": {
      "text/plain": [
       "'Citrus Limon (Lemon)'"
      ]
     },
     "execution_count": 18,
     "metadata": {},
     "output_type": "execute_result"
    }
   ],
   "source": [
    "prediction"
   ]
  },
  {
   "cell_type": "code",
   "execution_count": null,
   "metadata": {},
   "outputs": [],
   "source": []
  }
 ],
 "metadata": {
  "kernelspec": {
   "display_name": "Python 3",
   "language": "python",
   "name": "python3"
  },
  "language_info": {
   "codemirror_mode": {
    "name": "ipython",
    "version": 3
   },
   "file_extension": ".py",
   "mimetype": "text/x-python",
   "name": "python",
   "nbconvert_exporter": "python",
   "pygments_lexer": "ipython3",
   "version": "3.8.5"
  }
 },
 "nbformat": 4,
 "nbformat_minor": 4
}
